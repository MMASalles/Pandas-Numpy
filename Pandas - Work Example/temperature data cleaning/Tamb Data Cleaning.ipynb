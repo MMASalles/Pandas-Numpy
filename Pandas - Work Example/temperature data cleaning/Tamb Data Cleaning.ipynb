{
 "cells": [
  {
   "cell_type": "markdown",
   "metadata": {
    "toc": true
   },
   "source": [
    "<h1>Table of Contents<span class=\"tocSkip\"></span></h1>\n",
    "<div class=\"toc\"><ul class=\"toc-item\"><li><span><a href=\"#Ambient-Temperature-(TAmb)-Data-Filtering-&amp;-Cleaning\" data-toc-modified-id=\"Ambient-Temperature-(TAmb)-Data-Filtering-&amp;-Cleaning-1\"><span class=\"toc-item-num\">1&nbsp;&nbsp;</span>Ambient Temperature (TAmb) Data Filtering &amp; Cleaning</a></span><ul class=\"toc-item\"><li><ul class=\"toc-item\"><li><span><a href=\"#Imports\" data-toc-modified-id=\"Imports-1.0.1\"><span class=\"toc-item-num\">1.0.1&nbsp;&nbsp;</span>Imports</a></span></li><li><span><a href=\"#Load-Data\" data-toc-modified-id=\"Load-Data-1.0.2\"><span class=\"toc-item-num\">1.0.2&nbsp;&nbsp;</span>Load Data</a></span><ul class=\"toc-item\"><li><span><a href=\"#Notes:\" data-toc-modified-id=\"Notes:-1.0.2.1\"><span class=\"toc-item-num\">1.0.2.1&nbsp;&nbsp;</span>Notes:</a></span></li></ul></li><li><span><a href=\"#Check-upload\" data-toc-modified-id=\"Check-upload-1.0.3\"><span class=\"toc-item-num\">1.0.3&nbsp;&nbsp;</span>Check upload</a></span></li></ul></li></ul></li><li><span><a href=\"#STEP-0---CREATE-SUMMARY-DATAFRAME\" data-toc-modified-id=\"STEP-0---CREATE-SUMMARY-DATAFRAME-2\"><span class=\"toc-item-num\">2&nbsp;&nbsp;</span>STEP 0 - CREATE SUMMARY DATAFRAME</a></span></li><li><span><a href=\"#STEP-1---REMOVE-REPEATING-VALUES\" data-toc-modified-id=\"STEP-1---REMOVE-REPEATING-VALUES-3\"><span class=\"toc-item-num\">3&nbsp;&nbsp;</span>STEP 1 - REMOVE REPEATING VALUES</a></span></li><li><span><a href=\"#STEP-2---REMOVING-IDENTICAL-VALUES-ACROSS-SENSORS\" data-toc-modified-id=\"STEP-2---REMOVING-IDENTICAL-VALUES-ACROSS-SENSORS-4\"><span class=\"toc-item-num\">4&nbsp;&nbsp;</span>STEP 2 - REMOVING IDENTICAL VALUES ACROSS SENSORS</a></span><ul class=\"toc-item\"><li><ul class=\"toc-item\"><li><span><a href=\"#3.2.2-Remove-identical-values\" data-toc-modified-id=\"3.2.2-Remove-identical-values-4.0.1\"><span class=\"toc-item-num\">4.0.1&nbsp;&nbsp;</span>3.2.2 Remove identical values</a></span></li></ul></li></ul></li><li><span><a href=\"#STEP-3---REMOVE-OUTLIERS\" data-toc-modified-id=\"STEP-3---REMOVE-OUTLIERS-5\"><span class=\"toc-item-num\">5&nbsp;&nbsp;</span>STEP 3 - REMOVE OUTLIERS</a></span></li><li><span><a href=\"#STEP-4---FILL-IN-DATA-GAPS-LESS-THAN-3HRS\" data-toc-modified-id=\"STEP-4---FILL-IN-DATA-GAPS-LESS-THAN-3HRS-6\"><span class=\"toc-item-num\">6&nbsp;&nbsp;</span>STEP 4 - FILL IN DATA GAPS LESS THAN 3HRS</a></span></li><li><span><a href=\"#STEP-5---FILL-IN-DATA-GAPS-MORE-THAN-3HRS\" data-toc-modified-id=\"STEP-5---FILL-IN-DATA-GAPS-MORE-THAN-3HRS-7\"><span class=\"toc-item-num\">7&nbsp;&nbsp;</span>STEP 5 - FILL IN DATA GAPS MORE THAN 3HRS</a></span></li><li><span><a href=\"#STEP-6---SAVE-OUTPUT\" data-toc-modified-id=\"STEP-6---SAVE-OUTPUT-8\"><span class=\"toc-item-num\">8&nbsp;&nbsp;</span>STEP 6 - SAVE OUTPUT</a></span></li></ul></div>"
   ]
  },
  {
   "cell_type": "markdown",
   "metadata": {},
   "source": [
    "# Ambient Temperature (TAmb) Data Filtering & Cleaning"
   ]
  },
  {
   "cell_type": "markdown",
   "metadata": {},
   "source": [
    "**Steps in this file:**\n",
    "\n",
    "- **Step 1 -** Repeating values are removed\n",
    "\n",
    "- **Step 2 -** Identical values across pyranometers are removed\n",
    "\n",
    "- **Step 3 -** Outliers (data point two standard deviations or 3% away from the mean) are removed\n",
    "\n",
    "- **Step 4 -** Less than 3hrs gaps: Fill in by lineary interpolation (check start point, end point, and fill linearly) \n",
    "\n",
    "- **Step 5 -** Other timesteps: Null data will be estimated using the previous and next day (same timestep)"
   ]
  },
  {
   "cell_type": "markdown",
   "metadata": {},
   "source": [
    "### Imports"
   ]
  },
  {
   "cell_type": "markdown",
   "metadata": {},
   "source": [
    "Imports for timeseries"
   ]
  },
  {
   "cell_type": "code",
   "execution_count": 1,
   "metadata": {},
   "outputs": [],
   "source": [
    "import pandas as pd \n",
    "import numpy as np\n",
    "import datetime"
   ]
  },
  {
   "cell_type": "markdown",
   "metadata": {},
   "source": [
    "### Load Data"
   ]
  },
  {
   "cell_type": "markdown",
   "metadata": {},
   "source": [
    "#### Notes:\n",
    "-  Setting first column as dataframe index\n",
    "-  Automatically interpreting date-like values as dates through 'parse_dates=True'\n",
    "-  Interpreting dates with format dd/mm/yyyy through 'dayfirst=True'"
   ]
  },
  {
   "cell_type": "code",
   "execution_count": 2,
   "metadata": {},
   "outputs": [],
   "source": [
    "data = pd.read_csv(\"Temp data.csv\",index_col=0, parse_dates=True, dayfirst=True)"
   ]
  },
  {
   "cell_type": "markdown",
   "metadata": {},
   "source": [
    "### Check upload"
   ]
  },
  {
   "cell_type": "code",
   "execution_count": 3,
   "metadata": {},
   "outputs": [
    {
     "name": "stdout",
     "output_type": "stream",
     "text": [
      "<class 'pandas.core.frame.DataFrame'>\n",
      "DatetimeIndex: 12960 entries, 2019-12-01 00:15:00 to 2020-04-14 00:00:00\n",
      "Data columns (total 12 columns):\n",
      " #   Column          Non-Null Count  Dtype  \n",
      "---  ------          --------------  -----  \n",
      " 0   Tamb_sensor_1   12941 non-null  float64\n",
      " 1   Tamb_sensor_2   12941 non-null  float64\n",
      " 2   Tamb_sensor_3   12941 non-null  float64\n",
      " 3   Tamb_sensor_4   12941 non-null  float64\n",
      " 4   Tamb_sensor_5   12941 non-null  float64\n",
      " 5   Tamb_sensor_6   12941 non-null  float64\n",
      " 6   Tamb_sensor_7   12941 non-null  float64\n",
      " 7   Tamb_sensor_8   12941 non-null  float64\n",
      " 8   Tamb_sensor_9   12941 non-null  float64\n",
      " 9   Tamb_sensor_10  12941 non-null  float64\n",
      " 10  Tamb_sensor_11  12941 non-null  float64\n",
      " 11  Tamb_sensor_12  12941 non-null  float64\n",
      "dtypes: float64(12)\n",
      "memory usage: 1.3 MB\n"
     ]
    }
   ],
   "source": [
    "data.info()"
   ]
  },
  {
   "cell_type": "code",
   "execution_count": 4,
   "metadata": {
    "scrolled": true
   },
   "outputs": [
    {
     "data": {
      "text/html": [
       "<div>\n",
       "<style scoped>\n",
       "    .dataframe tbody tr th:only-of-type {\n",
       "        vertical-align: middle;\n",
       "    }\n",
       "\n",
       "    .dataframe tbody tr th {\n",
       "        vertical-align: top;\n",
       "    }\n",
       "\n",
       "    .dataframe thead th {\n",
       "        text-align: right;\n",
       "    }\n",
       "</style>\n",
       "<table border=\"1\" class=\"dataframe\">\n",
       "  <thead>\n",
       "    <tr style=\"text-align: right;\">\n",
       "      <th></th>\n",
       "      <th>Tamb_sensor_1</th>\n",
       "      <th>Tamb_sensor_2</th>\n",
       "      <th>Tamb_sensor_3</th>\n",
       "      <th>Tamb_sensor_4</th>\n",
       "      <th>Tamb_sensor_5</th>\n",
       "      <th>Tamb_sensor_6</th>\n",
       "      <th>Tamb_sensor_7</th>\n",
       "      <th>Tamb_sensor_8</th>\n",
       "      <th>Tamb_sensor_9</th>\n",
       "      <th>Tamb_sensor_10</th>\n",
       "      <th>Tamb_sensor_11</th>\n",
       "      <th>Tamb_sensor_12</th>\n",
       "    </tr>\n",
       "  </thead>\n",
       "  <tbody>\n",
       "    <tr>\n",
       "      <th>2019-12-01 00:15:00</th>\n",
       "      <td>25.18</td>\n",
       "      <td>25.51</td>\n",
       "      <td>25.51</td>\n",
       "      <td>25.42</td>\n",
       "      <td>25.49</td>\n",
       "      <td>25.14</td>\n",
       "      <td>25.64</td>\n",
       "      <td>0.0</td>\n",
       "      <td>25.72</td>\n",
       "      <td>25.97</td>\n",
       "      <td>25.83</td>\n",
       "      <td>26.24</td>\n",
       "    </tr>\n",
       "    <tr>\n",
       "      <th>2019-12-01 00:30:00</th>\n",
       "      <td>24.61</td>\n",
       "      <td>24.98</td>\n",
       "      <td>24.98</td>\n",
       "      <td>25.32</td>\n",
       "      <td>25.06</td>\n",
       "      <td>24.86</td>\n",
       "      <td>24.86</td>\n",
       "      <td>0.0</td>\n",
       "      <td>25.38</td>\n",
       "      <td>25.72</td>\n",
       "      <td>25.47</td>\n",
       "      <td>25.83</td>\n",
       "    </tr>\n",
       "    <tr>\n",
       "      <th>2019-12-01 00:45:00</th>\n",
       "      <td>24.12</td>\n",
       "      <td>24.39</td>\n",
       "      <td>24.39</td>\n",
       "      <td>24.81</td>\n",
       "      <td>24.53</td>\n",
       "      <td>24.38</td>\n",
       "      <td>24.44</td>\n",
       "      <td>0.0</td>\n",
       "      <td>24.88</td>\n",
       "      <td>25.23</td>\n",
       "      <td>24.92</td>\n",
       "      <td>25.26</td>\n",
       "    </tr>\n",
       "    <tr>\n",
       "      <th>2019-12-01 01:00:00</th>\n",
       "      <td>23.75</td>\n",
       "      <td>24.06</td>\n",
       "      <td>24.06</td>\n",
       "      <td>24.43</td>\n",
       "      <td>24.20</td>\n",
       "      <td>23.98</td>\n",
       "      <td>23.99</td>\n",
       "      <td>0.0</td>\n",
       "      <td>24.42</td>\n",
       "      <td>24.81</td>\n",
       "      <td>24.49</td>\n",
       "      <td>24.91</td>\n",
       "    </tr>\n",
       "    <tr>\n",
       "      <th>2019-12-01 01:15:00</th>\n",
       "      <td>23.32</td>\n",
       "      <td>23.72</td>\n",
       "      <td>23.72</td>\n",
       "      <td>24.03</td>\n",
       "      <td>23.87</td>\n",
       "      <td>23.50</td>\n",
       "      <td>23.57</td>\n",
       "      <td>0.0</td>\n",
       "      <td>24.17</td>\n",
       "      <td>24.57</td>\n",
       "      <td>24.28</td>\n",
       "      <td>24.62</td>\n",
       "    </tr>\n",
       "  </tbody>\n",
       "</table>\n",
       "</div>"
      ],
      "text/plain": [
       "                     Tamb_sensor_1  Tamb_sensor_2  Tamb_sensor_3  \\\n",
       "2019-12-01 00:15:00          25.18          25.51          25.51   \n",
       "2019-12-01 00:30:00          24.61          24.98          24.98   \n",
       "2019-12-01 00:45:00          24.12          24.39          24.39   \n",
       "2019-12-01 01:00:00          23.75          24.06          24.06   \n",
       "2019-12-01 01:15:00          23.32          23.72          23.72   \n",
       "\n",
       "                     Tamb_sensor_4  Tamb_sensor_5  Tamb_sensor_6  \\\n",
       "2019-12-01 00:15:00          25.42          25.49          25.14   \n",
       "2019-12-01 00:30:00          25.32          25.06          24.86   \n",
       "2019-12-01 00:45:00          24.81          24.53          24.38   \n",
       "2019-12-01 01:00:00          24.43          24.20          23.98   \n",
       "2019-12-01 01:15:00          24.03          23.87          23.50   \n",
       "\n",
       "                     Tamb_sensor_7  Tamb_sensor_8  Tamb_sensor_9  \\\n",
       "2019-12-01 00:15:00          25.64            0.0          25.72   \n",
       "2019-12-01 00:30:00          24.86            0.0          25.38   \n",
       "2019-12-01 00:45:00          24.44            0.0          24.88   \n",
       "2019-12-01 01:00:00          23.99            0.0          24.42   \n",
       "2019-12-01 01:15:00          23.57            0.0          24.17   \n",
       "\n",
       "                     Tamb_sensor_10  Tamb_sensor_11  Tamb_sensor_12  \n",
       "2019-12-01 00:15:00           25.97           25.83           26.24  \n",
       "2019-12-01 00:30:00           25.72           25.47           25.83  \n",
       "2019-12-01 00:45:00           25.23           24.92           25.26  \n",
       "2019-12-01 01:00:00           24.81           24.49           24.91  \n",
       "2019-12-01 01:15:00           24.57           24.28           24.62  "
      ]
     },
     "execution_count": 4,
     "metadata": {},
     "output_type": "execute_result"
    }
   ],
   "source": [
    "data.head()"
   ]
  },
  {
   "cell_type": "markdown",
   "metadata": {},
   "source": [
    "# STEP 0 - CREATE SUMMARY DATAFRAME"
   ]
  },
  {
   "cell_type": "markdown",
   "metadata": {},
   "source": [
    "This dataframe is used to record the diffent cleaning (sub-)steps, to view impact of each step and ensure the order of the methodology is correct"
   ]
  },
  {
   "cell_type": "code",
   "execution_count": 5,
   "metadata": {},
   "outputs": [],
   "source": [
    "summary_df = pd.DataFrame()"
   ]
  },
  {
   "cell_type": "markdown",
   "metadata": {},
   "source": [
    "Calculate average of initial file"
   ]
  },
  {
   "cell_type": "code",
   "execution_count": 6,
   "metadata": {},
   "outputs": [],
   "source": [
    "summary_df['Step 0'] = data.mean(axis=1)"
   ]
  },
  {
   "cell_type": "markdown",
   "metadata": {},
   "source": [
    "# STEP 1 - REMOVE REPEATING VALUES"
   ]
  },
  {
   "cell_type": "markdown",
   "metadata": {},
   "source": [
    "Panda's diff() function compares n values with their n-1 values\n",
    "\n",
    "Remove values if identical to value in previous timestep, as it indicates a communication error. \n",
    "\n",
    "Also removing values which varied by more than **3 degrees / 10min basis**. This value is arbitrary, and is to be re-assessed if timestep frequency is different."
   ]
  },
  {
   "cell_type": "code",
   "execution_count": 7,
   "metadata": {},
   "outputs": [],
   "source": [
    "data_diff = data.diff()"
   ]
  },
  {
   "cell_type": "code",
   "execution_count": 8,
   "metadata": {},
   "outputs": [],
   "source": [
    "# Iterate through each sensor\n",
    "for sensors in data:\n",
    "\n",
    "    # Remove identical values using diff() function \n",
    "    data[sensors] = np.where(data_diff[sensors] == 0, np.nan, data[sensors])\n",
    "    \n",
    "    # Remove values if previous timestep is erroneous \n",
    "    #data[sensors] = np.where(data_diff[sensors].shift(1) == 0, np.nan, data[sensors])\n",
    "    \n",
    "    # Remove values if following timestep is erroneous\n",
    "    #data[sensors] = np.where(data_diff[sensors].shift(-1) == 0, np.nan, data[sensors])\n",
    "    \n",
    "    # Remove values if change in temperature is greater than +/-3 degrees Celsius / 10min \n",
    "    data[sensors] = np.where((data_diff[sensors] > 3) | (data_diff[sensors] < -3), np.nan, data[sensors])\n",
    "    "
   ]
  },
  {
   "cell_type": "code",
   "execution_count": 9,
   "metadata": {},
   "outputs": [],
   "source": [
    "summary_df['Step 1'] = data.mean(axis=1)"
   ]
  },
  {
   "cell_type": "markdown",
   "metadata": {},
   "source": [
    "# STEP 2 - REMOVING IDENTICAL VALUES ACROSS SENSORS"
   ]
  },
  {
   "cell_type": "markdown",
   "metadata": {},
   "source": [
    "Calculate average (mean) and standard deviation (std)"
   ]
  },
  {
   "cell_type": "code",
   "execution_count": 10,
   "metadata": {},
   "outputs": [],
   "source": [
    "std = data.std(axis=1)"
   ]
  },
  {
   "cell_type": "markdown",
   "metadata": {},
   "source": [
    "### 3.2.2 Remove identical values"
   ]
  },
  {
   "cell_type": "markdown",
   "metadata": {},
   "source": [
    "A standard deviation of 0 mean that all of the temp sensors have the same value, which indicates a communication error."
   ]
  },
  {
   "cell_type": "code",
   "execution_count": 11,
   "metadata": {},
   "outputs": [],
   "source": [
    "# Iterate through each sensor\n",
    "for sensors in data:\n",
    "\n",
    "    # Remove values where standard deviation across timestep is zero\n",
    "    data[sensors] = np.where(std == 0, np.nan, data[sensors])"
   ]
  },
  {
   "cell_type": "code",
   "execution_count": 12,
   "metadata": {},
   "outputs": [],
   "source": [
    "summary_df['Step 2'] = data.mean(axis=1)"
   ]
  },
  {
   "cell_type": "markdown",
   "metadata": {},
   "source": [
    "# STEP 3 - REMOVE OUTLIERS"
   ]
  },
  {
   "cell_type": "markdown",
   "metadata": {},
   "source": [
    "Compare TempSensors value with lowest boundary and higher boundary (between 2 std away from mean, or 3%). "
   ]
  },
  {
   "cell_type": "code",
   "execution_count": 13,
   "metadata": {},
   "outputs": [],
   "source": [
    "pyr_accuracy = 0.03\n",
    "average = data.mean(axis=1)"
   ]
  },
  {
   "cell_type": "code",
   "execution_count": 14,
   "metadata": {},
   "outputs": [],
   "source": [
    "upper_std_boundary = average + (std * 2)\n",
    "lower_std_boundary = average - (std * 2)\n",
    "upper_accuracy_boundary = average * (1 + pyr_accuracy)\n",
    "lower_accuracy_boundary = average * (1 - pyr_accuracy)"
   ]
  },
  {
   "cell_type": "code",
   "execution_count": 15,
   "metadata": {},
   "outputs": [],
   "source": [
    "upper_boundary = np.maximum(upper_std_boundary, upper_accuracy_boundary)\n",
    "lower_boundary = np.minimum(lower_std_boundary, lower_accuracy_boundary)"
   ]
  },
  {
   "cell_type": "markdown",
   "metadata": {},
   "source": [
    "Remove value if outside boundaries otherwise keep values."
   ]
  },
  {
   "cell_type": "code",
   "execution_count": 16,
   "metadata": {},
   "outputs": [],
   "source": [
    "# Iterate through each sensor\n",
    "for sensors in data:\n",
    "\n",
    "    # Remove values outside of either boundaries\n",
    "    data[sensors] = np.where((data[sensors] > upper_boundary) | (data[sensors] < lower_boundary), \n",
    "                                 np.nan, data[sensors])"
   ]
  },
  {
   "cell_type": "code",
   "execution_count": 17,
   "metadata": {},
   "outputs": [],
   "source": [
    "summary_df['Step 3'] = data.mean(axis=1)"
   ]
  },
  {
   "cell_type": "markdown",
   "metadata": {},
   "source": [
    "# STEP 4 - FILL IN DATA GAPS LESS THAN 3HRS"
   ]
  },
  {
   "cell_type": "markdown",
   "metadata": {},
   "source": [
    "Create mask of timesteps with valid data points & null datapoints if part of less than 3hr datagap (18 timesteps)"
   ]
  },
  {
   "cell_type": "markdown",
   "metadata": {},
   "source": [
    "*Solution from JohnE on https://stackoverflow.com/questions/30533021/interpolate-or-extrapolate-only-small-gaps-in-pandas-dataframe*"
   ]
  },
  {
   "cell_type": "code",
   "execution_count": 18,
   "metadata": {},
   "outputs": [],
   "source": [
    "mask = data.copy()\n",
    "\n",
    "# Iterate through each sensor\n",
    "for sensors in data:\n",
    "    \n",
    "    # Create new DataFrame\n",
    "    df = pd.DataFrame(data[sensors])\n",
    "    \n",
    "    #  This column counts the sequences of valid data points and sequences of nulls (resets when it encounters change)\n",
    "    df['new'] = ((df.notnull() != df.shift().notnull()).cumsum())\n",
    "    \n",
    "    # This column filled with 1s is required for the groupby function below  \n",
    "    df['ones'] = 1\n",
    "    \n",
    "    # Add to the mask if sequence is lower than 3hrs (18 timesteps), or contains valid datapoints.\n",
    "    mask[sensors] = (df.groupby('new')['ones'].transform('count') < 18) | data[sensors].notnull()"
   ]
  },
  {
   "cell_type": "markdown",
   "metadata": {},
   "source": [
    "Interpolate any nulls in mask"
   ]
  },
  {
   "cell_type": "code",
   "execution_count": 19,
   "metadata": {
    "scrolled": false
   },
   "outputs": [],
   "source": [
    "data = data.interpolate().bfill()[mask]"
   ]
  },
  {
   "cell_type": "code",
   "execution_count": 20,
   "metadata": {},
   "outputs": [],
   "source": [
    "summary_df['Step 4'] = data.mean(axis=1)"
   ]
  },
  {
   "cell_type": "markdown",
   "metadata": {},
   "source": [
    "# STEP 5 - FILL IN DATA GAPS MORE THAN 3HRS"
   ]
  },
  {
   "cell_type": "code",
   "execution_count": 21,
   "metadata": {},
   "outputs": [],
   "source": [
    "prev = data.copy()\n",
    "next = data.copy()"
   ]
  },
  {
   "cell_type": "code",
   "execution_count": 22,
   "metadata": {},
   "outputs": [],
   "source": [
    "# Iterate through each MET Station\n",
    "for sensors in data:\n",
    "\n",
    "    prev[sensors] = data.groupby([data.index.hour, data.index.minute])[sensors].shift(1)\n",
    "    next[sensors] = data.groupby([data.index.hour, data.index.minute])[sensors].shift(-1)"
   ]
  },
  {
   "cell_type": "markdown",
   "metadata": {},
   "source": [
    "Create DataFrame with (i) replacement values which will be amended, (ii) data shift by +1 day, (iii) data shifted by -1 day"
   ]
  },
  {
   "cell_type": "code",
   "execution_count": 23,
   "metadata": {},
   "outputs": [],
   "source": [
    "replacement = data.copy()\n",
    "replacement = replacement.join(prev, rsuffix='_Prev')\n",
    "replacement = replacement.join(next, rsuffix='_Next')"
   ]
  },
  {
   "cell_type": "markdown",
   "metadata": {},
   "source": [
    "Amend replacement values to equate average between corresponding MET Station's previous and next values"
   ]
  },
  {
   "cell_type": "code",
   "execution_count": 24,
   "metadata": {},
   "outputs": [],
   "source": [
    "# Iterate through each sensor\n",
    "for sensors in data:\n",
    "    replacement[sensors] = replacement[[sensors + '_Prev', sensors + '_Next']].mean(axis=1)"
   ]
  },
  {
   "cell_type": "markdown",
   "metadata": {},
   "source": [
    "Keep only replacement values"
   ]
  },
  {
   "cell_type": "code",
   "execution_count": 25,
   "metadata": {
    "scrolled": true
   },
   "outputs": [],
   "source": [
    "data[~mask] = replacement[~mask]"
   ]
  },
  {
   "cell_type": "code",
   "execution_count": 26,
   "metadata": {},
   "outputs": [],
   "source": [
    "summary_df['Step 5'] = data.mean(axis=1)"
   ]
  },
  {
   "cell_type": "markdown",
   "metadata": {},
   "source": [
    "# STEP 6 - SAVE OUTPUT"
   ]
  },
  {
   "cell_type": "markdown",
   "metadata": {},
   "source": [
    "Save summary"
   ]
  },
  {
   "cell_type": "code",
   "execution_count": 30,
   "metadata": {},
   "outputs": [],
   "source": [
    "summary_df.to_csv(\"Tamb Clean Data - Summary.csv\")"
   ]
  },
  {
   "cell_type": "markdown",
   "metadata": {},
   "source": [
    "Save cleaned data"
   ]
  },
  {
   "cell_type": "code",
   "execution_count": 28,
   "metadata": {},
   "outputs": [],
   "source": [
    "data.to_csv(\"Tamb Clean Data.csv\")"
   ]
  },
  {
   "cell_type": "markdown",
   "metadata": {},
   "source": [
    "Save final output"
   ]
  },
  {
   "cell_type": "code",
   "execution_count": 29,
   "metadata": {
    "scrolled": true
   },
   "outputs": [],
   "source": [
    "final_df = pd.DataFrame(summary_df['Step 5'])\n",
    "final_df.rename(columns={'Step 5':'Tamb (°C)'}, inplace=True)\n",
    "final_df.to_csv(\"Tamb Clean Data - Average.csv\")"
   ]
  },
  {
   "cell_type": "code",
   "execution_count": null,
   "metadata": {},
   "outputs": [],
   "source": []
  }
 ],
 "metadata": {
  "kernelspec": {
   "display_name": "Python 3 (ipykernel)",
   "language": "python",
   "name": "python3"
  },
  "language_info": {
   "codemirror_mode": {
    "name": "ipython",
    "version": 3
   },
   "file_extension": ".py",
   "mimetype": "text/x-python",
   "name": "python",
   "nbconvert_exporter": "python",
   "pygments_lexer": "ipython3",
   "version": "3.10.1"
  },
  "toc": {
   "base_numbering": 1,
   "nav_menu": {},
   "number_sections": true,
   "sideBar": true,
   "skip_h1_title": false,
   "title_cell": "Table of Contents",
   "title_sidebar": "Contents",
   "toc_cell": true,
   "toc_position": {},
   "toc_section_display": true,
   "toc_window_display": false
  }
 },
 "nbformat": 4,
 "nbformat_minor": 2
}
