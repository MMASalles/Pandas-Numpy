{
 "cells": [
  {
   "cell_type": "markdown",
   "metadata": {
    "toc": true
   },
   "source": [
    "<h1>Table of Contents<span class=\"tocSkip\"></span></h1>\n",
    "<div class=\"toc\"><ul class=\"toc-item\"><li><span><a href=\"#Duplicated-&amp;-Missing-Timesteps\" data-toc-modified-id=\"Duplicated-&amp;-Missing-Timesteps-1\"><span class=\"toc-item-num\">1&nbsp;&nbsp;</span>Duplicated &amp; Missing Timesteps</a></span><ul class=\"toc-item\"><li><ul class=\"toc-item\"><li><ul class=\"toc-item\"><li><span><a href=\"#This-file-covers-the-following-methodologies:\" data-toc-modified-id=\"This-file-covers-the-following-methodologies:-1.0.0.1\"><span class=\"toc-item-num\">1.0.0.1&nbsp;&nbsp;</span>This file covers the following methodologies:</a></span></li></ul></li></ul></li><li><span><a href=\"#Imports\" data-toc-modified-id=\"Imports-1.1\"><span class=\"toc-item-num\">1.1&nbsp;&nbsp;</span>Imports</a></span></li><li><span><a href=\"#Load-Data\" data-toc-modified-id=\"Load-Data-1.2\"><span class=\"toc-item-num\">1.2&nbsp;&nbsp;</span>Load Data</a></span></li></ul></li><li><span><a href=\"#INITIALISATION\" data-toc-modified-id=\"INITIALISATION-2\"><span class=\"toc-item-num\">2&nbsp;&nbsp;</span>INITIALISATION</a></span><ul class=\"toc-item\"><li><span><a href=\"#Define-data-details\" data-toc-modified-id=\"Define-data-details-2.1\"><span class=\"toc-item-num\">2.1&nbsp;&nbsp;</span>Define data details</a></span></li><li><span><a href=\"#Ensure-chronological-index\" data-toc-modified-id=\"Ensure-chronological-index-2.2\"><span class=\"toc-item-num\">2.2&nbsp;&nbsp;</span>Ensure chronological index</a></span></li><li><span><a href=\"#Select-period-of-interest\" data-toc-modified-id=\"Select-period-of-interest-2.3\"><span class=\"toc-item-num\">2.3&nbsp;&nbsp;</span>Select period of interest</a></span></li></ul></li><li><span><a href=\"#DUPLICATED-TIMESTEPS\" data-toc-modified-id=\"DUPLICATED-TIMESTEPS-3\"><span class=\"toc-item-num\">3&nbsp;&nbsp;</span>DUPLICATED TIMESTEPS</a></span><ul class=\"toc-item\"><li><span><a href=\"#Find-duplicated-timesteps\" data-toc-modified-id=\"Find-duplicated-timesteps-3.1\"><span class=\"toc-item-num\">3.1&nbsp;&nbsp;</span>Find duplicated timesteps</a></span></li><li><span><a href=\"#Remove-duplicated-timesteps\" data-toc-modified-id=\"Remove-duplicated-timesteps-3.2\"><span class=\"toc-item-num\">3.2&nbsp;&nbsp;</span>Remove duplicated timesteps</a></span></li></ul></li><li><span><a href=\"#MISSING-TIMESTEPS\" data-toc-modified-id=\"MISSING-TIMESTEPS-4\"><span class=\"toc-item-num\">4&nbsp;&nbsp;</span>MISSING TIMESTEPS</a></span><ul class=\"toc-item\"><li><span><a href=\"#Create-correct-index\" data-toc-modified-id=\"Create-correct-index-4.1\"><span class=\"toc-item-num\">4.1&nbsp;&nbsp;</span>Create correct index</a></span></li><li><span><a href=\"#Find-missing-timesteps\" data-toc-modified-id=\"Find-missing-timesteps-4.2\"><span class=\"toc-item-num\">4.2&nbsp;&nbsp;</span>Find missing timesteps</a></span></li><li><span><a href=\"#Add-missing-timesteps\" data-toc-modified-id=\"Add-missing-timesteps-4.3\"><span class=\"toc-item-num\">4.3&nbsp;&nbsp;</span>Add missing timesteps</a></span></li></ul></li><li><span><a href=\"#SAVE-OUTPUT\" data-toc-modified-id=\"SAVE-OUTPUT-5\"><span class=\"toc-item-num\">5&nbsp;&nbsp;</span>SAVE OUTPUT</a></span></li></ul></div>"
   ]
  },
  {
   "cell_type": "markdown",
   "metadata": {},
   "source": [
    "# Duplicated & Missing Timesteps"
   ]
  },
  {
   "cell_type": "markdown",
   "metadata": {},
   "source": [
    "#### This file covers the following methodologies:\n",
    "\n",
    "- initialisation\n",
    "- sort datetime index\n",
    "\n",
    "\n",
    "- find duplicated timesteps\n",
    "- remove duplicated timesteps \n",
    "\n",
    "\n",
    "- find missing timesteps\n",
    "- add missing timesteps"
   ]
  },
  {
   "cell_type": "markdown",
   "metadata": {},
   "source": [
    "**CARE MUST BE TAKEN WITH REGARD TO MIDNIGHT VALUES - PANDAS INTEPRETS THEM AS FIRST VALUE OF SPECIFIC DAY, NOT LAST!**\n",
    "\n",
    "*E.g. 01/01/2000 00:00:00 will be preceeded by 31/12/1999 23:59:59 and succeeded by 01/01/2000 00:00:01*"
   ]
  },
  {
   "cell_type": "markdown",
   "metadata": {},
   "source": [
    "## Imports"
   ]
  },
  {
   "cell_type": "code",
   "execution_count": 1,
   "metadata": {},
   "outputs": [],
   "source": [
    "import pandas as pd \n",
    "import numpy as np\n",
    "import datetime"
   ]
  },
  {
   "cell_type": "markdown",
   "metadata": {},
   "source": [
    "## Load Data"
   ]
  },
  {
   "cell_type": "code",
   "execution_count": 2,
   "metadata": {},
   "outputs": [],
   "source": [
    "DATA = pd.read_excel(\"Data Example.xlsx\",index_col=0, parse_dates=True, dayfirst=True)"
   ]
  },
  {
   "cell_type": "markdown",
   "metadata": {},
   "source": [
    "# INITIALISATION"
   ]
  },
  {
   "cell_type": "markdown",
   "metadata": {},
   "source": [
    "## Define data details"
   ]
  },
  {
   "cell_type": "code",
   "execution_count": 3,
   "metadata": {},
   "outputs": [],
   "source": [
    "file_name  = 'Data Example'\n",
    "plant_name = 'PV Plant'\n",
    "\n",
    "start_date = '2019-12-01 00:00:00'\n",
    "end_date   = '2020-04-14 00:00:00'\n",
    "frequency  = '15T' # 'T' for minutes, 'H' for hours, 'D' for days, \n",
    "                   # for more check https://docs.python.org/3/library/datetime.html#strftime-and-strptime-behavior\n",
    "    \n",
    "output_file_name = '1 ' + plant_name + ' - ' + file_name + ' ' + frequency + ' - Timestep Cleaning.csv' "
   ]
  },
  {
   "cell_type": "markdown",
   "metadata": {},
   "source": [
    "## Ensure chronological index"
   ]
  },
  {
   "cell_type": "markdown",
   "metadata": {},
   "source": [
    "This step is to ensure that files with unsorted dates do not get incorrect dates overwritten in following steps"
   ]
  },
  {
   "cell_type": "code",
   "execution_count": 4,
   "metadata": {
    "scrolled": false
   },
   "outputs": [],
   "source": [
    "DATA.sort_index(inplace=True)"
   ]
  },
  {
   "cell_type": "markdown",
   "metadata": {},
   "source": [
    "## Select period of interest"
   ]
  },
  {
   "cell_type": "markdown",
   "metadata": {},
   "source": [
    "Ensures any timesteps outside our interest is excluded"
   ]
  },
  {
   "cell_type": "code",
   "execution_count": 5,
   "metadata": {},
   "outputs": [],
   "source": [
    "DATA = DATA.loc[start_date:end_date]"
   ]
  },
  {
   "cell_type": "markdown",
   "metadata": {},
   "source": [
    " \n"
   ]
  },
  {
   "cell_type": "markdown",
   "metadata": {},
   "source": [
    "# DUPLICATED TIMESTEPS"
   ]
  },
  {
   "cell_type": "markdown",
   "metadata": {},
   "source": [
    "## Find duplicated timesteps"
   ]
  },
  {
   "cell_type": "code",
   "execution_count": 6,
   "metadata": {},
   "outputs": [
    {
     "name": "stdout",
     "output_type": "stream",
     "text": [
      "11 duplicated timestamps were found\n"
     ]
    }
   ],
   "source": [
    "duplicates = DATA.index.duplicated(keep='first') # you may also show (keep) 'last' instance or all instance ('False')\n",
    "\n",
    "\n",
    "print(np.sum(duplicates), 'duplicated timestamps were found')"
   ]
  },
  {
   "cell_type": "code",
   "execution_count": 7,
   "metadata": {},
   "outputs": [
    {
     "data": {
      "text/html": [
       "<div>\n",
       "<style scoped>\n",
       "    .dataframe tbody tr th:only-of-type {\n",
       "        vertical-align: middle;\n",
       "    }\n",
       "\n",
       "    .dataframe tbody tr th {\n",
       "        vertical-align: top;\n",
       "    }\n",
       "\n",
       "    .dataframe thead th {\n",
       "        text-align: right;\n",
       "    }\n",
       "</style>\n",
       "<table border=\"1\" class=\"dataframe\">\n",
       "  <thead>\n",
       "    <tr style=\"text-align: right;\">\n",
       "      <th></th>\n",
       "      <th>GHI</th>\n",
       "      <th>GII</th>\n",
       "      <th>Tamb</th>\n",
       "      <th>Active Power (kW)</th>\n",
       "    </tr>\n",
       "    <tr>\n",
       "      <th>Date &amp; Time</th>\n",
       "      <th></th>\n",
       "      <th></th>\n",
       "      <th></th>\n",
       "      <th></th>\n",
       "    </tr>\n",
       "  </thead>\n",
       "  <tbody>\n",
       "    <tr>\n",
       "      <th>2019-12-01 05:00:00</th>\n",
       "      <td>0.003333</td>\n",
       "      <td>0.16000</td>\n",
       "      <td>17.054167</td>\n",
       "      <td>-179.428</td>\n",
       "    </tr>\n",
       "    <tr>\n",
       "      <th>2019-12-01 05:00:00</th>\n",
       "      <td>0.003333</td>\n",
       "      <td>0.16000</td>\n",
       "      <td>17.054167</td>\n",
       "      <td>-179.428</td>\n",
       "    </tr>\n",
       "    <tr>\n",
       "      <th>2019-12-02 09:00:00</th>\n",
       "      <td>720.986667</td>\n",
       "      <td>838.64500</td>\n",
       "      <td>25.784167</td>\n",
       "      <td>76507.587</td>\n",
       "    </tr>\n",
       "    <tr>\n",
       "      <th>2019-12-02 09:15:00</th>\n",
       "      <td>788.025000</td>\n",
       "      <td>876.82250</td>\n",
       "      <td>26.210833</td>\n",
       "      <td>76761.911</td>\n",
       "    </tr>\n",
       "    <tr>\n",
       "      <th>2019-12-02 09:30:00</th>\n",
       "      <td>844.051667</td>\n",
       "      <td>869.17750</td>\n",
       "      <td>26.682500</td>\n",
       "      <td>74379.396</td>\n",
       "    </tr>\n",
       "    <tr>\n",
       "      <th>2019-12-02 09:45:00</th>\n",
       "      <td>690.058333</td>\n",
       "      <td>670.04750</td>\n",
       "      <td>26.876667</td>\n",
       "      <td>60443.127</td>\n",
       "    </tr>\n",
       "    <tr>\n",
       "      <th>2019-12-02 10:00:00</th>\n",
       "      <td>903.568333</td>\n",
       "      <td>873.65625</td>\n",
       "      <td>27.273333</td>\n",
       "      <td>73921.353</td>\n",
       "    </tr>\n",
       "    <tr>\n",
       "      <th>2019-12-02 10:15:00</th>\n",
       "      <td>956.518333</td>\n",
       "      <td>915.41750</td>\n",
       "      <td>27.755000</td>\n",
       "      <td>76766.153</td>\n",
       "    </tr>\n",
       "    <tr>\n",
       "      <th>2019-12-02 10:30:00</th>\n",
       "      <td>1005.673333</td>\n",
       "      <td>916.39375</td>\n",
       "      <td>28.109167</td>\n",
       "      <td>74675.041</td>\n",
       "    </tr>\n",
       "    <tr>\n",
       "      <th>2019-12-02 10:45:00</th>\n",
       "      <td>969.638333</td>\n",
       "      <td>906.29500</td>\n",
       "      <td>28.314167</td>\n",
       "      <td>71066.942</td>\n",
       "    </tr>\n",
       "    <tr>\n",
       "      <th>2019-12-02 11:00:00</th>\n",
       "      <td>1029.618333</td>\n",
       "      <td>917.25500</td>\n",
       "      <td>28.620000</td>\n",
       "      <td>71435.914</td>\n",
       "    </tr>\n",
       "  </tbody>\n",
       "</table>\n",
       "</div>"
      ],
      "text/plain": [
       "                             GHI        GII       Tamb  Active Power (kW)\n",
       "Date & Time                                                              \n",
       "2019-12-01 05:00:00     0.003333    0.16000  17.054167           -179.428\n",
       "2019-12-01 05:00:00     0.003333    0.16000  17.054167           -179.428\n",
       "2019-12-02 09:00:00   720.986667  838.64500  25.784167          76507.587\n",
       "2019-12-02 09:15:00   788.025000  876.82250  26.210833          76761.911\n",
       "2019-12-02 09:30:00   844.051667  869.17750  26.682500          74379.396\n",
       "2019-12-02 09:45:00   690.058333  670.04750  26.876667          60443.127\n",
       "2019-12-02 10:00:00   903.568333  873.65625  27.273333          73921.353\n",
       "2019-12-02 10:15:00   956.518333  915.41750  27.755000          76766.153\n",
       "2019-12-02 10:30:00  1005.673333  916.39375  28.109167          74675.041\n",
       "2019-12-02 10:45:00   969.638333  906.29500  28.314167          71066.942\n",
       "2019-12-02 11:00:00  1029.618333  917.25500  28.620000          71435.914"
      ]
     },
     "execution_count": 7,
     "metadata": {},
     "output_type": "execute_result"
    }
   ],
   "source": [
    "DATA.loc[duplicates]"
   ]
  },
  {
   "cell_type": "markdown",
   "metadata": {},
   "source": [
    "## Remove duplicated timesteps"
   ]
  },
  {
   "cell_type": "code",
   "execution_count": 8,
   "metadata": {
    "scrolled": true
   },
   "outputs": [],
   "source": [
    "DATA = DATA[~duplicates]"
   ]
  },
  {
   "cell_type": "markdown",
   "metadata": {},
   "source": [
    "# MISSING TIMESTEPS\n",
    "\n",
    "**NOTE:** Prior to adding missing timesteps, **ensure there are no duplicates in original data set**, else this will result in an error"
   ]
  },
  {
   "cell_type": "markdown",
   "metadata": {},
   "source": [
    "## Create correct index"
   ]
  },
  {
   "cell_type": "markdown",
   "metadata": {},
   "source": [
    "Create a seperate DataFrame, with datetime index with correct starting & ending datetimes and frequency"
   ]
  },
  {
   "cell_type": "code",
   "execution_count": 9,
   "metadata": {},
   "outputs": [],
   "source": [
    "ref_df = pd.DataFrame(index = pd.date_range(start=start_date, end=end_date, freq=frequency))"
   ]
  },
  {
   "cell_type": "markdown",
   "metadata": {},
   "source": [
    "## Find missing timesteps"
   ]
  },
  {
   "cell_type": "markdown",
   "metadata": {},
   "source": [
    "Compare the correct index, with that of the data file "
   ]
  },
  {
   "cell_type": "code",
   "execution_count": 10,
   "metadata": {},
   "outputs": [
    {
     "name": "stdout",
     "output_type": "stream",
     "text": [
      "25 missing timestamps were found\n"
     ]
    }
   ],
   "source": [
    "# find missing date by requesting dates from correct index not in data file ('~' means NOT)\n",
    "missing_timestamps = ref_df.index[~ref_df.index.isin(DATA.index)]\n",
    "\n",
    "print(len(missing_timestamps), 'missing timestamps were found')"
   ]
  },
  {
   "cell_type": "code",
   "execution_count": 11,
   "metadata": {},
   "outputs": [
    {
     "data": {
      "text/plain": [
       "DatetimeIndex(['2019-12-01 00:00:00', '2019-12-01 13:45:00',\n",
       "               '2019-12-01 14:00:00', '2019-12-01 14:15:00',\n",
       "               '2019-12-01 14:30:00', '2019-12-01 14:45:00',\n",
       "               '2019-12-01 15:00:00', '2020-01-18 15:45:00',\n",
       "               '2020-01-18 16:00:00', '2020-01-18 16:15:00',\n",
       "               '2020-01-18 16:30:00', '2020-01-18 16:45:00',\n",
       "               '2020-01-18 17:00:00', '2020-01-18 17:15:00',\n",
       "               '2020-01-18 17:30:00', '2020-01-18 17:45:00',\n",
       "               '2020-01-18 18:00:00', '2020-01-18 18:15:00',\n",
       "               '2020-02-02 20:15:00', '2020-02-02 20:30:00',\n",
       "               '2020-02-02 20:45:00', '2020-02-02 21:00:00',\n",
       "               '2020-02-02 21:15:00', '2020-02-02 21:30:00',\n",
       "               '2020-04-14 00:00:00'],\n",
       "              dtype='datetime64[ns]', freq=None)"
      ]
     },
     "execution_count": 11,
     "metadata": {},
     "output_type": "execute_result"
    }
   ],
   "source": [
    "missing_timestamps"
   ]
  },
  {
   "cell_type": "markdown",
   "metadata": {},
   "source": [
    "## Add missing timesteps\n",
    "Reindex will assign all corresponding values from input files to identical indices, filling empty timesteps with 'nan' (not a number)\n",
    "\n",
    "**NOTE:** Prior to adding missing timesteps, **ensure there are no duplicates in original data set**, else this will result in an error"
   ]
  },
  {
   "cell_type": "code",
   "execution_count": 12,
   "metadata": {},
   "outputs": [
    {
     "name": "stdout",
     "output_type": "stream",
     "text": [
      "25 missing timesteps were added\n"
     ]
    }
   ],
   "source": [
    "# Reindex & update main object\n",
    "DATA = DATA.reindex(ref_df.index)\n",
    "\n",
    "print(f\"{len(missing_timestamps)} missing timesteps were added\")"
   ]
  },
  {
   "cell_type": "markdown",
   "metadata": {},
   "source": [
    "# SAVE OUTPUT"
   ]
  },
  {
   "cell_type": "markdown",
   "metadata": {},
   "source": [
    "Check output"
   ]
  },
  {
   "cell_type": "code",
   "execution_count": 13,
   "metadata": {
    "scrolled": true
   },
   "outputs": [
    {
     "name": "stdout",
     "output_type": "stream",
     "text": [
      "<class 'pandas.core.frame.DataFrame'>\n",
      "DatetimeIndex: 12961 entries, 2019-12-01 00:00:00 to 2020-04-14 00:00:00\n",
      "Freq: 15T\n",
      "Data columns (total 4 columns):\n",
      "GHI                  12936 non-null float64\n",
      "GII                  12936 non-null float64\n",
      "Tamb                 12935 non-null float64\n",
      "Active Power (kW)    12935 non-null float64\n",
      "dtypes: float64(4)\n",
      "memory usage: 506.3 KB\n"
     ]
    }
   ],
   "source": [
    "DATA.info()"
   ]
  },
  {
   "cell_type": "code",
   "execution_count": 14,
   "metadata": {},
   "outputs": [],
   "source": [
    "DATA.to_csv(output_file_name)"
   ]
  }
 ],
 "metadata": {
  "kernelspec": {
   "display_name": "Python 3 (ipykernel)",
   "language": "python",
   "name": "python3"
  },
  "language_info": {
   "codemirror_mode": {
    "name": "ipython",
    "version": 3
   },
   "file_extension": ".py",
   "mimetype": "text/x-python",
   "name": "python",
   "nbconvert_exporter": "python",
   "pygments_lexer": "ipython3",
   "version": "3.10.1"
  },
  "toc": {
   "base_numbering": 1,
   "nav_menu": {},
   "number_sections": true,
   "sideBar": true,
   "skip_h1_title": false,
   "title_cell": "Table of Contents",
   "title_sidebar": "Contents",
   "toc_cell": true,
   "toc_position": {},
   "toc_section_display": true,
   "toc_window_display": false
  }
 },
 "nbformat": 4,
 "nbformat_minor": 2
}
