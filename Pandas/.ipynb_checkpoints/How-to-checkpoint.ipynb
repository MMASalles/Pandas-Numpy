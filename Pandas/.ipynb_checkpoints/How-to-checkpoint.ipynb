{
 "cells": [
  {
   "cell_type": "markdown",
   "id": "4fbe4843",
   "metadata": {
    "heading_collapsed": true
   },
   "source": [
    "# Library Imports"
   ]
  },
  {
   "cell_type": "code",
   "execution_count": 1,
   "id": "06e0ebb5",
   "metadata": {
    "hidden": true
   },
   "outputs": [],
   "source": [
    "import pandas as pd"
   ]
  },
  {
   "cell_type": "raw",
   "id": "61cf22ee",
   "metadata": {
    "hidden": true
   },
   "source": [
    "# If not already installed on your machines, run this line of code\n",
    "# Before re-running line above\n",
    "!pip install pandas\n",
    "!pip install numpy"
   ]
  },
  {
   "cell_type": "markdown",
   "id": "654f3964",
   "metadata": {
    "heading_collapsed": true
   },
   "source": [
    "# Importing Excel files"
   ]
  },
  {
   "cell_type": "markdown",
   "id": "56c2377d",
   "metadata": {
    "heading_collapsed": true,
    "hidden": true
   },
   "source": [
    "## Documentation"
   ]
  },
  {
   "cell_type": "markdown",
   "id": "6f621c5e",
   "metadata": {
    "hidden": true
   },
   "source": [
    "[Documentation](https://pandas.pydata.org/pandas-docs/stable/reference/api/pandas.read_excel.html) of `read_excel` function\n",
    "\n",
    "*It can also be accessed in Jupyter Notebook with `Shift + Tab` when cursor is placed within function brackets*"
   ]
  },
  {
   "cell_type": "markdown",
   "id": "451b0b43",
   "metadata": {
    "heading_collapsed": true,
    "hidden": true
   },
   "source": [
    "## Importing excel file (.xlsx)"
   ]
  },
  {
   "cell_type": "code",
   "execution_count": 2,
   "id": "f387aa7e",
   "metadata": {
    "hidden": true
   },
   "outputs": [],
   "source": [
    "# Reading excel file (.xls / .xlsx) from same folder\n",
    "data = pd.read_excel('Data file.xlsx')                # Note the file format added at the end of file name!"
   ]
  },
  {
   "cell_type": "markdown",
   "id": "19f85609",
   "metadata": {
    "hidden": true
   },
   "source": [
    "### Common error"
   ]
  },
  {
   "cell_type": "markdown",
   "id": "b10723a6",
   "metadata": {
    "hidden": true
   },
   "source": [
    "- The excel file must be located in **same folder** as python file, unless other location is specified\n",
    "- The excel file to be read must be **closed**, otherwise a **Permission Error** will arise"
   ]
  },
  {
   "cell_type": "code",
   "execution_count": 3,
   "id": "2274f862",
   "metadata": {
    "hidden": true
   },
   "outputs": [
    {
     "data": {
      "text/html": [
       "<div>\n",
       "<style scoped>\n",
       "    .dataframe tbody tr th:only-of-type {\n",
       "        vertical-align: middle;\n",
       "    }\n",
       "\n",
       "    .dataframe tbody tr th {\n",
       "        vertical-align: top;\n",
       "    }\n",
       "\n",
       "    .dataframe thead th {\n",
       "        text-align: right;\n",
       "    }\n",
       "</style>\n",
       "<table border=\"1\" class=\"dataframe\">\n",
       "  <thead>\n",
       "    <tr style=\"text-align: right;\">\n",
       "      <th></th>\n",
       "      <th>Month</th>\n",
       "      <th>Energy</th>\n",
       "    </tr>\n",
       "  </thead>\n",
       "  <tbody>\n",
       "    <tr>\n",
       "      <th>0</th>\n",
       "      <td>January</td>\n",
       "      <td>2844</td>\n",
       "    </tr>\n",
       "    <tr>\n",
       "      <th>1</th>\n",
       "      <td>February</td>\n",
       "      <td>3726</td>\n",
       "    </tr>\n",
       "    <tr>\n",
       "      <th>2</th>\n",
       "      <td>March</td>\n",
       "      <td>4780</td>\n",
       "    </tr>\n",
       "    <tr>\n",
       "      <th>3</th>\n",
       "      <td>April</td>\n",
       "      <td>4892</td>\n",
       "    </tr>\n",
       "    <tr>\n",
       "      <th>4</th>\n",
       "      <td>May</td>\n",
       "      <td>5550</td>\n",
       "    </tr>\n",
       "  </tbody>\n",
       "</table>\n",
       "</div>"
      ],
      "text/plain": [
       "      Month  Energy\n",
       "0   January    2844\n",
       "1  February    3726\n",
       "2     March    4780\n",
       "3     April    4892\n",
       "4       May    5550"
      ]
     },
     "execution_count": 3,
     "metadata": {},
     "output_type": "execute_result"
    }
   ],
   "source": [
    "data.head()"
   ]
  },
  {
   "cell_type": "markdown",
   "id": "7ec66899",
   "metadata": {
    "heading_collapsed": true,
    "hidden": true
   },
   "source": [
    "## Importing csv file (.csv)"
   ]
  },
  {
   "cell_type": "code",
   "execution_count": 4,
   "id": "b0dbeff3",
   "metadata": {
    "hidden": true
   },
   "outputs": [],
   "source": [
    "# Reading csv file (.csv) from same folder\n",
    "data = pd.read_csv('Data file.csv')                 # Note the file format added at the end of file name!"
   ]
  },
  {
   "cell_type": "code",
   "execution_count": 5,
   "id": "1d6a6503",
   "metadata": {
    "hidden": true,
    "scrolled": true
   },
   "outputs": [
    {
     "data": {
      "text/html": [
       "<div>\n",
       "<style scoped>\n",
       "    .dataframe tbody tr th:only-of-type {\n",
       "        vertical-align: middle;\n",
       "    }\n",
       "\n",
       "    .dataframe tbody tr th {\n",
       "        vertical-align: top;\n",
       "    }\n",
       "\n",
       "    .dataframe thead th {\n",
       "        text-align: right;\n",
       "    }\n",
       "</style>\n",
       "<table border=\"1\" class=\"dataframe\">\n",
       "  <thead>\n",
       "    <tr style=\"text-align: right;\">\n",
       "      <th></th>\n",
       "      <th>Month</th>\n",
       "      <th>Energy</th>\n",
       "    </tr>\n",
       "  </thead>\n",
       "  <tbody>\n",
       "    <tr>\n",
       "      <th>0</th>\n",
       "      <td>January</td>\n",
       "      <td>2,844</td>\n",
       "    </tr>\n",
       "    <tr>\n",
       "      <th>1</th>\n",
       "      <td>February</td>\n",
       "      <td>3,726</td>\n",
       "    </tr>\n",
       "    <tr>\n",
       "      <th>2</th>\n",
       "      <td>March</td>\n",
       "      <td>4,780</td>\n",
       "    </tr>\n",
       "    <tr>\n",
       "      <th>3</th>\n",
       "      <td>April</td>\n",
       "      <td>4,892</td>\n",
       "    </tr>\n",
       "    <tr>\n",
       "      <th>4</th>\n",
       "      <td>May</td>\n",
       "      <td>5,550</td>\n",
       "    </tr>\n",
       "  </tbody>\n",
       "</table>\n",
       "</div>"
      ],
      "text/plain": [
       "      Month Energy\n",
       "0   January  2,844\n",
       "1  February  3,726\n",
       "2     March  4,780\n",
       "3     April  4,892\n",
       "4       May  5,550"
      ]
     },
     "execution_count": 5,
     "metadata": {},
     "output_type": "execute_result"
    }
   ],
   "source": [
    "data.head()"
   ]
  },
  {
   "cell_type": "markdown",
   "id": "def77788",
   "metadata": {
    "heading_collapsed": true,
    "hidden": true
   },
   "source": [
    "## Importing from other location"
   ]
  },
  {
   "cell_type": "markdown",
   "id": "e7d44cc9",
   "metadata": {
    "hidden": true
   },
   "source": [
    "To import from another location, the code requires the name & location of the folder, either:\n",
    "- **Relative** from current working folder (running python file)\n",
    "- **Absolute** path from C:\\ drive (exact location i.e. copy-paste from folder address)"
   ]
  },
  {
   "cell_type": "markdown",
   "id": "a1b5f6c8",
   "metadata": {
    "hidden": true
   },
   "source": [
    "### Relative path imports"
   ]
  },
  {
   "cell_type": "code",
   "execution_count": 6,
   "id": "cda6267b",
   "metadata": {
    "hidden": true
   },
   "outputs": [],
   "source": [
    "# A relative path can be input directly as a 'file name'\n",
    "data = pd.read_csv(r'data/Data file.csv')                  "
   ]
  },
  {
   "cell_type": "markdown",
   "id": "5c3efcee",
   "metadata": {
    "hidden": true
   },
   "source": [
    "*Note the **r'...'** - allows the content within '...' to be interpreted as text, not code and therefore \" \\ \", \" . \" , \" & \" and other characters can be used*"
   ]
  },
  {
   "cell_type": "markdown",
   "id": "24af6169",
   "metadata": {
    "hidden": true
   },
   "source": [
    "Useful characters:\n",
    "- **Forward dash** ( \" r / folder name / file name.csv \" ) to go into 'child' sub-folder\n",
    "- **Double dots** ( \" r /  ..  / file name.csv \" ) to go into parent folder \n",
    "- Chaining to reach specific folder ( \" r / .. / .. / folder 1 / sub-folder 1 / file name.csv \")"
   ]
  },
  {
   "cell_type": "markdown",
   "id": "85b267cb",
   "metadata": {
    "hidden": true
   },
   "source": [
    "### Absolute path imports"
   ]
  },
  {
   "cell_type": "code",
   "execution_count": 9,
   "id": "e89d9bdb",
   "metadata": {
    "hidden": true
   },
   "outputs": [],
   "source": [
    "# Absolute paths can also be input directly as a 'file name' \n",
    "data = pd.read_csv(r'C:\\Users\\SAL78940\\OneDrive - Mott MacDonald\\Desktop\\Data file.csv')"
   ]
  },
  {
   "cell_type": "markdown",
   "id": "3e03675b",
   "metadata": {
    "hidden": true
   },
   "source": [
    "*Note this file path is usually specific to each users & will need to be changed if sharing code with colleagues*"
   ]
  },
  {
   "cell_type": "markdown",
   "id": "3dd40b6f",
   "metadata": {
    "heading_collapsed": true,
    "hidden": true
   },
   "source": [
    "## Useful import function parameters"
   ]
  },
  {
   "cell_type": "markdown",
   "id": "c8c57e41",
   "metadata": {
    "heading_collapsed": true,
    "hidden": true
   },
   "source": [
    "### Importing specific sheet"
   ]
  },
  {
   "cell_type": "code",
   "execution_count": 10,
   "id": "0ba376f2",
   "metadata": {
    "hidden": true
   },
   "outputs": [],
   "source": [
    "data = pd.read_excel('./data/Data file.xlsx', sheet_name='Hourly')"
   ]
  },
  {
   "cell_type": "code",
   "execution_count": 11,
   "id": "01e8dfe8",
   "metadata": {
    "hidden": true,
    "scrolled": true
   },
   "outputs": [
    {
     "data": {
      "text/html": [
       "<div>\n",
       "<style scoped>\n",
       "    .dataframe tbody tr th:only-of-type {\n",
       "        vertical-align: middle;\n",
       "    }\n",
       "\n",
       "    .dataframe tbody tr th {\n",
       "        vertical-align: top;\n",
       "    }\n",
       "\n",
       "    .dataframe thead th {\n",
       "        text-align: right;\n",
       "    }\n",
       "</style>\n",
       "<table border=\"1\" class=\"dataframe\">\n",
       "  <thead>\n",
       "    <tr style=\"text-align: right;\">\n",
       "      <th></th>\n",
       "      <th>Date</th>\n",
       "      <th>METER</th>\n",
       "    </tr>\n",
       "  </thead>\n",
       "  <tbody>\n",
       "    <tr>\n",
       "      <th>0</th>\n",
       "      <td>2019-12-01 00:30:00</td>\n",
       "      <td>-175.244</td>\n",
       "    </tr>\n",
       "    <tr>\n",
       "      <th>1</th>\n",
       "      <td>2019-12-01 01:30:00</td>\n",
       "      <td>-179.332</td>\n",
       "    </tr>\n",
       "    <tr>\n",
       "      <th>2</th>\n",
       "      <td>2019-12-01 02:30:00</td>\n",
       "      <td>-188.848</td>\n",
       "    </tr>\n",
       "    <tr>\n",
       "      <th>3</th>\n",
       "      <td>2019-12-01 03:30:00</td>\n",
       "      <td>-191.579</td>\n",
       "    </tr>\n",
       "    <tr>\n",
       "      <th>4</th>\n",
       "      <td>2019-12-01 04:30:00</td>\n",
       "      <td>-179.579</td>\n",
       "    </tr>\n",
       "  </tbody>\n",
       "</table>\n",
       "</div>"
      ],
      "text/plain": [
       "                 Date    METER\n",
       "0 2019-12-01 00:30:00 -175.244\n",
       "1 2019-12-01 01:30:00 -179.332\n",
       "2 2019-12-01 02:30:00 -188.848\n",
       "3 2019-12-01 03:30:00 -191.579\n",
       "4 2019-12-01 04:30:00 -179.579"
      ]
     },
     "execution_count": 11,
     "metadata": {},
     "output_type": "execute_result"
    }
   ],
   "source": [
    "data.head()"
   ]
  },
  {
   "cell_type": "markdown",
   "id": "00a4e822",
   "metadata": {
    "heading_collapsed": true,
    "hidden": true
   },
   "source": [
    "### Reading headers"
   ]
  },
  {
   "cell_type": "code",
   "execution_count": 12,
   "id": "d213f954",
   "metadata": {
    "hidden": true
   },
   "outputs": [],
   "source": [
    "# Header as a numerical input, starting from 0 = row 1\n",
    "data = pd.read_excel('Data file.xlsx', header=0)"
   ]
  },
  {
   "cell_type": "code",
   "execution_count": 13,
   "id": "6c7b6369",
   "metadata": {
    "hidden": true
   },
   "outputs": [
    {
     "data": {
      "text/html": [
       "<div>\n",
       "<style scoped>\n",
       "    .dataframe tbody tr th:only-of-type {\n",
       "        vertical-align: middle;\n",
       "    }\n",
       "\n",
       "    .dataframe tbody tr th {\n",
       "        vertical-align: top;\n",
       "    }\n",
       "\n",
       "    .dataframe thead th {\n",
       "        text-align: right;\n",
       "    }\n",
       "</style>\n",
       "<table border=\"1\" class=\"dataframe\">\n",
       "  <thead>\n",
       "    <tr style=\"text-align: right;\">\n",
       "      <th></th>\n",
       "      <th>Month</th>\n",
       "      <th>Energy</th>\n",
       "    </tr>\n",
       "  </thead>\n",
       "  <tbody>\n",
       "    <tr>\n",
       "      <th>0</th>\n",
       "      <td>January</td>\n",
       "      <td>2844</td>\n",
       "    </tr>\n",
       "    <tr>\n",
       "      <th>1</th>\n",
       "      <td>February</td>\n",
       "      <td>3726</td>\n",
       "    </tr>\n",
       "    <tr>\n",
       "      <th>2</th>\n",
       "      <td>March</td>\n",
       "      <td>4780</td>\n",
       "    </tr>\n",
       "    <tr>\n",
       "      <th>3</th>\n",
       "      <td>April</td>\n",
       "      <td>4892</td>\n",
       "    </tr>\n",
       "    <tr>\n",
       "      <th>4</th>\n",
       "      <td>May</td>\n",
       "      <td>5550</td>\n",
       "    </tr>\n",
       "  </tbody>\n",
       "</table>\n",
       "</div>"
      ],
      "text/plain": [
       "      Month  Energy\n",
       "0   January    2844\n",
       "1  February    3726\n",
       "2     March    4780\n",
       "3     April    4892\n",
       "4       May    5550"
      ]
     },
     "execution_count": 13,
     "metadata": {},
     "output_type": "execute_result"
    }
   ],
   "source": [
    "data.head()"
   ]
  },
  {
   "cell_type": "markdown",
   "id": "6cbbb962",
   "metadata": {
    "heading_collapsed": true,
    "hidden": true
   },
   "source": [
    "### Reading index colum"
   ]
  },
  {
   "cell_type": "code",
   "execution_count": 14,
   "id": "284c8b2a",
   "metadata": {
    "hidden": true
   },
   "outputs": [],
   "source": [
    "# Index column as a numerical input, starting from 0 = col A\n",
    "data = pd.read_excel('Data file.xlsx', index_col=0)"
   ]
  },
  {
   "cell_type": "code",
   "execution_count": 15,
   "id": "d9b8d709",
   "metadata": {
    "hidden": true
   },
   "outputs": [
    {
     "data": {
      "text/html": [
       "<div>\n",
       "<style scoped>\n",
       "    .dataframe tbody tr th:only-of-type {\n",
       "        vertical-align: middle;\n",
       "    }\n",
       "\n",
       "    .dataframe tbody tr th {\n",
       "        vertical-align: top;\n",
       "    }\n",
       "\n",
       "    .dataframe thead th {\n",
       "        text-align: right;\n",
       "    }\n",
       "</style>\n",
       "<table border=\"1\" class=\"dataframe\">\n",
       "  <thead>\n",
       "    <tr style=\"text-align: right;\">\n",
       "      <th></th>\n",
       "      <th>Energy</th>\n",
       "    </tr>\n",
       "    <tr>\n",
       "      <th>Month</th>\n",
       "      <th></th>\n",
       "    </tr>\n",
       "  </thead>\n",
       "  <tbody>\n",
       "    <tr>\n",
       "      <th>January</th>\n",
       "      <td>2844</td>\n",
       "    </tr>\n",
       "    <tr>\n",
       "      <th>February</th>\n",
       "      <td>3726</td>\n",
       "    </tr>\n",
       "    <tr>\n",
       "      <th>March</th>\n",
       "      <td>4780</td>\n",
       "    </tr>\n",
       "    <tr>\n",
       "      <th>April</th>\n",
       "      <td>4892</td>\n",
       "    </tr>\n",
       "    <tr>\n",
       "      <th>May</th>\n",
       "      <td>5550</td>\n",
       "    </tr>\n",
       "  </tbody>\n",
       "</table>\n",
       "</div>"
      ],
      "text/plain": [
       "          Energy\n",
       "Month           \n",
       "January     2844\n",
       "February    3726\n",
       "March       4780\n",
       "April       4892\n",
       "May         5550"
      ]
     },
     "execution_count": 15,
     "metadata": {},
     "output_type": "execute_result"
    }
   ],
   "source": [
    "data.head()"
   ]
  },
  {
   "cell_type": "markdown",
   "id": "335e534f",
   "metadata": {
    "heading_collapsed": true,
    "hidden": true
   },
   "source": [
    "### Reading specific column only"
   ]
  },
  {
   "cell_type": "code",
   "execution_count": 16,
   "id": "b2e64fbd",
   "metadata": {
    "hidden": true,
    "scrolled": true
   },
   "outputs": [],
   "source": [
    "# Column as a numerical input, starting from 0 = col A\n",
    "data = pd.read_excel('Data file.xlsx', usecols=[0,1])"
   ]
  },
  {
   "cell_type": "code",
   "execution_count": 17,
   "id": "201e2bc7",
   "metadata": {
    "hidden": true
   },
   "outputs": [
    {
     "data": {
      "text/html": [
       "<div>\n",
       "<style scoped>\n",
       "    .dataframe tbody tr th:only-of-type {\n",
       "        vertical-align: middle;\n",
       "    }\n",
       "\n",
       "    .dataframe tbody tr th {\n",
       "        vertical-align: top;\n",
       "    }\n",
       "\n",
       "    .dataframe thead th {\n",
       "        text-align: right;\n",
       "    }\n",
       "</style>\n",
       "<table border=\"1\" class=\"dataframe\">\n",
       "  <thead>\n",
       "    <tr style=\"text-align: right;\">\n",
       "      <th></th>\n",
       "      <th>Month</th>\n",
       "      <th>Energy</th>\n",
       "    </tr>\n",
       "  </thead>\n",
       "  <tbody>\n",
       "    <tr>\n",
       "      <th>0</th>\n",
       "      <td>January</td>\n",
       "      <td>2844</td>\n",
       "    </tr>\n",
       "    <tr>\n",
       "      <th>1</th>\n",
       "      <td>February</td>\n",
       "      <td>3726</td>\n",
       "    </tr>\n",
       "    <tr>\n",
       "      <th>2</th>\n",
       "      <td>March</td>\n",
       "      <td>4780</td>\n",
       "    </tr>\n",
       "    <tr>\n",
       "      <th>3</th>\n",
       "      <td>April</td>\n",
       "      <td>4892</td>\n",
       "    </tr>\n",
       "    <tr>\n",
       "      <th>4</th>\n",
       "      <td>May</td>\n",
       "      <td>5550</td>\n",
       "    </tr>\n",
       "  </tbody>\n",
       "</table>\n",
       "</div>"
      ],
      "text/plain": [
       "      Month  Energy\n",
       "0   January    2844\n",
       "1  February    3726\n",
       "2     March    4780\n",
       "3     April    4892\n",
       "4       May    5550"
      ]
     },
     "execution_count": 17,
     "metadata": {},
     "output_type": "execute_result"
    }
   ],
   "source": [
    "data.head()"
   ]
  },
  {
   "cell_type": "markdown",
   "id": "79b65623",
   "metadata": {
    "heading_collapsed": true,
    "hidden": true
   },
   "source": [
    "### Skipping rows"
   ]
  },
  {
   "cell_type": "code",
   "execution_count": 18,
   "id": "eb505c77",
   "metadata": {
    "hidden": true
   },
   "outputs": [],
   "source": [
    "# Row as a numerical input, starting from 0 = row 1\n",
    "data = pd.read_excel('Data file.xlsx', skiprows=3)"
   ]
  },
  {
   "cell_type": "code",
   "execution_count": 19,
   "id": "ce79cbb1",
   "metadata": {
    "hidden": true
   },
   "outputs": [
    {
     "data": {
      "text/html": [
       "<div>\n",
       "<style scoped>\n",
       "    .dataframe tbody tr th:only-of-type {\n",
       "        vertical-align: middle;\n",
       "    }\n",
       "\n",
       "    .dataframe tbody tr th {\n",
       "        vertical-align: top;\n",
       "    }\n",
       "\n",
       "    .dataframe thead th {\n",
       "        text-align: right;\n",
       "    }\n",
       "</style>\n",
       "<table border=\"1\" class=\"dataframe\">\n",
       "  <thead>\n",
       "    <tr style=\"text-align: right;\">\n",
       "      <th></th>\n",
       "      <th>March</th>\n",
       "      <th>4780</th>\n",
       "    </tr>\n",
       "  </thead>\n",
       "  <tbody>\n",
       "    <tr>\n",
       "      <th>0</th>\n",
       "      <td>April</td>\n",
       "      <td>4892</td>\n",
       "    </tr>\n",
       "    <tr>\n",
       "      <th>1</th>\n",
       "      <td>May</td>\n",
       "      <td>5550</td>\n",
       "    </tr>\n",
       "    <tr>\n",
       "      <th>2</th>\n",
       "      <td>June</td>\n",
       "      <td>5959</td>\n",
       "    </tr>\n",
       "    <tr>\n",
       "      <th>3</th>\n",
       "      <td>July</td>\n",
       "      <td>7017</td>\n",
       "    </tr>\n",
       "    <tr>\n",
       "      <th>4</th>\n",
       "      <td>August</td>\n",
       "      <td>7393</td>\n",
       "    </tr>\n",
       "  </tbody>\n",
       "</table>\n",
       "</div>"
      ],
      "text/plain": [
       "    March  4780\n",
       "0   April  4892\n",
       "1     May  5550\n",
       "2    June  5959\n",
       "3    July  7017\n",
       "4  August  7393"
      ]
     },
     "execution_count": 19,
     "metadata": {},
     "output_type": "execute_result"
    }
   ],
   "source": [
    "data.head()"
   ]
  },
  {
   "cell_type": "markdown",
   "id": "dc5e29b9",
   "metadata": {
    "heading_collapsed": true,
    "hidden": true
   },
   "source": [
    "### Registering N/A values"
   ]
  },
  {
   "cell_type": "markdown",
   "id": "da4d04d4",
   "metadata": {
    "hidden": true
   },
   "source": [
    "By default the following values are interpreted as NaN: \n",
    "\n",
    "*'  ', '#N/A', '#N/A N/A', '#NA', '-1.#IND', '-1.#QNAN', '-NaN', '-nan','1.#IND', '1.#QNAN', 'N/A', 'NA', 'NULL', 'NaN', 'n/a', 'nan', 'null'*."
   ]
  },
  {
   "cell_type": "code",
   "execution_count": 20,
   "id": "fe12ac0f",
   "metadata": {
    "hidden": true
   },
   "outputs": [],
   "source": [
    "data = pd.read_excel('Data file.xlsx', na_values='#DIV/0!')"
   ]
  },
  {
   "cell_type": "markdown",
   "id": "79278faa",
   "metadata": {
    "heading_collapsed": true,
    "hidden": true
   },
   "source": [
    "### Encoding Errors"
   ]
  },
  {
   "cell_type": "markdown",
   "id": "f19ee873",
   "metadata": {
    "hidden": true
   },
   "source": [
    "If a weird symbols appear, try encoding into another format: "
   ]
  },
  {
   "cell_type": "code",
   "execution_count": 24,
   "id": "f3bd8dd6",
   "metadata": {
    "hidden": true
   },
   "outputs": [],
   "source": [
    "# ASCII input\n",
    "data = pd.read_csv('Data file.csv', encoding=\"ISO-8859-1\")"
   ]
  },
  {
   "cell_type": "code",
   "execution_count": 25,
   "id": "139fb2ff",
   "metadata": {
    "hidden": true
   },
   "outputs": [],
   "source": [
    "# UTF-8 input\n",
    "data = pd.read_csv('Data file.csv', encoding=\"UTF-8\")"
   ]
  },
  {
   "cell_type": "markdown",
   "id": "601c70df",
   "metadata": {
    "heading_collapsed": true
   },
   "source": [
    "# Data overview"
   ]
  },
  {
   "cell_type": "code",
   "execution_count": 26,
   "id": "77c4eb58",
   "metadata": {
    "hidden": true
   },
   "outputs": [],
   "source": [
    "data = pd.read_csv('./data/electricity-wholesale.csv', index_col=0, parse_dates=True)"
   ]
  },
  {
   "cell_type": "markdown",
   "id": "9cad2798",
   "metadata": {
    "heading_collapsed": true,
    "hidden": true
   },
   "source": [
    "## First and last rows"
   ]
  },
  {
   "cell_type": "code",
   "execution_count": 27,
   "id": "9ad9267b",
   "metadata": {
    "hidden": true
   },
   "outputs": [
    {
     "data": {
      "text/html": [
       "<div>\n",
       "<style scoped>\n",
       "    .dataframe tbody tr th:only-of-type {\n",
       "        vertical-align: middle;\n",
       "    }\n",
       "\n",
       "    .dataframe tbody tr th {\n",
       "        vertical-align: top;\n",
       "    }\n",
       "\n",
       "    .dataframe thead th {\n",
       "        text-align: right;\n",
       "    }\n",
       "</style>\n",
       "<table border=\"1\" class=\"dataframe\">\n",
       "  <thead>\n",
       "    <tr style=\"text-align: right;\">\n",
       "      <th></th>\n",
       "      <th>EU Average</th>\n",
       "      <th>EU - Max</th>\n",
       "      <th>EU - Min</th>\n",
       "      <th>Austria</th>\n",
       "      <th>Belgium</th>\n",
       "      <th>Bulgaria</th>\n",
       "      <th>Czech Republic</th>\n",
       "      <th>Germany</th>\n",
       "      <th>Denmark</th>\n",
       "      <th>Estonia</th>\n",
       "      <th>...</th>\n",
       "      <th>Canada</th>\n",
       "      <th>China</th>\n",
       "      <th>India</th>\n",
       "      <th>Japan</th>\n",
       "      <th>South Africa</th>\n",
       "      <th>South Korea</th>\n",
       "      <th>Turkey</th>\n",
       "      <th>USA</th>\n",
       "      <th>Switzerland</th>\n",
       "      <th>Norway</th>\n",
       "    </tr>\n",
       "    <tr>\n",
       "      <th>Category</th>\n",
       "      <th></th>\n",
       "      <th></th>\n",
       "      <th></th>\n",
       "      <th></th>\n",
       "      <th></th>\n",
       "      <th></th>\n",
       "      <th></th>\n",
       "      <th></th>\n",
       "      <th></th>\n",
       "      <th></th>\n",
       "      <th></th>\n",
       "      <th></th>\n",
       "      <th></th>\n",
       "      <th></th>\n",
       "      <th></th>\n",
       "      <th></th>\n",
       "      <th></th>\n",
       "      <th></th>\n",
       "      <th></th>\n",
       "      <th></th>\n",
       "      <th></th>\n",
       "    </tr>\n",
       "  </thead>\n",
       "  <tbody>\n",
       "    <tr>\n",
       "      <th>2008-01-01</th>\n",
       "      <td>72.16</td>\n",
       "      <td>114.22</td>\n",
       "      <td>51.24</td>\n",
       "      <td>63.23</td>\n",
       "      <td>72.44</td>\n",
       "      <td>NaN</td>\n",
       "      <td>NaN</td>\n",
       "      <td>62.22</td>\n",
       "      <td>52.47</td>\n",
       "      <td>NaN</td>\n",
       "      <td>...</td>\n",
       "      <td>31.58</td>\n",
       "      <td>111.04</td>\n",
       "      <td>NaN</td>\n",
       "      <td>107.66</td>\n",
       "      <td>NaN</td>\n",
       "      <td>97.12</td>\n",
       "      <td>NaN</td>\n",
       "      <td>75.61</td>\n",
       "      <td>80.22</td>\n",
       "      <td>50.93</td>\n",
       "    </tr>\n",
       "    <tr>\n",
       "      <th>2008-02-01</th>\n",
       "      <td>70.45</td>\n",
       "      <td>110.44</td>\n",
       "      <td>44.13</td>\n",
       "      <td>65.44</td>\n",
       "      <td>69.79</td>\n",
       "      <td>NaN</td>\n",
       "      <td>NaN</td>\n",
       "      <td>66.08</td>\n",
       "      <td>50.45</td>\n",
       "      <td>NaN</td>\n",
       "      <td>...</td>\n",
       "      <td>40.43</td>\n",
       "      <td>112.73</td>\n",
       "      <td>NaN</td>\n",
       "      <td>120.29</td>\n",
       "      <td>NaN</td>\n",
       "      <td>97.92</td>\n",
       "      <td>NaN</td>\n",
       "      <td>75.13</td>\n",
       "      <td>78.85</td>\n",
       "      <td>42.82</td>\n",
       "    </tr>\n",
       "    <tr>\n",
       "      <th>2008-03-01</th>\n",
       "      <td>64.62</td>\n",
       "      <td>84.13</td>\n",
       "      <td>35.41</td>\n",
       "      <td>59.88</td>\n",
       "      <td>71.65</td>\n",
       "      <td>NaN</td>\n",
       "      <td>NaN</td>\n",
       "      <td>59.26</td>\n",
       "      <td>40.26</td>\n",
       "      <td>NaN</td>\n",
       "      <td>...</td>\n",
       "      <td>43.25</td>\n",
       "      <td>112.73</td>\n",
       "      <td>NaN</td>\n",
       "      <td>103.72</td>\n",
       "      <td>NaN</td>\n",
       "      <td>100.87</td>\n",
       "      <td>NaN</td>\n",
       "      <td>78.49</td>\n",
       "      <td>78.33</td>\n",
       "      <td>32.88</td>\n",
       "    </tr>\n",
       "  </tbody>\n",
       "</table>\n",
       "<p>3 rows × 41 columns</p>\n",
       "</div>"
      ],
      "text/plain": [
       "            EU Average  EU - Max  EU - Min  Austria  Belgium  Bulgaria  \\\n",
       "Category                                                                 \n",
       "2008-01-01       72.16    114.22     51.24    63.23    72.44       NaN   \n",
       "2008-02-01       70.45    110.44     44.13    65.44    69.79       NaN   \n",
       "2008-03-01       64.62     84.13     35.41    59.88    71.65       NaN   \n",
       "\n",
       "            Czech Republic  Germany  Denmark  Estonia  ...  Canada   China  \\\n",
       "Category                                               ...                   \n",
       "2008-01-01             NaN    62.22    52.47      NaN  ...   31.58  111.04   \n",
       "2008-02-01             NaN    66.08    50.45      NaN  ...   40.43  112.73   \n",
       "2008-03-01             NaN    59.26    40.26      NaN  ...   43.25  112.73   \n",
       "\n",
       "            India   Japan  South Africa  South Korea  Turkey    USA  \\\n",
       "Category                                                              \n",
       "2008-01-01    NaN  107.66           NaN        97.12     NaN  75.61   \n",
       "2008-02-01    NaN  120.29           NaN        97.92     NaN  75.13   \n",
       "2008-03-01    NaN  103.72           NaN       100.87     NaN  78.49   \n",
       "\n",
       "            Switzerland  Norway  \n",
       "Category                         \n",
       "2008-01-01        80.22   50.93  \n",
       "2008-02-01        78.85   42.82  \n",
       "2008-03-01        78.33   32.88  \n",
       "\n",
       "[3 rows x 41 columns]"
      ]
     },
     "execution_count": 27,
     "metadata": {},
     "output_type": "execute_result"
    }
   ],
   "source": [
    "# Show first rows of dataset\n",
    "data.head(3) # Number of rows to display as input"
   ]
  },
  {
   "cell_type": "code",
   "execution_count": 28,
   "id": "109ad43d",
   "metadata": {
    "hidden": true
   },
   "outputs": [
    {
     "data": {
      "text/html": [
       "<div>\n",
       "<style scoped>\n",
       "    .dataframe tbody tr th:only-of-type {\n",
       "        vertical-align: middle;\n",
       "    }\n",
       "\n",
       "    .dataframe tbody tr th {\n",
       "        vertical-align: top;\n",
       "    }\n",
       "\n",
       "    .dataframe thead th {\n",
       "        text-align: right;\n",
       "    }\n",
       "</style>\n",
       "<table border=\"1\" class=\"dataframe\">\n",
       "  <thead>\n",
       "    <tr style=\"text-align: right;\">\n",
       "      <th></th>\n",
       "      <th>EU Average</th>\n",
       "      <th>EU - Max</th>\n",
       "      <th>EU - Min</th>\n",
       "      <th>Austria</th>\n",
       "      <th>Belgium</th>\n",
       "      <th>Bulgaria</th>\n",
       "      <th>Czech Republic</th>\n",
       "      <th>Germany</th>\n",
       "      <th>Denmark</th>\n",
       "      <th>Estonia</th>\n",
       "      <th>...</th>\n",
       "      <th>Canada</th>\n",
       "      <th>China</th>\n",
       "      <th>India</th>\n",
       "      <th>Japan</th>\n",
       "      <th>South Africa</th>\n",
       "      <th>South Korea</th>\n",
       "      <th>Turkey</th>\n",
       "      <th>USA</th>\n",
       "      <th>Switzerland</th>\n",
       "      <th>Norway</th>\n",
       "    </tr>\n",
       "    <tr>\n",
       "      <th>Category</th>\n",
       "      <th></th>\n",
       "      <th></th>\n",
       "      <th></th>\n",
       "      <th></th>\n",
       "      <th></th>\n",
       "      <th></th>\n",
       "      <th></th>\n",
       "      <th></th>\n",
       "      <th></th>\n",
       "      <th></th>\n",
       "      <th></th>\n",
       "      <th></th>\n",
       "      <th></th>\n",
       "      <th></th>\n",
       "      <th></th>\n",
       "      <th></th>\n",
       "      <th></th>\n",
       "      <th></th>\n",
       "      <th></th>\n",
       "      <th></th>\n",
       "      <th></th>\n",
       "    </tr>\n",
       "  </thead>\n",
       "  <tbody>\n",
       "    <tr>\n",
       "      <th>2019-10-01</th>\n",
       "      <td>42.45</td>\n",
       "      <td>65.57</td>\n",
       "      <td>34.02</td>\n",
       "      <td>NaN</td>\n",
       "      <td>NaN</td>\n",
       "      <td>NaN</td>\n",
       "      <td>38.08</td>\n",
       "      <td>36.31</td>\n",
       "      <td>34.02</td>\n",
       "      <td>46.85</td>\n",
       "      <td>...</td>\n",
       "      <td>4.68</td>\n",
       "      <td>80.88</td>\n",
       "      <td>32.28</td>\n",
       "      <td>63.20</td>\n",
       "      <td>49.80</td>\n",
       "      <td>67.68</td>\n",
       "      <td>43.95</td>\n",
       "      <td>26.36</td>\n",
       "      <td>NaN</td>\n",
       "      <td>36.47</td>\n",
       "    </tr>\n",
       "    <tr>\n",
       "      <th>2019-11-01</th>\n",
       "      <td>43.41</td>\n",
       "      <td>54.36</td>\n",
       "      <td>40.30</td>\n",
       "      <td>NaN</td>\n",
       "      <td>NaN</td>\n",
       "      <td>NaN</td>\n",
       "      <td>41.27</td>\n",
       "      <td>40.30</td>\n",
       "      <td>42.63</td>\n",
       "      <td>44.94</td>\n",
       "      <td>...</td>\n",
       "      <td>13.27</td>\n",
       "      <td>80.88</td>\n",
       "      <td>33.97</td>\n",
       "      <td>59.51</td>\n",
       "      <td>60.61</td>\n",
       "      <td>62.78</td>\n",
       "      <td>44.89</td>\n",
       "      <td>31.35</td>\n",
       "      <td>NaN</td>\n",
       "      <td>41.43</td>\n",
       "    </tr>\n",
       "    <tr>\n",
       "      <th>2019-12-01</th>\n",
       "      <td>36.54</td>\n",
       "      <td>58.68</td>\n",
       "      <td>31.42</td>\n",
       "      <td>NaN</td>\n",
       "      <td>NaN</td>\n",
       "      <td>NaN</td>\n",
       "      <td>36.64</td>\n",
       "      <td>31.42</td>\n",
       "      <td>50.11</td>\n",
       "      <td>38.38</td>\n",
       "      <td>...</td>\n",
       "      <td>14.04</td>\n",
       "      <td>80.88</td>\n",
       "      <td>34.81</td>\n",
       "      <td>63.06</td>\n",
       "      <td>70.50</td>\n",
       "      <td>64.58</td>\n",
       "      <td>43.90</td>\n",
       "      <td>29.74</td>\n",
       "      <td>NaN</td>\n",
       "      <td>36.16</td>\n",
       "    </tr>\n",
       "  </tbody>\n",
       "</table>\n",
       "<p>3 rows × 41 columns</p>\n",
       "</div>"
      ],
      "text/plain": [
       "            EU Average  EU - Max  EU - Min  Austria  Belgium  Bulgaria  \\\n",
       "Category                                                                 \n",
       "2019-10-01       42.45     65.57     34.02      NaN      NaN       NaN   \n",
       "2019-11-01       43.41     54.36     40.30      NaN      NaN       NaN   \n",
       "2019-12-01       36.54     58.68     31.42      NaN      NaN       NaN   \n",
       "\n",
       "            Czech Republic  Germany  Denmark  Estonia  ...  Canada  China  \\\n",
       "Category                                               ...                  \n",
       "2019-10-01           38.08    36.31    34.02    46.85  ...    4.68  80.88   \n",
       "2019-11-01           41.27    40.30    42.63    44.94  ...   13.27  80.88   \n",
       "2019-12-01           36.64    31.42    50.11    38.38  ...   14.04  80.88   \n",
       "\n",
       "            India  Japan  South Africa  South Korea  Turkey    USA  \\\n",
       "Category                                                             \n",
       "2019-10-01  32.28  63.20         49.80        67.68   43.95  26.36   \n",
       "2019-11-01  33.97  59.51         60.61        62.78   44.89  31.35   \n",
       "2019-12-01  34.81  63.06         70.50        64.58   43.90  29.74   \n",
       "\n",
       "            Switzerland  Norway  \n",
       "Category                         \n",
       "2019-10-01          NaN   36.47  \n",
       "2019-11-01          NaN   41.43  \n",
       "2019-12-01          NaN   36.16  \n",
       "\n",
       "[3 rows x 41 columns]"
      ]
     },
     "execution_count": 28,
     "metadata": {},
     "output_type": "execute_result"
    }
   ],
   "source": [
    "# Show last rows of dataset\n",
    "data.tail(3)"
   ]
  },
  {
   "cell_type": "markdown",
   "id": "d36e960e",
   "metadata": {
    "heading_collapsed": true,
    "hidden": true
   },
   "source": [
    "## Dataset information"
   ]
  },
  {
   "cell_type": "code",
   "execution_count": 29,
   "id": "d124f089",
   "metadata": {
    "hidden": true
   },
   "outputs": [
    {
     "name": "stdout",
     "output_type": "stream",
     "text": [
      "<class 'pandas.core.frame.DataFrame'>\n",
      "DatetimeIndex: 144 entries, 2008-01-01 to 2019-12-01\n",
      "Data columns (total 41 columns):\n",
      " #   Column          Non-Null Count  Dtype  \n",
      "---  ------          --------------  -----  \n",
      " 0   EU Average      144 non-null    float64\n",
      " 1   EU - Max        144 non-null    float64\n",
      " 2   EU - Min        144 non-null    float64\n",
      " 3   Austria         132 non-null    float64\n",
      " 4   Belgium         132 non-null    float64\n",
      " 5   Bulgaria        36 non-null     float64\n",
      " 6   Czech Republic  123 non-null    float64\n",
      " 7   Germany         144 non-null    float64\n",
      " 8   Denmark         144 non-null    float64\n",
      " 9   Estonia         117 non-null    float64\n",
      " 10  Greece          144 non-null    float64\n",
      " 11  Spain           144 non-null    float64\n",
      " 12  Finland         144 non-null    float64\n",
      " 13  France          144 non-null    float64\n",
      " 14  Croatia         12 non-null     float64\n",
      " 15  Hungary         114 non-null    float64\n",
      " 16  Ireland         108 non-null    float64\n",
      " 17  Italy           144 non-null    float64\n",
      " 18  Lithuania       90 non-null     float64\n",
      " 19  Luxembourg      132 non-null    float64\n",
      " 20  Latvia          78 non-null     float64\n",
      " 21  Malta           144 non-null    float64\n",
      " 22  Netherlands     132 non-null    float64\n",
      " 23  Poland          126 non-null    float64\n",
      " 24  Portugal        132 non-null    float64\n",
      " 25  Romania         144 non-null    float64\n",
      " 26  Sweden          144 non-null    float64\n",
      " 27  Slovenia        104 non-null    float64\n",
      " 28  Slovakia        120 non-null    float64\n",
      " 29  United Kingdom  70 non-null     float64\n",
      " 30  Brazil          144 non-null    float64\n",
      " 31  Canada          144 non-null    float64\n",
      " 32  China           144 non-null    float64\n",
      " 33  India           139 non-null    float64\n",
      " 34  Japan           144 non-null    float64\n",
      " 35  South Africa    57 non-null     float64\n",
      " 36  South Korea     144 non-null    float64\n",
      " 37  Turkey          97 non-null     float64\n",
      " 38  USA             144 non-null    float64\n",
      " 39  Switzerland     132 non-null    float64\n",
      " 40  Norway          144 non-null    float64\n",
      "dtypes: float64(41)\n",
      "memory usage: 47.2 KB\n"
     ]
    }
   ],
   "source": [
    "# Show dataset information\n",
    "data.info()"
   ]
  },
  {
   "cell_type": "markdown",
   "id": "19c0feb7",
   "metadata": {
    "hidden": true
   },
   "source": [
    "Basic information available for check:\n",
    "- `RangeIndex`: Number of entries ¦ start to end\n",
    "- `Data columns`: (total)\n",
    "- `Column 1`: Index ¦ Column name ¦ Numer of values ¦ Nulls? ¦ Data Type\n",
    "- `Column 2`: ...\n",
    "- `Column 3`: ...\n",
    "- `dtypes`: List of different data types in dataframe\n",
    "- `memory usage`: How large the file is in memory"
   ]
  },
  {
   "cell_type": "markdown",
   "id": "9f772747",
   "metadata": {
    "hidden": true
   },
   "source": [
    "The data type (dtype) is an important parameter to check:\n",
    "- **int64:** integers\n",
    "- **float64:** decimals\n",
    "- **datetime64:** python datetime format\n",
    "- **bool:** true / false boolean \n",
    "- **object:** any other format (e.g. text)\n",
    "\n",
    "**NOTE:** A column containing multiple data types will be given the 'object' type! \n",
    "\n",
    "If a column meant to contain certain datatype is registered as 'object' type, open excel and ensure that it does not contain a mix of datatypes"
   ]
  },
  {
   "cell_type": "markdown",
   "id": "d5dc9f45",
   "metadata": {
    "heading_collapsed": true,
    "hidden": true
   },
   "source": [
    "## Statistical overview"
   ]
  },
  {
   "cell_type": "code",
   "execution_count": 30,
   "id": "d2cef67b",
   "metadata": {
    "hidden": true
   },
   "outputs": [
    {
     "data": {
      "text/html": [
       "<div>\n",
       "<style scoped>\n",
       "    .dataframe tbody tr th:only-of-type {\n",
       "        vertical-align: middle;\n",
       "    }\n",
       "\n",
       "    .dataframe tbody tr th {\n",
       "        vertical-align: top;\n",
       "    }\n",
       "\n",
       "    .dataframe thead th {\n",
       "        text-align: right;\n",
       "    }\n",
       "</style>\n",
       "<table border=\"1\" class=\"dataframe\">\n",
       "  <thead>\n",
       "    <tr style=\"text-align: right;\">\n",
       "      <th></th>\n",
       "      <th>EU Average</th>\n",
       "      <th>EU - Max</th>\n",
       "      <th>EU - Min</th>\n",
       "      <th>Austria</th>\n",
       "      <th>Belgium</th>\n",
       "      <th>Bulgaria</th>\n",
       "      <th>Czech Republic</th>\n",
       "      <th>Germany</th>\n",
       "      <th>Denmark</th>\n",
       "      <th>Estonia</th>\n",
       "      <th>...</th>\n",
       "      <th>Canada</th>\n",
       "      <th>China</th>\n",
       "      <th>India</th>\n",
       "      <th>Japan</th>\n",
       "      <th>South Africa</th>\n",
       "      <th>South Korea</th>\n",
       "      <th>Turkey</th>\n",
       "      <th>USA</th>\n",
       "      <th>Switzerland</th>\n",
       "      <th>Norway</th>\n",
       "    </tr>\n",
       "  </thead>\n",
       "  <tbody>\n",
       "    <tr>\n",
       "      <th>count</th>\n",
       "      <td>144.000000</td>\n",
       "      <td>144.000000</td>\n",
       "      <td>144.000000</td>\n",
       "      <td>132.000000</td>\n",
       "      <td>132.000000</td>\n",
       "      <td>36.000000</td>\n",
       "      <td>123.000000</td>\n",
       "      <td>144.000000</td>\n",
       "      <td>144.000000</td>\n",
       "      <td>117.000000</td>\n",
       "      <td>...</td>\n",
       "      <td>144.000000</td>\n",
       "      <td>144.000000</td>\n",
       "      <td>139.000000</td>\n",
       "      <td>144.000000</td>\n",
       "      <td>57.000000</td>\n",
       "      <td>144.000000</td>\n",
       "      <td>97.000000</td>\n",
       "      <td>144.000000</td>\n",
       "      <td>132.000000</td>\n",
       "      <td>144.000000</td>\n",
       "    </tr>\n",
       "    <tr>\n",
       "      <th>mean</th>\n",
       "      <td>48.784306</td>\n",
       "      <td>85.452847</td>\n",
       "      <td>34.273264</td>\n",
       "      <td>44.235985</td>\n",
       "      <td>50.315455</td>\n",
       "      <td>37.281389</td>\n",
       "      <td>40.983577</td>\n",
       "      <td>43.198819</td>\n",
       "      <td>41.240417</td>\n",
       "      <td>41.396581</td>\n",
       "      <td>...</td>\n",
       "      <td>19.609236</td>\n",
       "      <td>106.903750</td>\n",
       "      <td>58.770791</td>\n",
       "      <td>85.452361</td>\n",
       "      <td>55.951228</td>\n",
       "      <td>94.849583</td>\n",
       "      <td>38.801237</td>\n",
       "      <td>39.444861</td>\n",
       "      <td>51.626061</td>\n",
       "      <td>38.544722</td>\n",
       "    </tr>\n",
       "    <tr>\n",
       "      <th>std</th>\n",
       "      <td>11.919581</td>\n",
       "      <td>25.745180</td>\n",
       "      <td>9.720656</td>\n",
       "      <td>13.906264</td>\n",
       "      <td>14.018532</td>\n",
       "      <td>7.781681</td>\n",
       "      <td>8.959404</td>\n",
       "      <td>13.233849</td>\n",
       "      <td>12.864424</td>\n",
       "      <td>7.777156</td>\n",
       "      <td>...</td>\n",
       "      <td>10.453756</td>\n",
       "      <td>9.552976</td>\n",
       "      <td>36.547589</td>\n",
       "      <td>27.490119</td>\n",
       "      <td>17.278344</td>\n",
       "      <td>27.288283</td>\n",
       "      <td>7.643859</td>\n",
       "      <td>15.508232</td>\n",
       "      <td>16.610982</td>\n",
       "      <td>13.167074</td>\n",
       "    </tr>\n",
       "    <tr>\n",
       "      <th>min</th>\n",
       "      <td>27.420000</td>\n",
       "      <td>39.860000</td>\n",
       "      <td>9.350000</td>\n",
       "      <td>23.070000</td>\n",
       "      <td>25.950000</td>\n",
       "      <td>22.580000</td>\n",
       "      <td>23.900000</td>\n",
       "      <td>22.490000</td>\n",
       "      <td>14.150000</td>\n",
       "      <td>27.560000</td>\n",
       "      <td>...</td>\n",
       "      <td>2.130000</td>\n",
       "      <td>80.880000</td>\n",
       "      <td>28.920000</td>\n",
       "      <td>43.660000</td>\n",
       "      <td>27.110000</td>\n",
       "      <td>51.570000</td>\n",
       "      <td>23.600000</td>\n",
       "      <td>17.280000</td>\n",
       "      <td>24.210000</td>\n",
       "      <td>9.850000</td>\n",
       "    </tr>\n",
       "    <tr>\n",
       "      <th>25%</th>\n",
       "      <td>40.547500</td>\n",
       "      <td>63.827500</td>\n",
       "      <td>28.610000</td>\n",
       "      <td>33.370000</td>\n",
       "      <td>40.397500</td>\n",
       "      <td>32.062500</td>\n",
       "      <td>34.400000</td>\n",
       "      <td>33.405000</td>\n",
       "      <td>32.132500</td>\n",
       "      <td>34.780000</td>\n",
       "      <td>...</td>\n",
       "      <td>12.207500</td>\n",
       "      <td>104.475000</td>\n",
       "      <td>38.525000</td>\n",
       "      <td>61.825000</td>\n",
       "      <td>42.010000</td>\n",
       "      <td>69.685000</td>\n",
       "      <td>32.570000</td>\n",
       "      <td>29.920000</td>\n",
       "      <td>37.657500</td>\n",
       "      <td>30.177500</td>\n",
       "    </tr>\n",
       "    <tr>\n",
       "      <th>50%</th>\n",
       "      <td>46.575000</td>\n",
       "      <td>84.685000</td>\n",
       "      <td>33.000000</td>\n",
       "      <td>41.030000</td>\n",
       "      <td>48.275000</td>\n",
       "      <td>36.970000</td>\n",
       "      <td>39.470000</td>\n",
       "      <td>40.165000</td>\n",
       "      <td>39.180000</td>\n",
       "      <td>41.460000</td>\n",
       "      <td>...</td>\n",
       "      <td>17.970000</td>\n",
       "      <td>108.900000</td>\n",
       "      <td>46.340000</td>\n",
       "      <td>77.695000</td>\n",
       "      <td>50.350000</td>\n",
       "      <td>98.125000</td>\n",
       "      <td>38.590000</td>\n",
       "      <td>36.145000</td>\n",
       "      <td>50.560000</td>\n",
       "      <td>36.375000</td>\n",
       "    </tr>\n",
       "    <tr>\n",
       "      <th>75%</th>\n",
       "      <td>54.200000</td>\n",
       "      <td>100.697500</td>\n",
       "      <td>37.965000</td>\n",
       "      <td>52.100000</td>\n",
       "      <td>57.122500</td>\n",
       "      <td>40.517500</td>\n",
       "      <td>46.020000</td>\n",
       "      <td>49.685000</td>\n",
       "      <td>48.822500</td>\n",
       "      <td>46.470000</td>\n",
       "      <td>...</td>\n",
       "      <td>23.107500</td>\n",
       "      <td>111.250000</td>\n",
       "      <td>58.880000</td>\n",
       "      <td>111.237500</td>\n",
       "      <td>70.750000</td>\n",
       "      <td>116.660000</td>\n",
       "      <td>44.650000</td>\n",
       "      <td>42.012500</td>\n",
       "      <td>61.810000</td>\n",
       "      <td>45.207500</td>\n",
       "    </tr>\n",
       "    <tr>\n",
       "      <th>max</th>\n",
       "      <td>94.840000</td>\n",
       "      <td>173.560000</td>\n",
       "      <td>69.400000</td>\n",
       "      <td>99.100000</td>\n",
       "      <td>99.460000</td>\n",
       "      <td>57.260000</td>\n",
       "      <td>61.240000</td>\n",
       "      <td>98.100000</td>\n",
       "      <td>86.300000</td>\n",
       "      <td>61.920000</td>\n",
       "      <td>...</td>\n",
       "      <td>55.820000</td>\n",
       "      <td>121.400000</td>\n",
       "      <td>216.840000</td>\n",
       "      <td>154.200000</td>\n",
       "      <td>91.910000</td>\n",
       "      <td>154.880000</td>\n",
       "      <td>57.430000</td>\n",
       "      <td>105.690000</td>\n",
       "      <td>107.530000</td>\n",
       "      <td>89.290000</td>\n",
       "    </tr>\n",
       "  </tbody>\n",
       "</table>\n",
       "<p>8 rows × 41 columns</p>\n",
       "</div>"
      ],
      "text/plain": [
       "       EU Average    EU - Max    EU - Min     Austria     Belgium   Bulgaria  \\\n",
       "count  144.000000  144.000000  144.000000  132.000000  132.000000  36.000000   \n",
       "mean    48.784306   85.452847   34.273264   44.235985   50.315455  37.281389   \n",
       "std     11.919581   25.745180    9.720656   13.906264   14.018532   7.781681   \n",
       "min     27.420000   39.860000    9.350000   23.070000   25.950000  22.580000   \n",
       "25%     40.547500   63.827500   28.610000   33.370000   40.397500  32.062500   \n",
       "50%     46.575000   84.685000   33.000000   41.030000   48.275000  36.970000   \n",
       "75%     54.200000  100.697500   37.965000   52.100000   57.122500  40.517500   \n",
       "max     94.840000  173.560000   69.400000   99.100000   99.460000  57.260000   \n",
       "\n",
       "       Czech Republic     Germany     Denmark     Estonia  ...      Canada  \\\n",
       "count      123.000000  144.000000  144.000000  117.000000  ...  144.000000   \n",
       "mean        40.983577   43.198819   41.240417   41.396581  ...   19.609236   \n",
       "std          8.959404   13.233849   12.864424    7.777156  ...   10.453756   \n",
       "min         23.900000   22.490000   14.150000   27.560000  ...    2.130000   \n",
       "25%         34.400000   33.405000   32.132500   34.780000  ...   12.207500   \n",
       "50%         39.470000   40.165000   39.180000   41.460000  ...   17.970000   \n",
       "75%         46.020000   49.685000   48.822500   46.470000  ...   23.107500   \n",
       "max         61.240000   98.100000   86.300000   61.920000  ...   55.820000   \n",
       "\n",
       "            China       India       Japan  South Africa  South Korea  \\\n",
       "count  144.000000  139.000000  144.000000     57.000000   144.000000   \n",
       "mean   106.903750   58.770791   85.452361     55.951228    94.849583   \n",
       "std      9.552976   36.547589   27.490119     17.278344    27.288283   \n",
       "min     80.880000   28.920000   43.660000     27.110000    51.570000   \n",
       "25%    104.475000   38.525000   61.825000     42.010000    69.685000   \n",
       "50%    108.900000   46.340000   77.695000     50.350000    98.125000   \n",
       "75%    111.250000   58.880000  111.237500     70.750000   116.660000   \n",
       "max    121.400000  216.840000  154.200000     91.910000   154.880000   \n",
       "\n",
       "          Turkey         USA  Switzerland      Norway  \n",
       "count  97.000000  144.000000   132.000000  144.000000  \n",
       "mean   38.801237   39.444861    51.626061   38.544722  \n",
       "std     7.643859   15.508232    16.610982   13.167074  \n",
       "min    23.600000   17.280000    24.210000    9.850000  \n",
       "25%    32.570000   29.920000    37.657500   30.177500  \n",
       "50%    38.590000   36.145000    50.560000   36.375000  \n",
       "75%    44.650000   42.012500    61.810000   45.207500  \n",
       "max    57.430000  105.690000   107.530000   89.290000  \n",
       "\n",
       "[8 rows x 41 columns]"
      ]
     },
     "execution_count": 30,
     "metadata": {},
     "output_type": "execute_result"
    }
   ],
   "source": [
    "# Only works on columns with numerical inputs\n",
    "data.describe()"
   ]
  },
  {
   "cell_type": "markdown",
   "id": "8490b48c",
   "metadata": {
    "heading_collapsed": true
   },
   "source": [
    "# Manipulate data"
   ]
  },
  {
   "cell_type": "code",
   "execution_count": 31,
   "id": "4f3b957d",
   "metadata": {
    "hidden": true
   },
   "outputs": [],
   "source": [
    "data = pd.read_csv('./data/electricity-wholesale.csv', index_col=0, parse_dates=True)"
   ]
  },
  {
   "cell_type": "markdown",
   "id": "fc47447d",
   "metadata": {
    "heading_collapsed": true,
    "hidden": true
   },
   "source": [
    "## Basics"
   ]
  },
  {
   "cell_type": "markdown",
   "id": "aa9fe4e7",
   "metadata": {
    "heading_collapsed": true,
    "hidden": true
   },
   "source": [
    "### Lookup values"
   ]
  },
  {
   "cell_type": "markdown",
   "id": "463f788b",
   "metadata": {
    "heading_collapsed": true,
    "hidden": true
   },
   "source": [
    "#### Using `loc`"
   ]
  },
  {
   "cell_type": "markdown",
   "id": "514a812e",
   "metadata": {
    "hidden": true
   },
   "source": [
    "There are two basic methods to look-up values:\n",
    "- `.loc[index_start:index_end , column_start:column_end]`: inclusive of `_end` values"
   ]
  },
  {
   "cell_type": "code",
   "execution_count": 32,
   "id": "36da337c",
   "metadata": {
    "hidden": true
   },
   "outputs": [
    {
     "data": {
      "text/html": [
       "<div>\n",
       "<style scoped>\n",
       "    .dataframe tbody tr th:only-of-type {\n",
       "        vertical-align: middle;\n",
       "    }\n",
       "\n",
       "    .dataframe tbody tr th {\n",
       "        vertical-align: top;\n",
       "    }\n",
       "\n",
       "    .dataframe thead th {\n",
       "        text-align: right;\n",
       "    }\n",
       "</style>\n",
       "<table border=\"1\" class=\"dataframe\">\n",
       "  <thead>\n",
       "    <tr style=\"text-align: right;\">\n",
       "      <th></th>\n",
       "      <th>EU Average</th>\n",
       "      <th>EU - Max</th>\n",
       "      <th>EU - Min</th>\n",
       "    </tr>\n",
       "    <tr>\n",
       "      <th>Category</th>\n",
       "      <th></th>\n",
       "      <th></th>\n",
       "      <th></th>\n",
       "    </tr>\n",
       "  </thead>\n",
       "  <tbody>\n",
       "    <tr>\n",
       "      <th>2010-01-01</th>\n",
       "      <td>52.09</td>\n",
       "      <td>106.88</td>\n",
       "      <td>30.30</td>\n",
       "    </tr>\n",
       "    <tr>\n",
       "      <th>2010-02-01</th>\n",
       "      <td>53.72</td>\n",
       "      <td>116.08</td>\n",
       "      <td>30.28</td>\n",
       "    </tr>\n",
       "    <tr>\n",
       "      <th>2010-03-01</th>\n",
       "      <td>46.99</td>\n",
       "      <td>85.58</td>\n",
       "      <td>21.47</td>\n",
       "    </tr>\n",
       "    <tr>\n",
       "      <th>2010-04-01</th>\n",
       "      <td>46.47</td>\n",
       "      <td>85.67</td>\n",
       "      <td>28.61</td>\n",
       "    </tr>\n",
       "    <tr>\n",
       "      <th>2010-05-01</th>\n",
       "      <td>47.70</td>\n",
       "      <td>121.07</td>\n",
       "      <td>38.07</td>\n",
       "    </tr>\n",
       "    <tr>\n",
       "      <th>2010-06-01</th>\n",
       "      <td>49.08</td>\n",
       "      <td>106.52</td>\n",
       "      <td>34.10</td>\n",
       "    </tr>\n",
       "    <tr>\n",
       "      <th>2010-07-01</th>\n",
       "      <td>53.34</td>\n",
       "      <td>97.29</td>\n",
       "      <td>37.93</td>\n",
       "    </tr>\n",
       "    <tr>\n",
       "      <th>2010-08-01</th>\n",
       "      <td>49.21</td>\n",
       "      <td>99.70</td>\n",
       "      <td>35.84</td>\n",
       "    </tr>\n",
       "    <tr>\n",
       "      <th>2010-09-01</th>\n",
       "      <td>53.79</td>\n",
       "      <td>90.97</td>\n",
       "      <td>40.81</td>\n",
       "    </tr>\n",
       "    <tr>\n",
       "      <th>2010-10-01</th>\n",
       "      <td>57.87</td>\n",
       "      <td>101.74</td>\n",
       "      <td>45.91</td>\n",
       "    </tr>\n",
       "    <tr>\n",
       "      <th>2010-11-01</th>\n",
       "      <td>55.02</td>\n",
       "      <td>77.96</td>\n",
       "      <td>43.15</td>\n",
       "    </tr>\n",
       "    <tr>\n",
       "      <th>2010-12-01</th>\n",
       "      <td>65.29</td>\n",
       "      <td>100.46</td>\n",
       "      <td>34.48</td>\n",
       "    </tr>\n",
       "  </tbody>\n",
       "</table>\n",
       "</div>"
      ],
      "text/plain": [
       "            EU Average  EU - Max  EU - Min\n",
       "Category                                  \n",
       "2010-01-01       52.09    106.88     30.30\n",
       "2010-02-01       53.72    116.08     30.28\n",
       "2010-03-01       46.99     85.58     21.47\n",
       "2010-04-01       46.47     85.67     28.61\n",
       "2010-05-01       47.70    121.07     38.07\n",
       "2010-06-01       49.08    106.52     34.10\n",
       "2010-07-01       53.34     97.29     37.93\n",
       "2010-08-01       49.21     99.70     35.84\n",
       "2010-09-01       53.79     90.97     40.81\n",
       "2010-10-01       57.87    101.74     45.91\n",
       "2010-11-01       55.02     77.96     43.15\n",
       "2010-12-01       65.29    100.46     34.48"
      ]
     },
     "execution_count": 32,
     "metadata": {},
     "output_type": "execute_result"
    }
   ],
   "source": [
    "data.loc['2010-01-01':'2010-12-01','EU Average':'EU - Min'] # Return all columns from 'EU Average' to 'EU - Min', \n",
    "                                                            # including 'EU - Min'"
   ]
  },
  {
   "cell_type": "markdown",
   "id": "e6cb43c4",
   "metadata": {
    "heading_collapsed": true,
    "hidden": true
   },
   "source": [
    "#### Using `iloc`"
   ]
  },
  {
   "cell_type": "markdown",
   "id": "328b0cea",
   "metadata": {
    "hidden": true
   },
   "source": [
    "- `.iloc[index_num_start:index_num_end , col_num_start:col_num_end]`: exclusive of `_end` values"
   ]
  },
  {
   "cell_type": "code",
   "execution_count": 33,
   "id": "3d03c853",
   "metadata": {
    "hidden": true
   },
   "outputs": [
    {
     "data": {
      "text/html": [
       "<div>\n",
       "<style scoped>\n",
       "    .dataframe tbody tr th:only-of-type {\n",
       "        vertical-align: middle;\n",
       "    }\n",
       "\n",
       "    .dataframe tbody tr th {\n",
       "        vertical-align: top;\n",
       "    }\n",
       "\n",
       "    .dataframe thead th {\n",
       "        text-align: right;\n",
       "    }\n",
       "</style>\n",
       "<table border=\"1\" class=\"dataframe\">\n",
       "  <thead>\n",
       "    <tr style=\"text-align: right;\">\n",
       "      <th></th>\n",
       "      <th>EU Average</th>\n",
       "      <th>EU - Max</th>\n",
       "      <th>EU - Min</th>\n",
       "    </tr>\n",
       "    <tr>\n",
       "      <th>Category</th>\n",
       "      <th></th>\n",
       "      <th></th>\n",
       "      <th></th>\n",
       "    </tr>\n",
       "  </thead>\n",
       "  <tbody>\n",
       "    <tr>\n",
       "      <th>2010-01-01</th>\n",
       "      <td>52.09</td>\n",
       "      <td>106.88</td>\n",
       "      <td>30.30</td>\n",
       "    </tr>\n",
       "    <tr>\n",
       "      <th>2010-02-01</th>\n",
       "      <td>53.72</td>\n",
       "      <td>116.08</td>\n",
       "      <td>30.28</td>\n",
       "    </tr>\n",
       "    <tr>\n",
       "      <th>2010-03-01</th>\n",
       "      <td>46.99</td>\n",
       "      <td>85.58</td>\n",
       "      <td>21.47</td>\n",
       "    </tr>\n",
       "    <tr>\n",
       "      <th>2010-04-01</th>\n",
       "      <td>46.47</td>\n",
       "      <td>85.67</td>\n",
       "      <td>28.61</td>\n",
       "    </tr>\n",
       "    <tr>\n",
       "      <th>2010-05-01</th>\n",
       "      <td>47.70</td>\n",
       "      <td>121.07</td>\n",
       "      <td>38.07</td>\n",
       "    </tr>\n",
       "    <tr>\n",
       "      <th>2010-06-01</th>\n",
       "      <td>49.08</td>\n",
       "      <td>106.52</td>\n",
       "      <td>34.10</td>\n",
       "    </tr>\n",
       "    <tr>\n",
       "      <th>2010-07-01</th>\n",
       "      <td>53.34</td>\n",
       "      <td>97.29</td>\n",
       "      <td>37.93</td>\n",
       "    </tr>\n",
       "    <tr>\n",
       "      <th>2010-08-01</th>\n",
       "      <td>49.21</td>\n",
       "      <td>99.70</td>\n",
       "      <td>35.84</td>\n",
       "    </tr>\n",
       "    <tr>\n",
       "      <th>2010-09-01</th>\n",
       "      <td>53.79</td>\n",
       "      <td>90.97</td>\n",
       "      <td>40.81</td>\n",
       "    </tr>\n",
       "    <tr>\n",
       "      <th>2010-10-01</th>\n",
       "      <td>57.87</td>\n",
       "      <td>101.74</td>\n",
       "      <td>45.91</td>\n",
       "    </tr>\n",
       "    <tr>\n",
       "      <th>2010-11-01</th>\n",
       "      <td>55.02</td>\n",
       "      <td>77.96</td>\n",
       "      <td>43.15</td>\n",
       "    </tr>\n",
       "    <tr>\n",
       "      <th>2010-12-01</th>\n",
       "      <td>65.29</td>\n",
       "      <td>100.46</td>\n",
       "      <td>34.48</td>\n",
       "    </tr>\n",
       "  </tbody>\n",
       "</table>\n",
       "</div>"
      ],
      "text/plain": [
       "            EU Average  EU - Max  EU - Min\n",
       "Category                                  \n",
       "2010-01-01       52.09    106.88     30.30\n",
       "2010-02-01       53.72    116.08     30.28\n",
       "2010-03-01       46.99     85.58     21.47\n",
       "2010-04-01       46.47     85.67     28.61\n",
       "2010-05-01       47.70    121.07     38.07\n",
       "2010-06-01       49.08    106.52     34.10\n",
       "2010-07-01       53.34     97.29     37.93\n",
       "2010-08-01       49.21     99.70     35.84\n",
       "2010-09-01       53.79     90.97     40.81\n",
       "2010-10-01       57.87    101.74     45.91\n",
       "2010-11-01       55.02     77.96     43.15\n",
       "2010-12-01       65.29    100.46     34.48"
      ]
     },
     "execution_count": 33,
     "metadata": {},
     "output_type": "execute_result"
    }
   ],
   "source": [
    "data.iloc[24:36, 0:3] # Returns column 0 ('EU Average'), 1 ('EU - Max') and 2 ('EU - Min'), \n",
    "                      # but not column 3 ('Austria')"
   ]
  },
  {
   "cell_type": "markdown",
   "id": "13b0cfb2",
   "metadata": {
    "heading_collapsed": true,
    "hidden": true
   },
   "source": [
    "#### Shortcut for column selection\n",
    "\n",
    "It is possible to also select rows and columns using this short-hand"
   ]
  },
  {
   "cell_type": "code",
   "execution_count": 34,
   "id": "02029834",
   "metadata": {
    "hidden": true
   },
   "outputs": [
    {
     "data": {
      "text/plain": [
       "Category\n",
       "2008-01-01    72.16\n",
       "2008-02-01    70.45\n",
       "2008-03-01    64.62\n",
       "2008-04-01    72.10\n",
       "2008-05-01    65.90\n",
       "              ...  \n",
       "2019-08-01    40.82\n",
       "2019-09-01    40.67\n",
       "2019-10-01    42.45\n",
       "2019-11-01    43.41\n",
       "2019-12-01    36.54\n",
       "Name: EU Average, Length: 144, dtype: float64"
      ]
     },
     "execution_count": 34,
     "metadata": {},
     "output_type": "execute_result"
    }
   ],
   "source": [
    "# Single brackets to select one column\n",
    "data['EU Average']"
   ]
  },
  {
   "cell_type": "code",
   "execution_count": 35,
   "id": "6ed1727b",
   "metadata": {
    "hidden": true
   },
   "outputs": [
    {
     "data": {
      "text/html": [
       "<div>\n",
       "<style scoped>\n",
       "    .dataframe tbody tr th:only-of-type {\n",
       "        vertical-align: middle;\n",
       "    }\n",
       "\n",
       "    .dataframe tbody tr th {\n",
       "        vertical-align: top;\n",
       "    }\n",
       "\n",
       "    .dataframe thead th {\n",
       "        text-align: right;\n",
       "    }\n",
       "</style>\n",
       "<table border=\"1\" class=\"dataframe\">\n",
       "  <thead>\n",
       "    <tr style=\"text-align: right;\">\n",
       "      <th></th>\n",
       "      <th>EU - Max</th>\n",
       "      <th>Austria</th>\n",
       "      <th>Spain</th>\n",
       "    </tr>\n",
       "    <tr>\n",
       "      <th>Category</th>\n",
       "      <th></th>\n",
       "      <th></th>\n",
       "      <th></th>\n",
       "    </tr>\n",
       "  </thead>\n",
       "  <tbody>\n",
       "    <tr>\n",
       "      <th>2008-01-01</th>\n",
       "      <td>114.22</td>\n",
       "      <td>63.23</td>\n",
       "      <td>79.59</td>\n",
       "    </tr>\n",
       "    <tr>\n",
       "      <th>2008-02-01</th>\n",
       "      <td>110.44</td>\n",
       "      <td>65.44</td>\n",
       "      <td>77.48</td>\n",
       "    </tr>\n",
       "    <tr>\n",
       "      <th>2008-03-01</th>\n",
       "      <td>84.13</td>\n",
       "      <td>59.88</td>\n",
       "      <td>66.45</td>\n",
       "    </tr>\n",
       "    <tr>\n",
       "      <th>2008-04-01</th>\n",
       "      <td>114.52</td>\n",
       "      <td>74.10</td>\n",
       "      <td>63.02</td>\n",
       "    </tr>\n",
       "    <tr>\n",
       "      <th>2008-05-01</th>\n",
       "      <td>146.81</td>\n",
       "      <td>63.53</td>\n",
       "      <td>63.20</td>\n",
       "    </tr>\n",
       "    <tr>\n",
       "      <th>...</th>\n",
       "      <td>...</td>\n",
       "      <td>...</td>\n",
       "      <td>...</td>\n",
       "    </tr>\n",
       "    <tr>\n",
       "      <th>2019-08-01</th>\n",
       "      <td>72.65</td>\n",
       "      <td>NaN</td>\n",
       "      <td>44.19</td>\n",
       "    </tr>\n",
       "    <tr>\n",
       "      <th>2019-09-01</th>\n",
       "      <td>59.86</td>\n",
       "      <td>NaN</td>\n",
       "      <td>41.39</td>\n",
       "    </tr>\n",
       "    <tr>\n",
       "      <th>2019-10-01</th>\n",
       "      <td>65.57</td>\n",
       "      <td>NaN</td>\n",
       "      <td>46.37</td>\n",
       "    </tr>\n",
       "    <tr>\n",
       "      <th>2019-11-01</th>\n",
       "      <td>54.36</td>\n",
       "      <td>NaN</td>\n",
       "      <td>41.47</td>\n",
       "    </tr>\n",
       "    <tr>\n",
       "      <th>2019-12-01</th>\n",
       "      <td>58.68</td>\n",
       "      <td>NaN</td>\n",
       "      <td>33.22</td>\n",
       "    </tr>\n",
       "  </tbody>\n",
       "</table>\n",
       "<p>144 rows × 3 columns</p>\n",
       "</div>"
      ],
      "text/plain": [
       "            EU - Max  Austria  Spain\n",
       "Category                            \n",
       "2008-01-01    114.22    63.23  79.59\n",
       "2008-02-01    110.44    65.44  77.48\n",
       "2008-03-01     84.13    59.88  66.45\n",
       "2008-04-01    114.52    74.10  63.02\n",
       "2008-05-01    146.81    63.53  63.20\n",
       "...              ...      ...    ...\n",
       "2019-08-01     72.65      NaN  44.19\n",
       "2019-09-01     59.86      NaN  41.39\n",
       "2019-10-01     65.57      NaN  46.37\n",
       "2019-11-01     54.36      NaN  41.47\n",
       "2019-12-01     58.68      NaN  33.22\n",
       "\n",
       "[144 rows x 3 columns]"
      ]
     },
     "execution_count": 35,
     "metadata": {},
     "output_type": "execute_result"
    }
   ],
   "source": [
    "# Double brackets to select multiple columns\n",
    "data[['EU - Max', 'Austria','Spain']]"
   ]
  },
  {
   "cell_type": "markdown",
   "id": "14d1bf41",
   "metadata": {
    "heading_collapsed": true,
    "hidden": true
   },
   "source": [
    "### Change column names"
   ]
  },
  {
   "cell_type": "markdown",
   "id": "f2ed28f5",
   "metadata": {
    "heading_collapsed": true,
    "hidden": true
   },
   "source": [
    "#### Change index name"
   ]
  },
  {
   "cell_type": "code",
   "execution_count": 36,
   "id": "45bc41d2",
   "metadata": {
    "hidden": true
   },
   "outputs": [
    {
     "data": {
      "text/html": [
       "<div>\n",
       "<style scoped>\n",
       "    .dataframe tbody tr th:only-of-type {\n",
       "        vertical-align: middle;\n",
       "    }\n",
       "\n",
       "    .dataframe tbody tr th {\n",
       "        vertical-align: top;\n",
       "    }\n",
       "\n",
       "    .dataframe thead th {\n",
       "        text-align: right;\n",
       "    }\n",
       "</style>\n",
       "<table border=\"1\" class=\"dataframe\">\n",
       "  <thead>\n",
       "    <tr style=\"text-align: right;\">\n",
       "      <th></th>\n",
       "      <th>EU Average</th>\n",
       "      <th>EU - Max</th>\n",
       "      <th>EU - Min</th>\n",
       "      <th>Austria</th>\n",
       "      <th>Belgium</th>\n",
       "      <th>Bulgaria</th>\n",
       "      <th>Czech Republic</th>\n",
       "      <th>Germany</th>\n",
       "      <th>Denmark</th>\n",
       "      <th>Estonia</th>\n",
       "      <th>...</th>\n",
       "      <th>Canada</th>\n",
       "      <th>China</th>\n",
       "      <th>India</th>\n",
       "      <th>Japan</th>\n",
       "      <th>South Africa</th>\n",
       "      <th>South Korea</th>\n",
       "      <th>Turkey</th>\n",
       "      <th>USA</th>\n",
       "      <th>Switzerland</th>\n",
       "      <th>Norway</th>\n",
       "    </tr>\n",
       "    <tr>\n",
       "      <th>Date</th>\n",
       "      <th></th>\n",
       "      <th></th>\n",
       "      <th></th>\n",
       "      <th></th>\n",
       "      <th></th>\n",
       "      <th></th>\n",
       "      <th></th>\n",
       "      <th></th>\n",
       "      <th></th>\n",
       "      <th></th>\n",
       "      <th></th>\n",
       "      <th></th>\n",
       "      <th></th>\n",
       "      <th></th>\n",
       "      <th></th>\n",
       "      <th></th>\n",
       "      <th></th>\n",
       "      <th></th>\n",
       "      <th></th>\n",
       "      <th></th>\n",
       "      <th></th>\n",
       "    </tr>\n",
       "  </thead>\n",
       "  <tbody>\n",
       "    <tr>\n",
       "      <th>2008-01-01</th>\n",
       "      <td>72.16</td>\n",
       "      <td>114.22</td>\n",
       "      <td>51.24</td>\n",
       "      <td>63.23</td>\n",
       "      <td>72.44</td>\n",
       "      <td>NaN</td>\n",
       "      <td>NaN</td>\n",
       "      <td>62.22</td>\n",
       "      <td>52.47</td>\n",
       "      <td>NaN</td>\n",
       "      <td>...</td>\n",
       "      <td>31.58</td>\n",
       "      <td>111.04</td>\n",
       "      <td>NaN</td>\n",
       "      <td>107.66</td>\n",
       "      <td>NaN</td>\n",
       "      <td>97.12</td>\n",
       "      <td>NaN</td>\n",
       "      <td>75.61</td>\n",
       "      <td>80.22</td>\n",
       "      <td>50.93</td>\n",
       "    </tr>\n",
       "    <tr>\n",
       "      <th>2008-02-01</th>\n",
       "      <td>70.45</td>\n",
       "      <td>110.44</td>\n",
       "      <td>44.13</td>\n",
       "      <td>65.44</td>\n",
       "      <td>69.79</td>\n",
       "      <td>NaN</td>\n",
       "      <td>NaN</td>\n",
       "      <td>66.08</td>\n",
       "      <td>50.45</td>\n",
       "      <td>NaN</td>\n",
       "      <td>...</td>\n",
       "      <td>40.43</td>\n",
       "      <td>112.73</td>\n",
       "      <td>NaN</td>\n",
       "      <td>120.29</td>\n",
       "      <td>NaN</td>\n",
       "      <td>97.92</td>\n",
       "      <td>NaN</td>\n",
       "      <td>75.13</td>\n",
       "      <td>78.85</td>\n",
       "      <td>42.82</td>\n",
       "    </tr>\n",
       "    <tr>\n",
       "      <th>2008-03-01</th>\n",
       "      <td>64.62</td>\n",
       "      <td>84.13</td>\n",
       "      <td>35.41</td>\n",
       "      <td>59.88</td>\n",
       "      <td>71.65</td>\n",
       "      <td>NaN</td>\n",
       "      <td>NaN</td>\n",
       "      <td>59.26</td>\n",
       "      <td>40.26</td>\n",
       "      <td>NaN</td>\n",
       "      <td>...</td>\n",
       "      <td>43.25</td>\n",
       "      <td>112.73</td>\n",
       "      <td>NaN</td>\n",
       "      <td>103.72</td>\n",
       "      <td>NaN</td>\n",
       "      <td>100.87</td>\n",
       "      <td>NaN</td>\n",
       "      <td>78.49</td>\n",
       "      <td>78.33</td>\n",
       "      <td>32.88</td>\n",
       "    </tr>\n",
       "    <tr>\n",
       "      <th>2008-04-01</th>\n",
       "      <td>72.10</td>\n",
       "      <td>114.52</td>\n",
       "      <td>35.41</td>\n",
       "      <td>74.10</td>\n",
       "      <td>84.55</td>\n",
       "      <td>NaN</td>\n",
       "      <td>NaN</td>\n",
       "      <td>74.96</td>\n",
       "      <td>40.26</td>\n",
       "      <td>NaN</td>\n",
       "      <td>...</td>\n",
       "      <td>38.20</td>\n",
       "      <td>112.73</td>\n",
       "      <td>NaN</td>\n",
       "      <td>78.26</td>\n",
       "      <td>NaN</td>\n",
       "      <td>101.49</td>\n",
       "      <td>NaN</td>\n",
       "      <td>88.04</td>\n",
       "      <td>84.23</td>\n",
       "      <td>32.88</td>\n",
       "    </tr>\n",
       "    <tr>\n",
       "      <th>2008-05-01</th>\n",
       "      <td>65.90</td>\n",
       "      <td>146.81</td>\n",
       "      <td>42.63</td>\n",
       "      <td>63.53</td>\n",
       "      <td>75.99</td>\n",
       "      <td>NaN</td>\n",
       "      <td>NaN</td>\n",
       "      <td>62.48</td>\n",
       "      <td>59.33</td>\n",
       "      <td>NaN</td>\n",
       "      <td>...</td>\n",
       "      <td>27.12</td>\n",
       "      <td>112.73</td>\n",
       "      <td>NaN</td>\n",
       "      <td>72.93</td>\n",
       "      <td>NaN</td>\n",
       "      <td>98.88</td>\n",
       "      <td>NaN</td>\n",
       "      <td>81.16</td>\n",
       "      <td>63.76</td>\n",
       "      <td>28.66</td>\n",
       "    </tr>\n",
       "  </tbody>\n",
       "</table>\n",
       "<p>5 rows × 41 columns</p>\n",
       "</div>"
      ],
      "text/plain": [
       "            EU Average  EU - Max  EU - Min  Austria  Belgium  Bulgaria  \\\n",
       "Date                                                                     \n",
       "2008-01-01       72.16    114.22     51.24    63.23    72.44       NaN   \n",
       "2008-02-01       70.45    110.44     44.13    65.44    69.79       NaN   \n",
       "2008-03-01       64.62     84.13     35.41    59.88    71.65       NaN   \n",
       "2008-04-01       72.10    114.52     35.41    74.10    84.55       NaN   \n",
       "2008-05-01       65.90    146.81     42.63    63.53    75.99       NaN   \n",
       "\n",
       "            Czech Republic  Germany  Denmark  Estonia  ...  Canada   China  \\\n",
       "Date                                                   ...                   \n",
       "2008-01-01             NaN    62.22    52.47      NaN  ...   31.58  111.04   \n",
       "2008-02-01             NaN    66.08    50.45      NaN  ...   40.43  112.73   \n",
       "2008-03-01             NaN    59.26    40.26      NaN  ...   43.25  112.73   \n",
       "2008-04-01             NaN    74.96    40.26      NaN  ...   38.20  112.73   \n",
       "2008-05-01             NaN    62.48    59.33      NaN  ...   27.12  112.73   \n",
       "\n",
       "            India   Japan  South Africa  South Korea  Turkey    USA  \\\n",
       "Date                                                                  \n",
       "2008-01-01    NaN  107.66           NaN        97.12     NaN  75.61   \n",
       "2008-02-01    NaN  120.29           NaN        97.92     NaN  75.13   \n",
       "2008-03-01    NaN  103.72           NaN       100.87     NaN  78.49   \n",
       "2008-04-01    NaN   78.26           NaN       101.49     NaN  88.04   \n",
       "2008-05-01    NaN   72.93           NaN        98.88     NaN  81.16   \n",
       "\n",
       "            Switzerland  Norway  \n",
       "Date                             \n",
       "2008-01-01        80.22   50.93  \n",
       "2008-02-01        78.85   42.82  \n",
       "2008-03-01        78.33   32.88  \n",
       "2008-04-01        84.23   32.88  \n",
       "2008-05-01        63.76   28.66  \n",
       "\n",
       "[5 rows x 41 columns]"
      ]
     },
     "execution_count": 36,
     "metadata": {},
     "output_type": "execute_result"
    }
   ],
   "source": [
    "data.index.name = 'Date'\n",
    "data.head()"
   ]
  },
  {
   "cell_type": "markdown",
   "id": "97d3e7be",
   "metadata": {
    "heading_collapsed": true,
    "hidden": true
   },
   "source": [
    "#### Change column names"
   ]
  },
  {
   "cell_type": "code",
   "execution_count": 37,
   "id": "0ea771cd",
   "metadata": {
    "hidden": true
   },
   "outputs": [
    {
     "data": {
      "text/html": [
       "<div>\n",
       "<style scoped>\n",
       "    .dataframe tbody tr th:only-of-type {\n",
       "        vertical-align: middle;\n",
       "    }\n",
       "\n",
       "    .dataframe tbody tr th {\n",
       "        vertical-align: top;\n",
       "    }\n",
       "\n",
       "    .dataframe thead th {\n",
       "        text-align: right;\n",
       "    }\n",
       "</style>\n",
       "<table border=\"1\" class=\"dataframe\">\n",
       "  <thead>\n",
       "    <tr style=\"text-align: right;\">\n",
       "      <th></th>\n",
       "      <th>EU Av</th>\n",
       "      <th>EU Max</th>\n",
       "      <th>EU Min</th>\n",
       "      <th>Austria</th>\n",
       "      <th>Belgium</th>\n",
       "      <th>Bulgaria</th>\n",
       "      <th>Czech Republic</th>\n",
       "      <th>Germany</th>\n",
       "      <th>Denmark</th>\n",
       "      <th>Estonia</th>\n",
       "      <th>...</th>\n",
       "      <th>Canada</th>\n",
       "      <th>China</th>\n",
       "      <th>India</th>\n",
       "      <th>Japan</th>\n",
       "      <th>South Africa</th>\n",
       "      <th>South Korea</th>\n",
       "      <th>Turkey</th>\n",
       "      <th>USA</th>\n",
       "      <th>Switzerland</th>\n",
       "      <th>Norway</th>\n",
       "    </tr>\n",
       "    <tr>\n",
       "      <th>Date</th>\n",
       "      <th></th>\n",
       "      <th></th>\n",
       "      <th></th>\n",
       "      <th></th>\n",
       "      <th></th>\n",
       "      <th></th>\n",
       "      <th></th>\n",
       "      <th></th>\n",
       "      <th></th>\n",
       "      <th></th>\n",
       "      <th></th>\n",
       "      <th></th>\n",
       "      <th></th>\n",
       "      <th></th>\n",
       "      <th></th>\n",
       "      <th></th>\n",
       "      <th></th>\n",
       "      <th></th>\n",
       "      <th></th>\n",
       "      <th></th>\n",
       "      <th></th>\n",
       "    </tr>\n",
       "  </thead>\n",
       "  <tbody>\n",
       "    <tr>\n",
       "      <th>2008-01-01</th>\n",
       "      <td>72.16</td>\n",
       "      <td>114.22</td>\n",
       "      <td>51.24</td>\n",
       "      <td>63.23</td>\n",
       "      <td>72.44</td>\n",
       "      <td>NaN</td>\n",
       "      <td>NaN</td>\n",
       "      <td>62.22</td>\n",
       "      <td>52.47</td>\n",
       "      <td>NaN</td>\n",
       "      <td>...</td>\n",
       "      <td>31.58</td>\n",
       "      <td>111.04</td>\n",
       "      <td>NaN</td>\n",
       "      <td>107.66</td>\n",
       "      <td>NaN</td>\n",
       "      <td>97.12</td>\n",
       "      <td>NaN</td>\n",
       "      <td>75.61</td>\n",
       "      <td>80.22</td>\n",
       "      <td>50.93</td>\n",
       "    </tr>\n",
       "    <tr>\n",
       "      <th>2008-02-01</th>\n",
       "      <td>70.45</td>\n",
       "      <td>110.44</td>\n",
       "      <td>44.13</td>\n",
       "      <td>65.44</td>\n",
       "      <td>69.79</td>\n",
       "      <td>NaN</td>\n",
       "      <td>NaN</td>\n",
       "      <td>66.08</td>\n",
       "      <td>50.45</td>\n",
       "      <td>NaN</td>\n",
       "      <td>...</td>\n",
       "      <td>40.43</td>\n",
       "      <td>112.73</td>\n",
       "      <td>NaN</td>\n",
       "      <td>120.29</td>\n",
       "      <td>NaN</td>\n",
       "      <td>97.92</td>\n",
       "      <td>NaN</td>\n",
       "      <td>75.13</td>\n",
       "      <td>78.85</td>\n",
       "      <td>42.82</td>\n",
       "    </tr>\n",
       "    <tr>\n",
       "      <th>2008-03-01</th>\n",
       "      <td>64.62</td>\n",
       "      <td>84.13</td>\n",
       "      <td>35.41</td>\n",
       "      <td>59.88</td>\n",
       "      <td>71.65</td>\n",
       "      <td>NaN</td>\n",
       "      <td>NaN</td>\n",
       "      <td>59.26</td>\n",
       "      <td>40.26</td>\n",
       "      <td>NaN</td>\n",
       "      <td>...</td>\n",
       "      <td>43.25</td>\n",
       "      <td>112.73</td>\n",
       "      <td>NaN</td>\n",
       "      <td>103.72</td>\n",
       "      <td>NaN</td>\n",
       "      <td>100.87</td>\n",
       "      <td>NaN</td>\n",
       "      <td>78.49</td>\n",
       "      <td>78.33</td>\n",
       "      <td>32.88</td>\n",
       "    </tr>\n",
       "    <tr>\n",
       "      <th>2008-04-01</th>\n",
       "      <td>72.10</td>\n",
       "      <td>114.52</td>\n",
       "      <td>35.41</td>\n",
       "      <td>74.10</td>\n",
       "      <td>84.55</td>\n",
       "      <td>NaN</td>\n",
       "      <td>NaN</td>\n",
       "      <td>74.96</td>\n",
       "      <td>40.26</td>\n",
       "      <td>NaN</td>\n",
       "      <td>...</td>\n",
       "      <td>38.20</td>\n",
       "      <td>112.73</td>\n",
       "      <td>NaN</td>\n",
       "      <td>78.26</td>\n",
       "      <td>NaN</td>\n",
       "      <td>101.49</td>\n",
       "      <td>NaN</td>\n",
       "      <td>88.04</td>\n",
       "      <td>84.23</td>\n",
       "      <td>32.88</td>\n",
       "    </tr>\n",
       "    <tr>\n",
       "      <th>2008-05-01</th>\n",
       "      <td>65.90</td>\n",
       "      <td>146.81</td>\n",
       "      <td>42.63</td>\n",
       "      <td>63.53</td>\n",
       "      <td>75.99</td>\n",
       "      <td>NaN</td>\n",
       "      <td>NaN</td>\n",
       "      <td>62.48</td>\n",
       "      <td>59.33</td>\n",
       "      <td>NaN</td>\n",
       "      <td>...</td>\n",
       "      <td>27.12</td>\n",
       "      <td>112.73</td>\n",
       "      <td>NaN</td>\n",
       "      <td>72.93</td>\n",
       "      <td>NaN</td>\n",
       "      <td>98.88</td>\n",
       "      <td>NaN</td>\n",
       "      <td>81.16</td>\n",
       "      <td>63.76</td>\n",
       "      <td>28.66</td>\n",
       "    </tr>\n",
       "  </tbody>\n",
       "</table>\n",
       "<p>5 rows × 41 columns</p>\n",
       "</div>"
      ],
      "text/plain": [
       "            EU Av  EU Max  EU Min  Austria  Belgium  Bulgaria  Czech Republic  \\\n",
       "Date                                                                            \n",
       "2008-01-01  72.16  114.22   51.24    63.23    72.44       NaN             NaN   \n",
       "2008-02-01  70.45  110.44   44.13    65.44    69.79       NaN             NaN   \n",
       "2008-03-01  64.62   84.13   35.41    59.88    71.65       NaN             NaN   \n",
       "2008-04-01  72.10  114.52   35.41    74.10    84.55       NaN             NaN   \n",
       "2008-05-01  65.90  146.81   42.63    63.53    75.99       NaN             NaN   \n",
       "\n",
       "            Germany  Denmark  Estonia  ...  Canada   China  India   Japan  \\\n",
       "Date                                   ...                                  \n",
       "2008-01-01    62.22    52.47      NaN  ...   31.58  111.04    NaN  107.66   \n",
       "2008-02-01    66.08    50.45      NaN  ...   40.43  112.73    NaN  120.29   \n",
       "2008-03-01    59.26    40.26      NaN  ...   43.25  112.73    NaN  103.72   \n",
       "2008-04-01    74.96    40.26      NaN  ...   38.20  112.73    NaN   78.26   \n",
       "2008-05-01    62.48    59.33      NaN  ...   27.12  112.73    NaN   72.93   \n",
       "\n",
       "            South Africa  South Korea  Turkey    USA  Switzerland  Norway  \n",
       "Date                                                                       \n",
       "2008-01-01           NaN        97.12     NaN  75.61        80.22   50.93  \n",
       "2008-02-01           NaN        97.92     NaN  75.13        78.85   42.82  \n",
       "2008-03-01           NaN       100.87     NaN  78.49        78.33   32.88  \n",
       "2008-04-01           NaN       101.49     NaN  88.04        84.23   32.88  \n",
       "2008-05-01           NaN        98.88     NaN  81.16        63.76   28.66  \n",
       "\n",
       "[5 rows x 41 columns]"
      ]
     },
     "execution_count": 37,
     "metadata": {},
     "output_type": "execute_result"
    }
   ],
   "source": [
    "data.rename(columns = {'EU Average': 'EU Av',\n",
    "                       'EU - Max' : 'EU Max',\n",
    "                       'EU - Min': 'EU Min'},\n",
    "            inplace = True)\n",
    "data.head()"
   ]
  },
  {
   "cell_type": "markdown",
   "id": "663e1741",
   "metadata": {
    "heading_collapsed": true,
    "hidden": true
   },
   "source": [
    "## Filters & Conditionals"
   ]
  },
  {
   "cell_type": "markdown",
   "id": "bd0339a9",
   "metadata": {
    "heading_collapsed": true,
    "hidden": true
   },
   "source": [
    "### Creating a filter "
   ]
  },
  {
   "cell_type": "markdown",
   "id": "1431c61a",
   "metadata": {
    "hidden": true
   },
   "source": [
    "You can filter the dataframe, or a column using a conditional"
   ]
  },
  {
   "cell_type": "code",
   "execution_count": 38,
   "id": "f3740bf4",
   "metadata": {
    "hidden": true
   },
   "outputs": [
    {
     "data": {
      "text/plain": [
       "Date\n",
       "2008-01-01    False\n",
       "2008-02-01    False\n",
       "2008-03-01    False\n",
       "2008-04-01    False\n",
       "2008-05-01    False\n",
       "              ...  \n",
       "2019-08-01    False\n",
       "2019-09-01    False\n",
       "2019-10-01    False\n",
       "2019-11-01    False\n",
       "2019-12-01    False\n",
       "Name: EU Av, Length: 144, dtype: bool"
      ]
     },
     "execution_count": 38,
     "metadata": {},
     "output_type": "execute_result"
    }
   ],
   "source": [
    "filter_1 = data['EU Av'] > 80\n",
    "filter_1"
   ]
  },
  {
   "cell_type": "markdown",
   "id": "420a54c5",
   "metadata": {
    "heading_collapsed": true,
    "hidden": true
   },
   "source": [
    "### Applying a filter"
   ]
  },
  {
   "cell_type": "code",
   "execution_count": 39,
   "id": "5c20040f",
   "metadata": {
    "hidden": true
   },
   "outputs": [
    {
     "data": {
      "text/plain": [
       "Date\n",
       "2008-07-01    81.57\n",
       "2008-09-01    94.84\n",
       "2008-10-01    92.19\n",
       "Name: EU Av, dtype: float64"
      ]
     },
     "execution_count": 39,
     "metadata": {},
     "output_type": "execute_result"
    }
   ],
   "source": [
    "data.loc[filter_1, 'EU Av']"
   ]
  },
  {
   "cell_type": "markdown",
   "id": "026bc32a",
   "metadata": {
    "heading_collapsed": true,
    "hidden": true
   },
   "source": [
    "### !Warning! - `SettingWithCopy`"
   ]
  },
  {
   "cell_type": "markdown",
   "id": "6780142c",
   "metadata": {
    "hidden": true
   },
   "source": [
    "You may get `'Setting with Copy Warning'` when chaining filter assignments & changing values returned.\n",
    "\n",
    "See this [explaination](https://www.dataquest.io/blog/settingwithcopywarning/) for more information."
   ]
  },
  {
   "cell_type": "code",
   "execution_count": 40,
   "id": "ababdb54",
   "metadata": {
    "hidden": true
   },
   "outputs": [],
   "source": [
    "pd.set_option('mode.chained_assignment', 'warn')"
   ]
  },
  {
   "cell_type": "markdown",
   "id": "526f65f2",
   "metadata": {
    "heading_collapsed": true,
    "hidden": true
   },
   "source": [
    "#### **Example**"
   ]
  },
  {
   "cell_type": "markdown",
   "id": "1d76278c",
   "metadata": {
    "hidden": true
   },
   "source": [
    "*1. Filtering for data before 2010*"
   ]
  },
  {
   "cell_type": "code",
   "execution_count": 41,
   "id": "0e555e3d",
   "metadata": {
    "hidden": true
   },
   "outputs": [],
   "source": [
    "data_2010 = data.index < '2010-01-01'"
   ]
  },
  {
   "cell_type": "markdown",
   "id": "2610c87b",
   "metadata": {
    "hidden": true
   },
   "source": [
    "*3. Then **chaining with another filter** (here `['Denmark']` to only select that column) AND **changing the values**, will raise the `SettingWithCopy` warning/error*"
   ]
  },
  {
   "cell_type": "code",
   "execution_count": 42,
   "id": "432597c6",
   "metadata": {
    "hidden": true
   },
   "outputs": [
    {
     "name": "stderr",
     "output_type": "stream",
     "text": [
      "C:\\Users\\SAL78940\\AppData\\Local\\Temp\\ipykernel_29824\\2674094292.py:1: SettingWithCopyWarning: \n",
      "A value is trying to be set on a copy of a slice from a DataFrame.\n",
      "Try using .loc[row_indexer,col_indexer] = value instead\n",
      "\n",
      "See the caveats in the documentation: https://pandas.pydata.org/pandas-docs/stable/user_guide/indexing.html#returning-a-view-versus-a-copy\n",
      "  data[data_2010]['Denmark'] = 100\n"
     ]
    }
   ],
   "source": [
    "data[data_2010]['Denmark'] = 100"
   ]
  },
  {
   "cell_type": "markdown",
   "id": "ede19fd6",
   "metadata": {
    "hidden": true
   },
   "source": [
    "Chaining the filters as such, allows us to **view the data**, but **not to edit it**!"
   ]
  },
  {
   "cell_type": "code",
   "execution_count": 44,
   "id": "997c8d60",
   "metadata": {
    "hidden": true
   },
   "outputs": [
    {
     "data": {
      "text/plain": [
       "Date\n",
       "2008-01-01    52.47\n",
       "2008-02-01    50.45\n",
       "2008-03-01    40.26\n",
       "2008-04-01    40.26\n",
       "2008-05-01    59.33\n",
       "Name: Denmark, dtype: float64"
      ]
     },
     "execution_count": 44,
     "metadata": {},
     "output_type": "execute_result"
    }
   ],
   "source": [
    "data[data_2010]['Denmark'].head(5)"
   ]
  },
  {
   "cell_type": "markdown",
   "id": "df5fac9e",
   "metadata": {
    "hidden": true
   },
   "source": [
    "That is because pandas is **quietly creating a copy** of the original dataframe with the first filter, and then filtering the copy with the second filter."
   ]
  },
  {
   "cell_type": "markdown",
   "id": "814e7662",
   "metadata": {
    "heading_collapsed": true,
    "hidden": true
   },
   "source": [
    "#### Solution"
   ]
  },
  {
   "cell_type": "markdown",
   "id": "25eadd55",
   "metadata": {
    "hidden": true
   },
   "source": [
    "**To avoid error/warning**: Avoid chaining arguments, and resolve within one line:"
   ]
  },
  {
   "cell_type": "code",
   "execution_count": 45,
   "id": "5ff10b84",
   "metadata": {
    "hidden": true
   },
   "outputs": [],
   "source": [
    "data.loc[data.index < '2010-01-01','Denmark'] = 100"
   ]
  },
  {
   "cell_type": "code",
   "execution_count": 46,
   "id": "4fec9306",
   "metadata": {
    "hidden": true
   },
   "outputs": [
    {
     "data": {
      "text/plain": [
       "Date\n",
       "2008-01-01    100.0\n",
       "2008-02-01    100.0\n",
       "2008-03-01    100.0\n",
       "Name: Denmark, dtype: float64"
      ]
     },
     "execution_count": 46,
     "metadata": {},
     "output_type": "execute_result"
    }
   ],
   "source": [
    "data.loc['2008-01-01':'2010-01-01','Denmark'].head(3)"
   ]
  },
  {
   "cell_type": "markdown",
   "id": "5bef9cd8",
   "metadata": {
    "hidden": true
   },
   "source": [
    "**OR** actually copy the partial view created before chaining the assignment on the copy"
   ]
  },
  {
   "cell_type": "code",
   "execution_count": 47,
   "id": "e698663b",
   "metadata": {
    "hidden": true
   },
   "outputs": [],
   "source": [
    "data_pre_2010 = data[data.index < '2010-01-01'].copy()"
   ]
  },
  {
   "cell_type": "code",
   "execution_count": 48,
   "id": "9054f6cc",
   "metadata": {
    "hidden": true
   },
   "outputs": [],
   "source": [
    "data_pre_2010['Denmark'] = 50"
   ]
  },
  {
   "cell_type": "code",
   "execution_count": 49,
   "id": "a47244da",
   "metadata": {
    "hidden": true
   },
   "outputs": [
    {
     "data": {
      "text/plain": [
       "Date\n",
       "2008-01-01    50\n",
       "2008-02-01    50\n",
       "2008-03-01    50\n",
       "Name: Denmark, dtype: int64"
      ]
     },
     "execution_count": 49,
     "metadata": {},
     "output_type": "execute_result"
    }
   ],
   "source": [
    "data_pre_2010['Denmark'].head(3)"
   ]
  },
  {
   "cell_type": "code",
   "execution_count": 50,
   "id": "5572c9a7",
   "metadata": {
    "hidden": true
   },
   "outputs": [
    {
     "data": {
      "text/plain": [
       "Date\n",
       "2008-01-01    100.0\n",
       "2008-02-01    100.0\n",
       "2008-03-01    100.0\n",
       "Name: Denmark, dtype: float64"
      ]
     },
     "execution_count": 50,
     "metadata": {},
     "output_type": "execute_result"
    }
   ],
   "source": [
    "# Which does not change the original series\n",
    "data.loc['2008-01-01':'2010-01-01','Denmark'].head(3)"
   ]
  },
  {
   "cell_type": "markdown",
   "id": "d97f3fc0",
   "metadata": {
    "heading_collapsed": true,
    "hidden": true
   },
   "source": [
    "## Groupby"
   ]
  },
  {
   "cell_type": "markdown",
   "id": "0a930cff",
   "metadata": {
    "heading_collapsed": true,
    "hidden": true
   },
   "source": [
    "### Basic"
   ]
  },
  {
   "cell_type": "code",
   "execution_count": 51,
   "id": "bf938fbe",
   "metadata": {
    "hidden": true
   },
   "outputs": [],
   "source": [
    "yearly_groups = data.groupby(data.index.year) # Groupby can also be applied to columns"
   ]
  },
  {
   "cell_type": "code",
   "execution_count": 52,
   "id": "32be8006",
   "metadata": {
    "hidden": true
   },
   "outputs": [
    {
     "name": "stdout",
     "output_type": "stream",
     "text": [
      "2008\n",
      "EU Av              911.28\n",
      "EU Max            1594.00\n",
      "EU Min             625.11\n",
      "Austria            883.95\n",
      "Belgium            941.92\n",
      "Bulgaria             0.00\n",
      "Czech Republic       0.00\n",
      "Germany            877.36\n",
      "Denmark           1200.00\n",
      "Estonia              0.00\n",
      "Greece            1096.52\n",
      "Spain              873.36\n",
      "Finland            667.19\n",
      "France             922.33\n",
      "Croatia              0.00\n",
      "Hungary              0.00\n",
      "Ireland              0.00\n",
      "Italy             1184.49\n",
      "Lithuania            0.00\n",
      "Luxembourg         877.36\n",
      "Latvia               0.00\n",
      "Malta             1593.37\n",
      "Netherlands        934.39\n",
      "Poland             399.41\n",
      "Portugal           933.15\n",
      "Romania            683.05\n",
      "Sweden             668.41\n",
      "Slovenia             0.00\n",
      "Slovakia             0.00\n",
      "United Kingdom       0.00\n",
      "Brazil             733.17\n",
      "Canada             459.93\n",
      "China             1371.24\n",
      "India             1129.26\n",
      "Japan             1051.62\n",
      "South Africa         0.00\n",
      "South Korea       1349.13\n",
      "Turkey               0.00\n",
      "USA                905.70\n",
      "Switzerland        992.14\n",
      "Norway             586.98\n",
      "dtype: float64\n",
      "2009\n",
      "EU Av              570.48\n",
      "EU Max            1163.13\n",
      "EU Min             415.56\n",
      "Austria            516.31\n",
      "Belgium            520.52\n",
      "Bulgaria             0.00\n",
      "Czech Republic     130.97\n",
      "Germany            513.76\n",
      "Denmark           1200.00\n",
      "Estonia              0.00\n",
      "Greece             573.10\n",
      "Spain              499.67\n",
      "Finland            489.05\n",
      "France             568.11\n",
      "Croatia              0.00\n",
      "Hungary              0.00\n",
      "Ireland              0.00\n",
      "Italy              885.90\n",
      "Lithuania            0.00\n",
      "Luxembourg         513.76\n",
      "Latvia               0.00\n",
      "Malta             1163.13\n",
      "Netherlands        517.88\n",
      "Poland             517.50\n",
      "Portugal           497.27\n",
      "Romania            452.42\n",
      "Sweden             489.44\n",
      "Slovenia             0.00\n",
      "Slovakia             0.00\n",
      "United Kingdom       0.00\n",
      "Brazil             171.70\n",
      "Canada             283.01\n",
      "China             1434.83\n",
      "India             1407.18\n",
      "Japan              595.14\n",
      "South Africa         0.00\n",
      "South Korea       1112.12\n",
      "Turkey               0.00\n",
      "USA                464.06\n",
      "Switzerland        634.38\n",
      "Norway             463.43\n",
      "dtype: float64\n",
      "2010\n",
      "EU Av              630.57\n",
      "EU Max            1189.92\n",
      "EU Min             420.95\n",
      "Austria            587.85\n",
      "Belgium            607.35\n",
      "Bulgaria             0.00\n",
      "Czech Republic     573.13\n",
      "Germany            583.50\n",
      "Denmark            679.83\n",
      "Estonia            455.78\n",
      "Greece             599.11\n",
      "Spain              484.93\n",
      "Finland            746.08\n",
      "France             622.99\n",
      "Croatia              0.00\n",
      "Hungary            341.13\n",
      "Ireland            720.39\n",
      "Italy              841.12\n",
      "Lithuania            0.00\n",
      "Luxembourg         583.50\n",
      "Latvia               0.00\n",
      "Malta             1178.07\n",
      "Netherlands        595.12\n",
      "Poland             630.87\n",
      "Portugal           482.70\n",
      "Romania            478.58\n",
      "Sweden             748.37\n",
      "Slovenia           416.32\n",
      "Slovakia           572.65\n",
      "United Kingdom       0.00\n",
      "Brazil             360.71\n",
      "Canada             332.88\n",
      "China             1408.67\n",
      "India              807.03\n",
      "Japan              726.00\n",
      "South Africa         0.00\n",
      "South Korea       1210.70\n",
      "Turkey               0.00\n",
      "USA                511.98\n",
      "Switzerland        669.67\n",
      "Norway             697.41\n",
      "dtype: float64\n",
      "2011\n",
      "EU Av              691.03\n",
      "EU Max            1207.73\n",
      "EU Min             512.22\n",
      "Austria            674.31\n",
      "Belgium            641.50\n",
      "Bulgaria             0.00\n",
      "Czech Republic     656.84\n",
      "Germany            664.06\n",
      "Denmark            632.60\n",
      "Estonia            563.15\n",
      "Greece             770.69\n",
      "Spain              639.06\n",
      "Finland            641.10\n",
      "France             635.26\n",
      "Croatia              0.00\n",
      "Hungary            724.64\n",
      "Ireland            808.60\n",
      "Italy              937.44\n",
      "Lithuania            0.00\n",
      "Luxembourg         664.06\n",
      "Latvia               0.00\n",
      "Malta             1207.73\n",
      "Netherlands        676.01\n",
      "Poland             637.38\n",
      "Portugal           654.93\n",
      "Romania            676.42\n",
      "Sweden             622.57\n",
      "Slovenia           742.61\n",
      "Slovakia           661.13\n",
      "United Kingdom       0.00\n",
      "Brazil             124.57\n",
      "Canada             269.35\n",
      "China             1320.94\n",
      "India              715.88\n",
      "Japan             1126.25\n",
      "South Africa         0.00\n",
      "South Korea       1281.24\n",
      "Turkey              48.53\n",
      "USA                464.62\n",
      "Switzerland        730.07\n",
      "Norway             612.03\n",
      "dtype: float64\n",
      "2012\n",
      "EU Av              621.59\n",
      "EU Max            1220.68\n",
      "EU Min             402.96\n",
      "Austria            554.90\n",
      "Belgium            603.41\n",
      "Bulgaria             0.00\n",
      "Czech Republic     544.48\n",
      "Germany            546.85\n",
      "Denmark            475.48\n",
      "Estonia            502.85\n",
      "Greece             723.65\n",
      "Spain              605.72\n",
      "Finland            471.13\n",
      "France             604.56\n",
      "Croatia              0.00\n",
      "Hungary            661.28\n",
      "Ireland            839.32\n",
      "Italy              968.16\n",
      "Lithuania          291.66\n",
      "Luxembourg         546.85\n",
      "Latvia               0.00\n",
      "Malta             1220.68\n",
      "Netherlands        615.72\n",
      "Poland             540.29\n",
      "Portugal           616.60\n",
      "Romania            626.50\n",
      "Sweden             415.83\n",
      "Slovenia           682.87\n",
      "Slovakia           550.12\n",
      "United Kingdom       0.00\n",
      "Brazil             656.20\n",
      "Canada             202.57\n",
      "China             1325.05\n",
      "India              657.48\n",
      "Japan             1424.03\n",
      "South Africa         0.00\n",
      "South Korea       1612.95\n",
      "Turkey             538.51\n",
      "USA                382.27\n",
      "Switzerland        636.70\n",
      "Norway             401.31\n",
      "dtype: float64\n",
      "2013\n",
      "EU Av              559.16\n",
      "EU Max            1173.56\n",
      "EU Min             395.28\n",
      "Austria            480.87\n",
      "Belgium            601.71\n",
      "Bulgaria             0.00\n",
      "Czech Republic     465.77\n",
      "Germany            479.01\n",
      "Denmark            498.01\n",
      "Estonia            550.43\n",
      "Greece             525.11\n",
      "Spain              559.68\n",
      "Finland            520.62\n",
      "France             548.35\n",
      "Croatia              0.00\n",
      "Hungary            536.02\n",
      "Ireland            853.70\n",
      "Italy              797.34\n",
      "Lithuania          619.39\n",
      "Luxembourg         479.01\n",
      "Latvia             328.67\n",
      "Malta             1164.87\n",
      "Netherlands        658.06\n",
      "Poland             464.19\n",
      "Portugal           551.91\n",
      "Romania            447.17\n",
      "Sweden             499.54\n",
      "Slovenia           546.73\n",
      "Slovakia           471.42\n",
      "United Kingdom       0.00\n",
      "Brazil             969.99\n",
      "Canada             219.33\n",
      "China             1299.80\n",
      "India              494.88\n",
      "Japan             1501.14\n",
      "South Africa         0.00\n",
      "South Korea       1513.55\n",
      "Turkey             510.84\n",
      "USA                501.21\n",
      "Switzerland        567.21\n",
      "Norway             482.59\n",
      "dtype: float64\n",
      "2014\n",
      "EU Av              487.54\n",
      "EU Max            1014.18\n",
      "EU Min             342.88\n",
      "Austria            412.63\n",
      "Belgium            511.76\n",
      "Bulgaria             0.00\n",
      "Czech Republic     413.67\n",
      "Germany            411.26\n",
      "Denmark            394.05\n",
      "Estonia            471.46\n",
      "Greece             717.50\n",
      "Spain              531.86\n",
      "Finland            451.64\n",
      "France             434.91\n",
      "Croatia              0.00\n",
      "Hungary            507.77\n",
      "Ireland            716.77\n",
      "Italy              653.18\n",
      "Lithuania          628.35\n",
      "Luxembourg         411.26\n",
      "Latvia             628.25\n",
      "Malta             1014.18\n",
      "Netherlands        516.90\n",
      "Poland             536.79\n",
      "Portugal           522.95\n",
      "Romania            434.57\n",
      "Sweden             396.56\n",
      "Slovenia           506.84\n",
      "Slovakia           422.22\n",
      "United Kingdom     538.68\n",
      "Brazil            2256.12\n",
      "Canada             283.84\n",
      "China             1302.05\n",
      "India              608.23\n",
      "Japan             1500.27\n",
      "South Africa         0.00\n",
      "South Korea       1405.94\n",
      "Turkey             520.18\n",
      "USA                576.27\n",
      "Switzerland        462.13\n",
      "Norway             371.42\n",
      "dtype: float64\n",
      "2015\n",
      "EU Av              484.00\n",
      "EU Max             721.40\n",
      "EU Min             269.71\n",
      "Austria            391.95\n",
      "Belgium            555.80\n",
      "Bulgaria             0.00\n",
      "Czech Republic     400.49\n",
      "Germany            392.11\n",
      "Denmark            294.08\n",
      "Estonia            384.91\n",
      "Greece             642.83\n",
      "Spain              632.09\n",
      "Finland            367.91\n",
      "France             476.82\n",
      "Croatia              0.00\n",
      "Hungary            504.38\n",
      "Ireland            613.25\n",
      "Italy              647.32\n",
      "Lithuania          518.61\n",
      "Luxembourg         392.11\n",
      "Latvia             517.71\n",
      "Malta              711.54\n",
      "Netherlands        496.26\n",
      "Poland             467.89\n",
      "Portugal           623.40\n",
      "Romania            450.58\n",
      "Sweden             273.19\n",
      "Slovenia           512.41\n",
      "Slovakia           415.79\n",
      "United Kingdom     689.68\n",
      "Brazil             908.50\n",
      "Canada             191.11\n",
      "China             1299.87\n",
      "India              467.44\n",
      "Japan             1009.51\n",
      "South Africa       691.74\n",
      "South Korea        978.87\n",
      "Turkey             405.69\n",
      "USA                376.39\n",
      "Switzerland        499.52\n",
      "Norway             260.47\n",
      "dtype: float64\n",
      "2016\n",
      "EU Av              429.44\n",
      "EU Max             625.06\n",
      "EU Min             332.71\n",
      "Austria            358.56\n",
      "Belgium            451.87\n",
      "Bulgaria           386.17\n",
      "Czech Republic     383.38\n",
      "Germany            355.36\n",
      "Denmark            343.75\n",
      "Estonia            405.68\n",
      "Greece             525.66\n",
      "Spain              491.18\n",
      "Finland            397.99\n",
      "France             453.47\n",
      "Croatia              0.00\n",
      "Hungary            434.67\n",
      "Ireland            492.59\n",
      "Italy              524.55\n",
      "Lithuania          448.03\n",
      "Luxembourg         355.36\n",
      "Latvia             442.52\n",
      "Malta              584.00\n",
      "Netherlands        395.73\n",
      "Poland             449.62\n",
      "Portugal           483.28\n",
      "Romania            407.90\n",
      "Sweden             358.41\n",
      "Slovenia           436.39\n",
      "Slovakia           386.66\n",
      "United Kingdom     602.90\n",
      "Brazil             343.51\n",
      "Canada             133.30\n",
      "China             1271.00\n",
      "India              385.78\n",
      "Japan              725.77\n",
      "South Africa       798.28\n",
      "South Korea        727.20\n",
      "Turkey             380.32\n",
      "USA                322.87\n",
      "Switzerland        464.53\n",
      "Norway             329.97\n",
      "dtype: float64\n",
      "2017\n",
      "EU Av              516.91\n",
      "EU Max             766.21\n",
      "EU Min             366.46\n",
      "Austria            422.47\n",
      "Belgium            542.91\n",
      "Bulgaria           477.54\n",
      "Czech Republic     445.74\n",
      "Germany            419.28\n",
      "Denmark            377.15\n",
      "Estonia            403.70\n",
      "Greece             664.75\n",
      "Spain              638.37\n",
      "Finland            403.59\n",
      "France             548.34\n",
      "Croatia              0.00\n",
      "Hungary            611.99\n",
      "Ireland            563.39\n",
      "Italy              655.49\n",
      "Lithuania          424.27\n",
      "Luxembourg         419.28\n",
      "Latvia             424.63\n",
      "Malta              737.47\n",
      "Netherlands        478.28\n",
      "Poland             453.00\n",
      "Portugal           644.95\n",
      "Romania            585.68\n",
      "Sweden             379.82\n",
      "Slovenia           601.78\n",
      "Slovakia           497.89\n",
      "United Kingdom     629.09\n",
      "Brazil             884.15\n",
      "Canada             124.10\n",
      "China             1211.64\n",
      "India              467.12\n",
      "Japan              853.75\n",
      "South Africa       497.77\n",
      "South Korea        755.24\n",
      "Turkey             401.86\n",
      "USA                366.36\n",
      "Switzerland        531.84\n",
      "Norway             357.69\n",
      "dtype: float64\n",
      "2018\n",
      "EU Av              612.04\n",
      "EU Max             855.53\n",
      "EU Min             446.40\n",
      "Austria            555.35\n",
      "Belgium            662.89\n",
      "Bulgaria           478.42\n",
      "Czech Republic     551.99\n",
      "Germany            533.44\n",
      "Denmark            541.16\n",
      "Estonia            564.52\n",
      "Greece             724.03\n",
      "Spain              687.43\n",
      "Finland            561.29\n",
      "France             602.36\n",
      "Croatia            623.01\n",
      "Hungary            611.26\n",
      "Ireland            742.82\n",
      "Italy              735.41\n",
      "Lithuania          598.27\n",
      "Luxembourg         533.44\n",
      "Latvia             599.53\n",
      "Malta              832.82\n",
      "Netherlands        629.78\n",
      "Poland             629.03\n",
      "Portugal           689.27\n",
      "Romania            556.90\n",
      "Sweden             534.14\n",
      "Slovenia           613.32\n",
      "Slovakia           581.26\n",
      "United Kingdom     778.26\n",
      "Brazil             754.38\n",
      "Canada             187.63\n",
      "China             1138.64\n",
      "India              584.20\n",
      "Japan             1015.44\n",
      "South Africa       501.71\n",
      "South Korea        878.49\n",
      "Turkey             487.22\n",
      "USA                453.01\n",
      "Switzerland        626.45\n",
      "Norway             527.57\n",
      "dtype: float64\n",
      "2019\n",
      "EU Av              510.90\n",
      "EU Max             773.81\n",
      "EU Min             405.11\n",
      "Austria              0.00\n",
      "Belgium              0.00\n",
      "Bulgaria             0.00\n",
      "Czech Republic     474.52\n",
      "Germany            444.64\n",
      "Denmark            462.20\n",
      "Estonia            540.92\n",
      "Greece             752.85\n",
      "Spain              562.72\n",
      "Finland            519.42\n",
      "France             465.70\n",
      "Croatia              0.00\n",
      "Hungary            593.46\n",
      "Ireland              0.00\n",
      "Italy              617.45\n",
      "Lithuania          544.06\n",
      "Luxembourg           0.00\n",
      "Latvia             545.87\n",
      "Malta              740.27\n",
      "Netherlands          0.00\n",
      "Poland               0.00\n",
      "Portugal             0.00\n",
      "Romania            593.57\n",
      "Sweden             452.77\n",
      "Slovenia             0.00\n",
      "Slovakia           489.70\n",
      "United Kingdom     578.23\n",
      "Brazil             518.71\n",
      "Canada             136.68\n",
      "China             1010.41\n",
      "India              444.66\n",
      "Japan              776.22\n",
      "South Africa       699.72\n",
      "South Korea        832.91\n",
      "Turkey             470.57\n",
      "USA                355.32\n",
      "Switzerland          0.00\n",
      "Norway             459.57\n",
      "dtype: float64\n"
     ]
    }
   ],
   "source": [
    "for year, yearly_data in yearly_groups:\n",
    "    print(year)\n",
    "    print(yearly_data.sum()) # Some methodology for each group's values\n",
    "                             # E.g. display a graph"
   ]
  },
  {
   "cell_type": "markdown",
   "id": "8f38fcfb",
   "metadata": {
    "heading_collapsed": true,
    "hidden": true
   },
   "source": [
    "### With aggregation"
   ]
  },
  {
   "cell_type": "markdown",
   "id": "268ed571",
   "metadata": {
    "hidden": true
   },
   "source": [
    "You can also add aggregation functions to the groupby statement"
   ]
  },
  {
   "cell_type": "code",
   "execution_count": 53,
   "id": "88269098",
   "metadata": {
    "hidden": true
   },
   "outputs": [],
   "source": [
    "yearly_sums = data.groupby(data.index.year).sum()"
   ]
  },
  {
   "cell_type": "code",
   "execution_count": 54,
   "id": "6d64d8c2",
   "metadata": {
    "hidden": true
   },
   "outputs": [
    {
     "data": {
      "text/html": [
       "<div>\n",
       "<style scoped>\n",
       "    .dataframe tbody tr th:only-of-type {\n",
       "        vertical-align: middle;\n",
       "    }\n",
       "\n",
       "    .dataframe tbody tr th {\n",
       "        vertical-align: top;\n",
       "    }\n",
       "\n",
       "    .dataframe thead th {\n",
       "        text-align: right;\n",
       "    }\n",
       "</style>\n",
       "<table border=\"1\" class=\"dataframe\">\n",
       "  <thead>\n",
       "    <tr style=\"text-align: right;\">\n",
       "      <th></th>\n",
       "      <th>EU Av</th>\n",
       "      <th>EU Max</th>\n",
       "      <th>EU Min</th>\n",
       "      <th>Austria</th>\n",
       "      <th>Belgium</th>\n",
       "      <th>Bulgaria</th>\n",
       "      <th>Czech Republic</th>\n",
       "      <th>Germany</th>\n",
       "      <th>Denmark</th>\n",
       "      <th>Estonia</th>\n",
       "      <th>...</th>\n",
       "      <th>Canada</th>\n",
       "      <th>China</th>\n",
       "      <th>India</th>\n",
       "      <th>Japan</th>\n",
       "      <th>South Africa</th>\n",
       "      <th>South Korea</th>\n",
       "      <th>Turkey</th>\n",
       "      <th>USA</th>\n",
       "      <th>Switzerland</th>\n",
       "      <th>Norway</th>\n",
       "    </tr>\n",
       "    <tr>\n",
       "      <th>Date</th>\n",
       "      <th></th>\n",
       "      <th></th>\n",
       "      <th></th>\n",
       "      <th></th>\n",
       "      <th></th>\n",
       "      <th></th>\n",
       "      <th></th>\n",
       "      <th></th>\n",
       "      <th></th>\n",
       "      <th></th>\n",
       "      <th></th>\n",
       "      <th></th>\n",
       "      <th></th>\n",
       "      <th></th>\n",
       "      <th></th>\n",
       "      <th></th>\n",
       "      <th></th>\n",
       "      <th></th>\n",
       "      <th></th>\n",
       "      <th></th>\n",
       "      <th></th>\n",
       "    </tr>\n",
       "  </thead>\n",
       "  <tbody>\n",
       "    <tr>\n",
       "      <th>2008</th>\n",
       "      <td>911.28</td>\n",
       "      <td>1594.00</td>\n",
       "      <td>625.11</td>\n",
       "      <td>883.95</td>\n",
       "      <td>941.92</td>\n",
       "      <td>0.00</td>\n",
       "      <td>0.00</td>\n",
       "      <td>877.36</td>\n",
       "      <td>1200.00</td>\n",
       "      <td>0.00</td>\n",
       "      <td>...</td>\n",
       "      <td>459.93</td>\n",
       "      <td>1371.24</td>\n",
       "      <td>1129.26</td>\n",
       "      <td>1051.62</td>\n",
       "      <td>0.00</td>\n",
       "      <td>1349.13</td>\n",
       "      <td>0.00</td>\n",
       "      <td>905.70</td>\n",
       "      <td>992.14</td>\n",
       "      <td>586.98</td>\n",
       "    </tr>\n",
       "    <tr>\n",
       "      <th>2009</th>\n",
       "      <td>570.48</td>\n",
       "      <td>1163.13</td>\n",
       "      <td>415.56</td>\n",
       "      <td>516.31</td>\n",
       "      <td>520.52</td>\n",
       "      <td>0.00</td>\n",
       "      <td>130.97</td>\n",
       "      <td>513.76</td>\n",
       "      <td>1200.00</td>\n",
       "      <td>0.00</td>\n",
       "      <td>...</td>\n",
       "      <td>283.01</td>\n",
       "      <td>1434.83</td>\n",
       "      <td>1407.18</td>\n",
       "      <td>595.14</td>\n",
       "      <td>0.00</td>\n",
       "      <td>1112.12</td>\n",
       "      <td>0.00</td>\n",
       "      <td>464.06</td>\n",
       "      <td>634.38</td>\n",
       "      <td>463.43</td>\n",
       "    </tr>\n",
       "    <tr>\n",
       "      <th>2010</th>\n",
       "      <td>630.57</td>\n",
       "      <td>1189.92</td>\n",
       "      <td>420.95</td>\n",
       "      <td>587.85</td>\n",
       "      <td>607.35</td>\n",
       "      <td>0.00</td>\n",
       "      <td>573.13</td>\n",
       "      <td>583.50</td>\n",
       "      <td>679.83</td>\n",
       "      <td>455.78</td>\n",
       "      <td>...</td>\n",
       "      <td>332.88</td>\n",
       "      <td>1408.67</td>\n",
       "      <td>807.03</td>\n",
       "      <td>726.00</td>\n",
       "      <td>0.00</td>\n",
       "      <td>1210.70</td>\n",
       "      <td>0.00</td>\n",
       "      <td>511.98</td>\n",
       "      <td>669.67</td>\n",
       "      <td>697.41</td>\n",
       "    </tr>\n",
       "    <tr>\n",
       "      <th>2011</th>\n",
       "      <td>691.03</td>\n",
       "      <td>1207.73</td>\n",
       "      <td>512.22</td>\n",
       "      <td>674.31</td>\n",
       "      <td>641.50</td>\n",
       "      <td>0.00</td>\n",
       "      <td>656.84</td>\n",
       "      <td>664.06</td>\n",
       "      <td>632.60</td>\n",
       "      <td>563.15</td>\n",
       "      <td>...</td>\n",
       "      <td>269.35</td>\n",
       "      <td>1320.94</td>\n",
       "      <td>715.88</td>\n",
       "      <td>1126.25</td>\n",
       "      <td>0.00</td>\n",
       "      <td>1281.24</td>\n",
       "      <td>48.53</td>\n",
       "      <td>464.62</td>\n",
       "      <td>730.07</td>\n",
       "      <td>612.03</td>\n",
       "    </tr>\n",
       "    <tr>\n",
       "      <th>2012</th>\n",
       "      <td>621.59</td>\n",
       "      <td>1220.68</td>\n",
       "      <td>402.96</td>\n",
       "      <td>554.90</td>\n",
       "      <td>603.41</td>\n",
       "      <td>0.00</td>\n",
       "      <td>544.48</td>\n",
       "      <td>546.85</td>\n",
       "      <td>475.48</td>\n",
       "      <td>502.85</td>\n",
       "      <td>...</td>\n",
       "      <td>202.57</td>\n",
       "      <td>1325.05</td>\n",
       "      <td>657.48</td>\n",
       "      <td>1424.03</td>\n",
       "      <td>0.00</td>\n",
       "      <td>1612.95</td>\n",
       "      <td>538.51</td>\n",
       "      <td>382.27</td>\n",
       "      <td>636.70</td>\n",
       "      <td>401.31</td>\n",
       "    </tr>\n",
       "    <tr>\n",
       "      <th>2013</th>\n",
       "      <td>559.16</td>\n",
       "      <td>1173.56</td>\n",
       "      <td>395.28</td>\n",
       "      <td>480.87</td>\n",
       "      <td>601.71</td>\n",
       "      <td>0.00</td>\n",
       "      <td>465.77</td>\n",
       "      <td>479.01</td>\n",
       "      <td>498.01</td>\n",
       "      <td>550.43</td>\n",
       "      <td>...</td>\n",
       "      <td>219.33</td>\n",
       "      <td>1299.80</td>\n",
       "      <td>494.88</td>\n",
       "      <td>1501.14</td>\n",
       "      <td>0.00</td>\n",
       "      <td>1513.55</td>\n",
       "      <td>510.84</td>\n",
       "      <td>501.21</td>\n",
       "      <td>567.21</td>\n",
       "      <td>482.59</td>\n",
       "    </tr>\n",
       "    <tr>\n",
       "      <th>2014</th>\n",
       "      <td>487.54</td>\n",
       "      <td>1014.18</td>\n",
       "      <td>342.88</td>\n",
       "      <td>412.63</td>\n",
       "      <td>511.76</td>\n",
       "      <td>0.00</td>\n",
       "      <td>413.67</td>\n",
       "      <td>411.26</td>\n",
       "      <td>394.05</td>\n",
       "      <td>471.46</td>\n",
       "      <td>...</td>\n",
       "      <td>283.84</td>\n",
       "      <td>1302.05</td>\n",
       "      <td>608.23</td>\n",
       "      <td>1500.27</td>\n",
       "      <td>0.00</td>\n",
       "      <td>1405.94</td>\n",
       "      <td>520.18</td>\n",
       "      <td>576.27</td>\n",
       "      <td>462.13</td>\n",
       "      <td>371.42</td>\n",
       "    </tr>\n",
       "    <tr>\n",
       "      <th>2015</th>\n",
       "      <td>484.00</td>\n",
       "      <td>721.40</td>\n",
       "      <td>269.71</td>\n",
       "      <td>391.95</td>\n",
       "      <td>555.80</td>\n",
       "      <td>0.00</td>\n",
       "      <td>400.49</td>\n",
       "      <td>392.11</td>\n",
       "      <td>294.08</td>\n",
       "      <td>384.91</td>\n",
       "      <td>...</td>\n",
       "      <td>191.11</td>\n",
       "      <td>1299.87</td>\n",
       "      <td>467.44</td>\n",
       "      <td>1009.51</td>\n",
       "      <td>691.74</td>\n",
       "      <td>978.87</td>\n",
       "      <td>405.69</td>\n",
       "      <td>376.39</td>\n",
       "      <td>499.52</td>\n",
       "      <td>260.47</td>\n",
       "    </tr>\n",
       "    <tr>\n",
       "      <th>2016</th>\n",
       "      <td>429.44</td>\n",
       "      <td>625.06</td>\n",
       "      <td>332.71</td>\n",
       "      <td>358.56</td>\n",
       "      <td>451.87</td>\n",
       "      <td>386.17</td>\n",
       "      <td>383.38</td>\n",
       "      <td>355.36</td>\n",
       "      <td>343.75</td>\n",
       "      <td>405.68</td>\n",
       "      <td>...</td>\n",
       "      <td>133.30</td>\n",
       "      <td>1271.00</td>\n",
       "      <td>385.78</td>\n",
       "      <td>725.77</td>\n",
       "      <td>798.28</td>\n",
       "      <td>727.20</td>\n",
       "      <td>380.32</td>\n",
       "      <td>322.87</td>\n",
       "      <td>464.53</td>\n",
       "      <td>329.97</td>\n",
       "    </tr>\n",
       "    <tr>\n",
       "      <th>2017</th>\n",
       "      <td>516.91</td>\n",
       "      <td>766.21</td>\n",
       "      <td>366.46</td>\n",
       "      <td>422.47</td>\n",
       "      <td>542.91</td>\n",
       "      <td>477.54</td>\n",
       "      <td>445.74</td>\n",
       "      <td>419.28</td>\n",
       "      <td>377.15</td>\n",
       "      <td>403.70</td>\n",
       "      <td>...</td>\n",
       "      <td>124.10</td>\n",
       "      <td>1211.64</td>\n",
       "      <td>467.12</td>\n",
       "      <td>853.75</td>\n",
       "      <td>497.77</td>\n",
       "      <td>755.24</td>\n",
       "      <td>401.86</td>\n",
       "      <td>366.36</td>\n",
       "      <td>531.84</td>\n",
       "      <td>357.69</td>\n",
       "    </tr>\n",
       "    <tr>\n",
       "      <th>2018</th>\n",
       "      <td>612.04</td>\n",
       "      <td>855.53</td>\n",
       "      <td>446.40</td>\n",
       "      <td>555.35</td>\n",
       "      <td>662.89</td>\n",
       "      <td>478.42</td>\n",
       "      <td>551.99</td>\n",
       "      <td>533.44</td>\n",
       "      <td>541.16</td>\n",
       "      <td>564.52</td>\n",
       "      <td>...</td>\n",
       "      <td>187.63</td>\n",
       "      <td>1138.64</td>\n",
       "      <td>584.20</td>\n",
       "      <td>1015.44</td>\n",
       "      <td>501.71</td>\n",
       "      <td>878.49</td>\n",
       "      <td>487.22</td>\n",
       "      <td>453.01</td>\n",
       "      <td>626.45</td>\n",
       "      <td>527.57</td>\n",
       "    </tr>\n",
       "    <tr>\n",
       "      <th>2019</th>\n",
       "      <td>510.90</td>\n",
       "      <td>773.81</td>\n",
       "      <td>405.11</td>\n",
       "      <td>0.00</td>\n",
       "      <td>0.00</td>\n",
       "      <td>0.00</td>\n",
       "      <td>474.52</td>\n",
       "      <td>444.64</td>\n",
       "      <td>462.20</td>\n",
       "      <td>540.92</td>\n",
       "      <td>...</td>\n",
       "      <td>136.68</td>\n",
       "      <td>1010.41</td>\n",
       "      <td>444.66</td>\n",
       "      <td>776.22</td>\n",
       "      <td>699.72</td>\n",
       "      <td>832.91</td>\n",
       "      <td>470.57</td>\n",
       "      <td>355.32</td>\n",
       "      <td>0.00</td>\n",
       "      <td>459.57</td>\n",
       "    </tr>\n",
       "  </tbody>\n",
       "</table>\n",
       "<p>12 rows × 41 columns</p>\n",
       "</div>"
      ],
      "text/plain": [
       "       EU Av   EU Max  EU Min  Austria  Belgium  Bulgaria  Czech Republic  \\\n",
       "Date                                                                        \n",
       "2008  911.28  1594.00  625.11   883.95   941.92      0.00            0.00   \n",
       "2009  570.48  1163.13  415.56   516.31   520.52      0.00          130.97   \n",
       "2010  630.57  1189.92  420.95   587.85   607.35      0.00          573.13   \n",
       "2011  691.03  1207.73  512.22   674.31   641.50      0.00          656.84   \n",
       "2012  621.59  1220.68  402.96   554.90   603.41      0.00          544.48   \n",
       "2013  559.16  1173.56  395.28   480.87   601.71      0.00          465.77   \n",
       "2014  487.54  1014.18  342.88   412.63   511.76      0.00          413.67   \n",
       "2015  484.00   721.40  269.71   391.95   555.80      0.00          400.49   \n",
       "2016  429.44   625.06  332.71   358.56   451.87    386.17          383.38   \n",
       "2017  516.91   766.21  366.46   422.47   542.91    477.54          445.74   \n",
       "2018  612.04   855.53  446.40   555.35   662.89    478.42          551.99   \n",
       "2019  510.90   773.81  405.11     0.00     0.00      0.00          474.52   \n",
       "\n",
       "      Germany  Denmark  Estonia  ...  Canada    China    India    Japan  \\\n",
       "Date                             ...                                      \n",
       "2008   877.36  1200.00     0.00  ...  459.93  1371.24  1129.26  1051.62   \n",
       "2009   513.76  1200.00     0.00  ...  283.01  1434.83  1407.18   595.14   \n",
       "2010   583.50   679.83   455.78  ...  332.88  1408.67   807.03   726.00   \n",
       "2011   664.06   632.60   563.15  ...  269.35  1320.94   715.88  1126.25   \n",
       "2012   546.85   475.48   502.85  ...  202.57  1325.05   657.48  1424.03   \n",
       "2013   479.01   498.01   550.43  ...  219.33  1299.80   494.88  1501.14   \n",
       "2014   411.26   394.05   471.46  ...  283.84  1302.05   608.23  1500.27   \n",
       "2015   392.11   294.08   384.91  ...  191.11  1299.87   467.44  1009.51   \n",
       "2016   355.36   343.75   405.68  ...  133.30  1271.00   385.78   725.77   \n",
       "2017   419.28   377.15   403.70  ...  124.10  1211.64   467.12   853.75   \n",
       "2018   533.44   541.16   564.52  ...  187.63  1138.64   584.20  1015.44   \n",
       "2019   444.64   462.20   540.92  ...  136.68  1010.41   444.66   776.22   \n",
       "\n",
       "      South Africa  South Korea  Turkey     USA  Switzerland  Norway  \n",
       "Date                                                                  \n",
       "2008          0.00      1349.13    0.00  905.70       992.14  586.98  \n",
       "2009          0.00      1112.12    0.00  464.06       634.38  463.43  \n",
       "2010          0.00      1210.70    0.00  511.98       669.67  697.41  \n",
       "2011          0.00      1281.24   48.53  464.62       730.07  612.03  \n",
       "2012          0.00      1612.95  538.51  382.27       636.70  401.31  \n",
       "2013          0.00      1513.55  510.84  501.21       567.21  482.59  \n",
       "2014          0.00      1405.94  520.18  576.27       462.13  371.42  \n",
       "2015        691.74       978.87  405.69  376.39       499.52  260.47  \n",
       "2016        798.28       727.20  380.32  322.87       464.53  329.97  \n",
       "2017        497.77       755.24  401.86  366.36       531.84  357.69  \n",
       "2018        501.71       878.49  487.22  453.01       626.45  527.57  \n",
       "2019        699.72       832.91  470.57  355.32         0.00  459.57  \n",
       "\n",
       "[12 rows x 41 columns]"
      ]
     },
     "execution_count": 54,
     "metadata": {},
     "output_type": "execute_result"
    }
   ],
   "source": [
    "yearly_sums"
   ]
  },
  {
   "cell_type": "markdown",
   "id": "fee3dab0",
   "metadata": {
    "heading_collapsed": true,
    "hidden": true
   },
   "source": [
    "### With specific column aggregation"
   ]
  },
  {
   "cell_type": "markdown",
   "id": "53505cb0",
   "metadata": {
    "hidden": true
   },
   "source": [
    "By chaining the `.agg` method & feeding it a dictionary `{col_name : agg_method}`"
   ]
  },
  {
   "cell_type": "code",
   "execution_count": 55,
   "id": "1f2f8600",
   "metadata": {
    "hidden": true
   },
   "outputs": [],
   "source": [
    "yearly_data = data.groupby(data.index.month).agg({'EU Av':'mean',\n",
    "                                                  'EU Max': 'max',\n",
    "                                                  'EU Min': 'min'})"
   ]
  },
  {
   "cell_type": "code",
   "execution_count": 56,
   "id": "f6e86d88",
   "metadata": {
    "hidden": true
   },
   "outputs": [
    {
     "data": {
      "text/html": [
       "<div>\n",
       "<style scoped>\n",
       "    .dataframe tbody tr th:only-of-type {\n",
       "        vertical-align: middle;\n",
       "    }\n",
       "\n",
       "    .dataframe tbody tr th {\n",
       "        vertical-align: top;\n",
       "    }\n",
       "\n",
       "    .dataframe thead th {\n",
       "        text-align: right;\n",
       "    }\n",
       "</style>\n",
       "<table border=\"1\" class=\"dataframe\">\n",
       "  <thead>\n",
       "    <tr style=\"text-align: right;\">\n",
       "      <th></th>\n",
       "      <th>EU Av</th>\n",
       "      <th>EU Max</th>\n",
       "      <th>EU Min</th>\n",
       "    </tr>\n",
       "    <tr>\n",
       "      <th>Date</th>\n",
       "      <th></th>\n",
       "      <th></th>\n",
       "      <th></th>\n",
       "    </tr>\n",
       "  </thead>\n",
       "  <tbody>\n",
       "    <tr>\n",
       "      <th>1</th>\n",
       "      <td>52.187500</td>\n",
       "      <td>123.92</td>\n",
       "      <td>28.31</td>\n",
       "    </tr>\n",
       "    <tr>\n",
       "      <th>2</th>\n",
       "      <td>50.774167</td>\n",
       "      <td>116.08</td>\n",
       "      <td>16.09</td>\n",
       "    </tr>\n",
       "    <tr>\n",
       "      <th>3</th>\n",
       "      <td>45.146667</td>\n",
       "      <td>97.86</td>\n",
       "      <td>21.47</td>\n",
       "    </tr>\n",
       "    <tr>\n",
       "      <th>4</th>\n",
       "      <td>44.198333</td>\n",
       "      <td>114.52</td>\n",
       "      <td>16.97</td>\n",
       "    </tr>\n",
       "    <tr>\n",
       "      <th>5</th>\n",
       "      <td>43.513333</td>\n",
       "      <td>146.81</td>\n",
       "      <td>23.05</td>\n",
       "    </tr>\n",
       "    <tr>\n",
       "      <th>6</th>\n",
       "      <td>45.325000</td>\n",
       "      <td>131.09</td>\n",
       "      <td>15.77</td>\n",
       "    </tr>\n",
       "    <tr>\n",
       "      <th>7</th>\n",
       "      <td>48.073333</td>\n",
       "      <td>170.85</td>\n",
       "      <td>9.35</td>\n",
       "    </tr>\n",
       "    <tr>\n",
       "      <th>8</th>\n",
       "      <td>47.796667</td>\n",
       "      <td>173.56</td>\n",
       "      <td>17.21</td>\n",
       "    </tr>\n",
       "    <tr>\n",
       "      <th>9</th>\n",
       "      <td>52.001667</td>\n",
       "      <td>161.82</td>\n",
       "      <td>21.58</td>\n",
       "    </tr>\n",
       "    <tr>\n",
       "      <th>10</th>\n",
       "      <td>53.924167</td>\n",
       "      <td>147.24</td>\n",
       "      <td>24.37</td>\n",
       "    </tr>\n",
       "    <tr>\n",
       "      <th>11</th>\n",
       "      <td>52.405833</td>\n",
       "      <td>121.65</td>\n",
       "      <td>26.50</td>\n",
       "    </tr>\n",
       "    <tr>\n",
       "      <th>12</th>\n",
       "      <td>50.065000</td>\n",
       "      <td>117.67</td>\n",
       "      <td>19.88</td>\n",
       "    </tr>\n",
       "  </tbody>\n",
       "</table>\n",
       "</div>"
      ],
      "text/plain": [
       "          EU Av  EU Max  EU Min\n",
       "Date                           \n",
       "1     52.187500  123.92   28.31\n",
       "2     50.774167  116.08   16.09\n",
       "3     45.146667   97.86   21.47\n",
       "4     44.198333  114.52   16.97\n",
       "5     43.513333  146.81   23.05\n",
       "6     45.325000  131.09   15.77\n",
       "7     48.073333  170.85    9.35\n",
       "8     47.796667  173.56   17.21\n",
       "9     52.001667  161.82   21.58\n",
       "10    53.924167  147.24   24.37\n",
       "11    52.405833  121.65   26.50\n",
       "12    50.065000  117.67   19.88"
      ]
     },
     "execution_count": 56,
     "metadata": {},
     "output_type": "execute_result"
    }
   ],
   "source": [
    "yearly_data"
   ]
  },
  {
   "cell_type": "markdown",
   "id": "1b70f2c2",
   "metadata": {
    "heading_collapsed": true,
    "hidden": true
   },
   "source": [
    "## Resample"
   ]
  },
  {
   "cell_type": "markdown",
   "id": "fe0d0fef",
   "metadata": {
    "hidden": true
   },
   "source": [
    "Similar to groupby for timeseries indices only"
   ]
  },
  {
   "cell_type": "code",
   "execution_count": 57,
   "id": "c41219b5",
   "metadata": {
    "hidden": true
   },
   "outputs": [],
   "source": [
    "yearly_data = data.resample('Y').sum()"
   ]
  },
  {
   "cell_type": "code",
   "execution_count": 58,
   "id": "e750d941",
   "metadata": {
    "hidden": true
   },
   "outputs": [
    {
     "data": {
      "text/html": [
       "<div>\n",
       "<style scoped>\n",
       "    .dataframe tbody tr th:only-of-type {\n",
       "        vertical-align: middle;\n",
       "    }\n",
       "\n",
       "    .dataframe tbody tr th {\n",
       "        vertical-align: top;\n",
       "    }\n",
       "\n",
       "    .dataframe thead th {\n",
       "        text-align: right;\n",
       "    }\n",
       "</style>\n",
       "<table border=\"1\" class=\"dataframe\">\n",
       "  <thead>\n",
       "    <tr style=\"text-align: right;\">\n",
       "      <th></th>\n",
       "      <th>EU Av</th>\n",
       "      <th>EU Max</th>\n",
       "      <th>EU Min</th>\n",
       "      <th>Austria</th>\n",
       "      <th>Belgium</th>\n",
       "      <th>Bulgaria</th>\n",
       "      <th>Czech Republic</th>\n",
       "      <th>Germany</th>\n",
       "      <th>Denmark</th>\n",
       "      <th>Estonia</th>\n",
       "      <th>...</th>\n",
       "      <th>Canada</th>\n",
       "      <th>China</th>\n",
       "      <th>India</th>\n",
       "      <th>Japan</th>\n",
       "      <th>South Africa</th>\n",
       "      <th>South Korea</th>\n",
       "      <th>Turkey</th>\n",
       "      <th>USA</th>\n",
       "      <th>Switzerland</th>\n",
       "      <th>Norway</th>\n",
       "    </tr>\n",
       "    <tr>\n",
       "      <th>Date</th>\n",
       "      <th></th>\n",
       "      <th></th>\n",
       "      <th></th>\n",
       "      <th></th>\n",
       "      <th></th>\n",
       "      <th></th>\n",
       "      <th></th>\n",
       "      <th></th>\n",
       "      <th></th>\n",
       "      <th></th>\n",
       "      <th></th>\n",
       "      <th></th>\n",
       "      <th></th>\n",
       "      <th></th>\n",
       "      <th></th>\n",
       "      <th></th>\n",
       "      <th></th>\n",
       "      <th></th>\n",
       "      <th></th>\n",
       "      <th></th>\n",
       "      <th></th>\n",
       "    </tr>\n",
       "  </thead>\n",
       "  <tbody>\n",
       "    <tr>\n",
       "      <th>2008-12-31</th>\n",
       "      <td>911.28</td>\n",
       "      <td>1594.00</td>\n",
       "      <td>625.11</td>\n",
       "      <td>883.95</td>\n",
       "      <td>941.92</td>\n",
       "      <td>0.0</td>\n",
       "      <td>0.00</td>\n",
       "      <td>877.36</td>\n",
       "      <td>1200.00</td>\n",
       "      <td>0.00</td>\n",
       "      <td>...</td>\n",
       "      <td>459.93</td>\n",
       "      <td>1371.24</td>\n",
       "      <td>1129.26</td>\n",
       "      <td>1051.62</td>\n",
       "      <td>0.0</td>\n",
       "      <td>1349.13</td>\n",
       "      <td>0.0</td>\n",
       "      <td>905.70</td>\n",
       "      <td>992.14</td>\n",
       "      <td>586.98</td>\n",
       "    </tr>\n",
       "    <tr>\n",
       "      <th>2009-12-31</th>\n",
       "      <td>570.48</td>\n",
       "      <td>1163.13</td>\n",
       "      <td>415.56</td>\n",
       "      <td>516.31</td>\n",
       "      <td>520.52</td>\n",
       "      <td>0.0</td>\n",
       "      <td>130.97</td>\n",
       "      <td>513.76</td>\n",
       "      <td>1200.00</td>\n",
       "      <td>0.00</td>\n",
       "      <td>...</td>\n",
       "      <td>283.01</td>\n",
       "      <td>1434.83</td>\n",
       "      <td>1407.18</td>\n",
       "      <td>595.14</td>\n",
       "      <td>0.0</td>\n",
       "      <td>1112.12</td>\n",
       "      <td>0.0</td>\n",
       "      <td>464.06</td>\n",
       "      <td>634.38</td>\n",
       "      <td>463.43</td>\n",
       "    </tr>\n",
       "    <tr>\n",
       "      <th>2010-12-31</th>\n",
       "      <td>630.57</td>\n",
       "      <td>1189.92</td>\n",
       "      <td>420.95</td>\n",
       "      <td>587.85</td>\n",
       "      <td>607.35</td>\n",
       "      <td>0.0</td>\n",
       "      <td>573.13</td>\n",
       "      <td>583.50</td>\n",
       "      <td>679.83</td>\n",
       "      <td>455.78</td>\n",
       "      <td>...</td>\n",
       "      <td>332.88</td>\n",
       "      <td>1408.67</td>\n",
       "      <td>807.03</td>\n",
       "      <td>726.00</td>\n",
       "      <td>0.0</td>\n",
       "      <td>1210.70</td>\n",
       "      <td>0.0</td>\n",
       "      <td>511.98</td>\n",
       "      <td>669.67</td>\n",
       "      <td>697.41</td>\n",
       "    </tr>\n",
       "  </tbody>\n",
       "</table>\n",
       "<p>3 rows × 41 columns</p>\n",
       "</div>"
      ],
      "text/plain": [
       "             EU Av   EU Max  EU Min  Austria  Belgium  Bulgaria  \\\n",
       "Date                                                              \n",
       "2008-12-31  911.28  1594.00  625.11   883.95   941.92       0.0   \n",
       "2009-12-31  570.48  1163.13  415.56   516.31   520.52       0.0   \n",
       "2010-12-31  630.57  1189.92  420.95   587.85   607.35       0.0   \n",
       "\n",
       "            Czech Republic  Germany  Denmark  Estonia  ...  Canada    China  \\\n",
       "Date                                                   ...                    \n",
       "2008-12-31            0.00   877.36  1200.00     0.00  ...  459.93  1371.24   \n",
       "2009-12-31          130.97   513.76  1200.00     0.00  ...  283.01  1434.83   \n",
       "2010-12-31          573.13   583.50   679.83   455.78  ...  332.88  1408.67   \n",
       "\n",
       "              India    Japan  South Africa  South Korea  Turkey     USA  \\\n",
       "Date                                                                      \n",
       "2008-12-31  1129.26  1051.62           0.0      1349.13     0.0  905.70   \n",
       "2009-12-31  1407.18   595.14           0.0      1112.12     0.0  464.06   \n",
       "2010-12-31   807.03   726.00           0.0      1210.70     0.0  511.98   \n",
       "\n",
       "            Switzerland  Norway  \n",
       "Date                             \n",
       "2008-12-31       992.14  586.98  \n",
       "2009-12-31       634.38  463.43  \n",
       "2010-12-31       669.67  697.41  \n",
       "\n",
       "[3 rows x 41 columns]"
      ]
     },
     "execution_count": 58,
     "metadata": {},
     "output_type": "execute_result"
    }
   ],
   "source": [
    "yearly_data.head(3)"
   ]
  },
  {
   "cell_type": "markdown",
   "id": "1a962adb",
   "metadata": {
    "heading_collapsed": true
   },
   "source": [
    "# Exporting to Excel"
   ]
  },
  {
   "cell_type": "markdown",
   "id": "c1fc99ac",
   "metadata": {
    "heading_collapsed": true,
    "hidden": true
   },
   "source": [
    "## Documentation"
   ]
  },
  {
   "cell_type": "markdown",
   "id": "a424e409",
   "metadata": {
    "hidden": true
   },
   "source": [
    "[Documentation](https://pandas.pydata.org/pandas-docs/stable/reference/api/pandas.DataFrame.to_csv.html) of `to_csv` function"
   ]
  },
  {
   "cell_type": "markdown",
   "id": "eed37fa9",
   "metadata": {
    "heading_collapsed": true,
    "hidden": true
   },
   "source": [
    "## Exporting as excel file (.xlsx)"
   ]
  },
  {
   "cell_type": "code",
   "execution_count": 59,
   "id": "d420e0d4",
   "metadata": {
    "hidden": true
   },
   "outputs": [],
   "source": [
    "data.to_excel('File name.xlsx') # Note the file format added at the end of file name!"
   ]
  },
  {
   "cell_type": "markdown",
   "id": "507f7df3",
   "metadata": {
    "heading_collapsed": true,
    "hidden": true
   },
   "source": [
    "## Exporting as csv file (.csv)"
   ]
  },
  {
   "cell_type": "code",
   "execution_count": 60,
   "id": "c7176815",
   "metadata": {
    "hidden": true
   },
   "outputs": [],
   "source": [
    "data.to_csv('File name.csv') # Note the file format added at the end of file name!"
   ]
  },
  {
   "cell_type": "markdown",
   "id": "a379b7b0",
   "metadata": {
    "heading_collapsed": true,
    "hidden": true
   },
   "source": [
    "## Exporting specific columns of DataFrame"
   ]
  },
  {
   "cell_type": "code",
   "execution_count": 61,
   "id": "bc30d309",
   "metadata": {
    "hidden": true
   },
   "outputs": [],
   "source": [
    "data[['EU Av','EU Max','EU Min']].to_csv('EU_data.csv')"
   ]
  }
 ],
 "metadata": {
  "kernelspec": {
   "display_name": "Python 3 (ipykernel)",
   "language": "python",
   "name": "python3"
  },
  "language_info": {
   "codemirror_mode": {
    "name": "ipython",
    "version": 3
   },
   "file_extension": ".py",
   "mimetype": "text/x-python",
   "name": "python",
   "nbconvert_exporter": "python",
   "pygments_lexer": "ipython3",
   "version": "3.10.1"
  },
  "toc": {
   "base_numbering": 1,
   "nav_menu": {},
   "number_sections": true,
   "sideBar": true,
   "skip_h1_title": false,
   "title_cell": "Table of Contents",
   "title_sidebar": "Contents",
   "toc_cell": false,
   "toc_position": {
    "height": "calc(100% - 180px)",
    "left": "10px",
    "top": "150px",
    "width": "305px"
   },
   "toc_section_display": true,
   "toc_window_display": true
  }
 },
 "nbformat": 4,
 "nbformat_minor": 5
}
